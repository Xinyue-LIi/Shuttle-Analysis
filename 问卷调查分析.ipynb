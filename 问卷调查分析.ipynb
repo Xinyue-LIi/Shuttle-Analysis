{
 "cells": [
  {
   "cell_type": "code",
   "execution_count": 1,
   "id": "8c554792",
   "metadata": {},
   "outputs": [],
   "source": [
    "import pandas as pd\n",
    "import matplotlib.pyplot as plt\n",
    "from datetime import datetime, timedelta\n",
    "from geopy.distance import geodesic\n",
    "import numpy as np\n",
    "from warnings import simplefilter\n",
    "# ignore all future warnings\n",
    "simplefilter(action='ignore', category=FutureWarning)"
   ]
  },
  {
   "cell_type": "code",
   "execution_count": 2,
   "id": "044b54c6",
   "metadata": {},
   "outputs": [],
   "source": [
    "route_choice = pd.read_excel('C:/intern/接驳车问卷调查结果分析/班车线路选择.xlsx')\n",
    "survey = pd.read_excel('C:/intern/接驳车问卷调查结果分析/班车问卷调查.xlsx', header = 1)"
   ]
  },
  {
   "cell_type": "markdown",
   "id": "6ac95909",
   "metadata": {},
   "source": [
    "## Part 1"
   ]
  },
  {
   "cell_type": "code",
   "execution_count": 3,
   "id": "62789413",
   "metadata": {
    "scrolled": true
   },
   "outputs": [],
   "source": [
    "route_choice = route_choice.drop(len(route_choice)-1)"
   ]
  },
  {
   "cell_type": "code",
   "execution_count": 4,
   "id": "06ea4391",
   "metadata": {},
   "outputs": [],
   "source": [
    "def get_values_array(choice):\n",
    "    return choice.split(', ')"
   ]
  },
  {
   "cell_type": "code",
   "execution_count": 5,
   "id": "26fd94cb",
   "metadata": {},
   "outputs": [],
   "source": [
    "#find each route count\n",
    "route_counts = {}\n",
    "for index, row in route_choice.iterrows():\n",
    "    current_routes = get_values_array(row['列F'])\n",
    "    current_count = row['计数']\n",
    "    for each_route in current_routes:\n",
    "        if each_route in route_counts.keys():\n",
    "            route_counts[each_route] += current_count\n",
    "        else:\n",
    "            route_counts[each_route] = current_count\n",
    "survey_route_counts = pd.DataFrame(route_counts.items(), columns=['线路', '参与问卷调查人数'])"
   ]
  },
  {
   "cell_type": "code",
   "execution_count": 6,
   "id": "13db6970",
   "metadata": {},
   "outputs": [
    {
     "data": {
      "text/html": [
       "<div>\n",
       "<style scoped>\n",
       "    .dataframe tbody tr th:only-of-type {\n",
       "        vertical-align: middle;\n",
       "    }\n",
       "\n",
       "    .dataframe tbody tr th {\n",
       "        vertical-align: top;\n",
       "    }\n",
       "\n",
       "    .dataframe thead th {\n",
       "        text-align: right;\n",
       "    }\n",
       "</style>\n",
       "<table border=\"1\" class=\"dataframe\">\n",
       "  <thead>\n",
       "    <tr style=\"text-align: right;\">\n",
       "      <th></th>\n",
       "      <th>线路</th>\n",
       "      <th>参与问卷调查人数</th>\n",
       "    </tr>\n",
       "  </thead>\n",
       "  <tbody>\n",
       "    <tr>\n",
       "      <th>0</th>\n",
       "      <td>Y1（临江地铁站-部分经停8849人才公寓/韦恩-云驰街）</td>\n",
       "      <td>55</td>\n",
       "    </tr>\n",
       "    <tr>\n",
       "      <th>1</th>\n",
       "      <td>Y12（云驰街-元通地铁站4号口-云驰街-共享空间-网易数字产业基地-青云大厦-云驰街）</td>\n",
       "      <td>39</td>\n",
       "    </tr>\n",
       "    <tr>\n",
       "      <th>2</th>\n",
       "      <td>Y16（星火路地铁站—行知路雨合路-光电科技园-耀华.网易数字产业基地-云驰街-中科创新广场 ）</td>\n",
       "      <td>73</td>\n",
       "    </tr>\n",
       "    <tr>\n",
       "      <th>3</th>\n",
       "      <td>Y17（云驰街-创智大厦-研发大厦）</td>\n",
       "      <td>11</td>\n",
       "    </tr>\n",
       "    <tr>\n",
       "      <th>4</th>\n",
       "      <td>Y2（盛景华庭-韦恩-云驰街）</td>\n",
       "      <td>36</td>\n",
       "    </tr>\n",
       "    <tr>\n",
       "      <th>5</th>\n",
       "      <td>Y21 (星火路地铁站-南京集成电路大学-工大地铁站-云驰街)</td>\n",
       "      <td>42</td>\n",
       "    </tr>\n",
       "    <tr>\n",
       "      <th>6</th>\n",
       "      <td>Y4（临江地铁站-云驰街-网易数字产业基地-光电科技园-耀华-膜园）</td>\n",
       "      <td>23</td>\n",
       "    </tr>\n",
       "    <tr>\n",
       "      <th>7</th>\n",
       "      <td>Y13（膜园-行知路·雨合路-光电科技园-耀华-云驰街-研发大厦-高新路16号-税务局）</td>\n",
       "      <td>4</td>\n",
       "    </tr>\n",
       "    <tr>\n",
       "      <th>8</th>\n",
       "      <td>Y14（中科创新广场-云驰街）</td>\n",
       "      <td>3</td>\n",
       "    </tr>\n",
       "    <tr>\n",
       "      <th>9</th>\n",
       "      <td>Y15（江北新区候机楼-禄口机场）</td>\n",
       "      <td>2</td>\n",
       "    </tr>\n",
       "    <tr>\n",
       "      <th>10</th>\n",
       "      <td>Y19（星火路地铁口-软件大厦-动漫大厦-新科三路-香溢紫郡-中丹园）</td>\n",
       "      <td>14</td>\n",
       "    </tr>\n",
       "    <tr>\n",
       "      <th>11</th>\n",
       "      <td>Y22(临江地铁站—江苏省产业技术研究院)</td>\n",
       "      <td>6</td>\n",
       "    </tr>\n",
       "    <tr>\n",
       "      <th>12</th>\n",
       "      <td>Y3（成贤地铁站-天浦路南京工业大学公交站-膜园）</td>\n",
       "      <td>2</td>\n",
       "    </tr>\n",
       "    <tr>\n",
       "      <th>13</th>\n",
       "      <td>Y5（云驰街-盛景华庭-张墩路-雨山路地铁站-行知路·雨合路-光电科技园-耀华-膜园）</td>\n",
       "      <td>10</td>\n",
       "    </tr>\n",
       "    <tr>\n",
       "      <th>14</th>\n",
       "      <td>Y6（盛景华庭-张墩路-雨山路地铁站-行知路·雨合路-光电科技园-耀华-膜园）</td>\n",
       "      <td>3</td>\n",
       "    </tr>\n",
       "    <tr>\n",
       "      <th>15</th>\n",
       "      <td>Y7（共享空间-新区管委会-市民中心）</td>\n",
       "      <td>1</td>\n",
       "    </tr>\n",
       "    <tr>\n",
       "      <th>16</th>\n",
       "      <td>Y8（光电科技园-行知路·雨合路-雨山路地铁站）</td>\n",
       "      <td>1</td>\n",
       "    </tr>\n",
       "    <tr>\n",
       "      <th>17</th>\n",
       "      <td>Y9（云驰街-中科创新广场-盛景华庭-张墩路-雨山路地铁站-行知路·雨合路-光电科技园-耀华...</td>\n",
       "      <td>2</td>\n",
       "    </tr>\n",
       "    <tr>\n",
       "      <th>18</th>\n",
       "      <td>Y10（兰花塘地铁站-光电科技园-膜园）</td>\n",
       "      <td>1</td>\n",
       "    </tr>\n",
       "    <tr>\n",
       "      <th>19</th>\n",
       "      <td>Y11（华邑酒店-临江-瑞斯丽酒店-云驰街-铂骊酒店）</td>\n",
       "      <td>1</td>\n",
       "    </tr>\n",
       "    <tr>\n",
       "      <th>20</th>\n",
       "      <td>Y18（东大成贤-研发大厦-高新路.祥和路-爱信诺大厦-北园大厦-高科一路.新科二路-高新科...</td>\n",
       "      <td>1</td>\n",
       "    </tr>\n",
       "    <tr>\n",
       "      <th>21</th>\n",
       "      <td>Y20（研发大厦-创业新村-桐雨路-新科四路-爱信诺大厦-北园大厦-新科二路-星火路地铁站-...</td>\n",
       "      <td>1</td>\n",
       "    </tr>\n",
       "  </tbody>\n",
       "</table>\n",
       "</div>"
      ],
      "text/plain": [
       "                                                   线路  参与问卷调查人数\n",
       "0                       Y1（临江地铁站-部分经停8849人才公寓/韦恩-云驰街）        55\n",
       "1        Y12（云驰街-元通地铁站4号口-云驰街-共享空间-网易数字产业基地-青云大厦-云驰街）        39\n",
       "2    Y16（星火路地铁站—行知路雨合路-光电科技园-耀华.网易数字产业基地-云驰街-中科创新广场 ）        73\n",
       "3                                  Y17（云驰街-创智大厦-研发大厦）        11\n",
       "4                                     Y2（盛景华庭-韦恩-云驰街）        36\n",
       "5                     Y21 (星火路地铁站-南京集成电路大学-工大地铁站-云驰街)        42\n",
       "6                  Y4（临江地铁站-云驰街-网易数字产业基地-光电科技园-耀华-膜园）        23\n",
       "7        Y13（膜园-行知路·雨合路-光电科技园-耀华-云驰街-研发大厦-高新路16号-税务局）         4\n",
       "8                                     Y14（中科创新广场-云驰街）         3\n",
       "9                                   Y15（江北新区候机楼-禄口机场）         2\n",
       "10                Y19（星火路地铁口-软件大厦-动漫大厦-新科三路-香溢紫郡-中丹园）        14\n",
       "11                              Y22(临江地铁站—江苏省产业技术研究院)         6\n",
       "12                          Y3（成贤地铁站-天浦路南京工业大学公交站-膜园）         2\n",
       "13        Y5（云驰街-盛景华庭-张墩路-雨山路地铁站-行知路·雨合路-光电科技园-耀华-膜园）        10\n",
       "14            Y6（盛景华庭-张墩路-雨山路地铁站-行知路·雨合路-光电科技园-耀华-膜园）         3\n",
       "15                                Y7（共享空间-新区管委会-市民中心）         1\n",
       "16                           Y8（光电科技园-行知路·雨合路-雨山路地铁站）         1\n",
       "17  Y9（云驰街-中科创新广场-盛景华庭-张墩路-雨山路地铁站-行知路·雨合路-光电科技园-耀华...         2\n",
       "18                               Y10（兰花塘地铁站-光电科技园-膜园）         1\n",
       "19                        Y11（华邑酒店-临江-瑞斯丽酒店-云驰街-铂骊酒店）         1\n",
       "20  Y18（东大成贤-研发大厦-高新路.祥和路-爱信诺大厦-北园大厦-高科一路.新科二路-高新科...         1\n",
       "21  Y20（研发大厦-创业新村-桐雨路-新科四路-爱信诺大厦-北园大厦-新科二路-星火路地铁站-...         1"
      ]
     },
     "execution_count": 6,
     "metadata": {},
     "output_type": "execute_result"
    }
   ],
   "source": [
    "survey_route_counts"
   ]
  },
  {
   "cell_type": "code",
   "execution_count": 7,
   "id": "5531ff97",
   "metadata": {
    "scrolled": true
   },
   "outputs": [],
   "source": [
    "survey_route_counts.to_excel('C:/intern/接驳车问卷调查结果分析/线路统计.xlsx',index=False)"
   ]
  },
  {
   "cell_type": "code",
   "execution_count": 62,
   "id": "a69ba345",
   "metadata": {},
   "outputs": [
    {
     "data": {
      "text/html": [
       "<div>\n",
       "<style scoped>\n",
       "    .dataframe tbody tr th:only-of-type {\n",
       "        vertical-align: middle;\n",
       "    }\n",
       "\n",
       "    .dataframe tbody tr th {\n",
       "        vertical-align: top;\n",
       "    }\n",
       "\n",
       "    .dataframe thead th {\n",
       "        text-align: right;\n",
       "    }\n",
       "</style>\n",
       "<table border=\"1\" class=\"dataframe\">\n",
       "  <thead>\n",
       "    <tr style=\"text-align: right;\">\n",
       "      <th></th>\n",
       "      <th>线路</th>\n",
       "      <th>参与问卷调查人数</th>\n",
       "    </tr>\n",
       "  </thead>\n",
       "  <tbody>\n",
       "    <tr>\n",
       "      <th>0</th>\n",
       "      <td>Y1（临江地铁站-部分经停8849人才公寓/韦恩-云驰街）</td>\n",
       "      <td>55</td>\n",
       "    </tr>\n",
       "    <tr>\n",
       "      <th>1</th>\n",
       "      <td>Y12（云驰街-元通地铁站4号口-云驰街-共享空间-网易数字产业基地-青云大厦-云驰街）</td>\n",
       "      <td>39</td>\n",
       "    </tr>\n",
       "    <tr>\n",
       "      <th>2</th>\n",
       "      <td>Y16（星火路地铁站—行知路雨合路-光电科技园-耀华.网易数字产业基地-云驰街-中科创新广场 ）</td>\n",
       "      <td>73</td>\n",
       "    </tr>\n",
       "    <tr>\n",
       "      <th>3</th>\n",
       "      <td>Y17（云驰街-创智大厦-研发大厦）</td>\n",
       "      <td>11</td>\n",
       "    </tr>\n",
       "    <tr>\n",
       "      <th>4</th>\n",
       "      <td>Y2（盛景华庭-韦恩-云驰街）</td>\n",
       "      <td>36</td>\n",
       "    </tr>\n",
       "    <tr>\n",
       "      <th>5</th>\n",
       "      <td>Y21 (星火路地铁站-南京集成电路大学-工大地铁站-云驰街)</td>\n",
       "      <td>42</td>\n",
       "    </tr>\n",
       "    <tr>\n",
       "      <th>6</th>\n",
       "      <td>Y4（临江地铁站-云驰街-网易数字产业基地-光电科技园-耀华-膜园）</td>\n",
       "      <td>23</td>\n",
       "    </tr>\n",
       "    <tr>\n",
       "      <th>7</th>\n",
       "      <td>Y13（膜园-行知路·雨合路-光电科技园-耀华-云驰街-研发大厦-高新路16号-税务局）</td>\n",
       "      <td>4</td>\n",
       "    </tr>\n",
       "    <tr>\n",
       "      <th>8</th>\n",
       "      <td>Y14（中科创新广场-云驰街）</td>\n",
       "      <td>3</td>\n",
       "    </tr>\n",
       "    <tr>\n",
       "      <th>9</th>\n",
       "      <td>Y15（江北新区候机楼-禄口机场）</td>\n",
       "      <td>2</td>\n",
       "    </tr>\n",
       "    <tr>\n",
       "      <th>10</th>\n",
       "      <td>Y19（星火路地铁口-软件大厦-动漫大厦-新科三路-香溢紫郡-中丹园）</td>\n",
       "      <td>14</td>\n",
       "    </tr>\n",
       "    <tr>\n",
       "      <th>11</th>\n",
       "      <td>Y22(临江地铁站—江苏省产业技术研究院)</td>\n",
       "      <td>6</td>\n",
       "    </tr>\n",
       "    <tr>\n",
       "      <th>12</th>\n",
       "      <td>Y3（成贤地铁站-天浦路南京工业大学公交站-膜园）</td>\n",
       "      <td>2</td>\n",
       "    </tr>\n",
       "    <tr>\n",
       "      <th>13</th>\n",
       "      <td>Y5（云驰街-盛景华庭-张墩路-雨山路地铁站-行知路·雨合路-光电科技园-耀华-膜园）</td>\n",
       "      <td>10</td>\n",
       "    </tr>\n",
       "    <tr>\n",
       "      <th>14</th>\n",
       "      <td>Y6（盛景华庭-张墩路-雨山路地铁站-行知路·雨合路-光电科技园-耀华-膜园）</td>\n",
       "      <td>3</td>\n",
       "    </tr>\n",
       "    <tr>\n",
       "      <th>15</th>\n",
       "      <td>Y7（共享空间-新区管委会-市民中心）</td>\n",
       "      <td>1</td>\n",
       "    </tr>\n",
       "    <tr>\n",
       "      <th>16</th>\n",
       "      <td>Y8（光电科技园-行知路·雨合路-雨山路地铁站）</td>\n",
       "      <td>1</td>\n",
       "    </tr>\n",
       "    <tr>\n",
       "      <th>17</th>\n",
       "      <td>Y9（云驰街-中科创新广场-盛景华庭-张墩路-雨山路地铁站-行知路·雨合路-光电科技园-耀华...</td>\n",
       "      <td>2</td>\n",
       "    </tr>\n",
       "    <tr>\n",
       "      <th>18</th>\n",
       "      <td>Y10（兰花塘地铁站-光电科技园-膜园）</td>\n",
       "      <td>1</td>\n",
       "    </tr>\n",
       "    <tr>\n",
       "      <th>19</th>\n",
       "      <td>Y11（华邑酒店-临江-瑞斯丽酒店-云驰街-铂骊酒店）</td>\n",
       "      <td>1</td>\n",
       "    </tr>\n",
       "    <tr>\n",
       "      <th>20</th>\n",
       "      <td>Y18（东大成贤-研发大厦-高新路.祥和路-爱信诺大厦-北园大厦-高科一路.新科二路-高新科...</td>\n",
       "      <td>1</td>\n",
       "    </tr>\n",
       "    <tr>\n",
       "      <th>21</th>\n",
       "      <td>Y20（研发大厦-创业新村-桐雨路-新科四路-爱信诺大厦-北园大厦-新科二路-星火路地铁站-...</td>\n",
       "      <td>1</td>\n",
       "    </tr>\n",
       "  </tbody>\n",
       "</table>\n",
       "</div>"
      ],
      "text/plain": [
       "                                                   线路  参与问卷调查人数\n",
       "0                       Y1（临江地铁站-部分经停8849人才公寓/韦恩-云驰街）        55\n",
       "1        Y12（云驰街-元通地铁站4号口-云驰街-共享空间-网易数字产业基地-青云大厦-云驰街）        39\n",
       "2    Y16（星火路地铁站—行知路雨合路-光电科技园-耀华.网易数字产业基地-云驰街-中科创新广场 ）        73\n",
       "3                                  Y17（云驰街-创智大厦-研发大厦）        11\n",
       "4                                     Y2（盛景华庭-韦恩-云驰街）        36\n",
       "5                     Y21 (星火路地铁站-南京集成电路大学-工大地铁站-云驰街)        42\n",
       "6                  Y4（临江地铁站-云驰街-网易数字产业基地-光电科技园-耀华-膜园）        23\n",
       "7        Y13（膜园-行知路·雨合路-光电科技园-耀华-云驰街-研发大厦-高新路16号-税务局）         4\n",
       "8                                     Y14（中科创新广场-云驰街）         3\n",
       "9                                   Y15（江北新区候机楼-禄口机场）         2\n",
       "10                Y19（星火路地铁口-软件大厦-动漫大厦-新科三路-香溢紫郡-中丹园）        14\n",
       "11                              Y22(临江地铁站—江苏省产业技术研究院)         6\n",
       "12                          Y3（成贤地铁站-天浦路南京工业大学公交站-膜园）         2\n",
       "13        Y5（云驰街-盛景华庭-张墩路-雨山路地铁站-行知路·雨合路-光电科技园-耀华-膜园）        10\n",
       "14            Y6（盛景华庭-张墩路-雨山路地铁站-行知路·雨合路-光电科技园-耀华-膜园）         3\n",
       "15                                Y7（共享空间-新区管委会-市民中心）         1\n",
       "16                           Y8（光电科技园-行知路·雨合路-雨山路地铁站）         1\n",
       "17  Y9（云驰街-中科创新广场-盛景华庭-张墩路-雨山路地铁站-行知路·雨合路-光电科技园-耀华...         2\n",
       "18                               Y10（兰花塘地铁站-光电科技园-膜园）         1\n",
       "19                        Y11（华邑酒店-临江-瑞斯丽酒店-云驰街-铂骊酒店）         1\n",
       "20  Y18（东大成贤-研发大厦-高新路.祥和路-爱信诺大厦-北园大厦-高科一路.新科二路-高新科...         1\n",
       "21  Y20（研发大厦-创业新村-桐雨路-新科四路-爱信诺大厦-北园大厦-新科二路-星火路地铁站-...         1"
      ]
     },
     "execution_count": 62,
     "metadata": {},
     "output_type": "execute_result"
    }
   ],
   "source": [
    "survey_route_counts"
   ]
  },
  {
   "cell_type": "markdown",
   "id": "f5c79078",
   "metadata": {},
   "source": [
    "## Part 2"
   ]
  },
  {
   "cell_type": "code",
   "execution_count": 8,
   "id": "beca27c4",
   "metadata": {},
   "outputs": [],
   "source": [
    "def cell_multiple_values(df, col_name, available_choices):\n",
    "    counts_dict = dict.fromkeys(available_choices, 0)\n",
    "    for index, row in df.iterrows():\n",
    "        current_value = get_values_array(row[col_name])\n",
    "        for each_value in current_value:\n",
    "            if each_value in available_choices:\n",
    "                counts_dict[each_value] += 1\n",
    "            else:\n",
    "                counts_dict['其他'] += 1\n",
    "                \n",
    "    counts_df = pd.DataFrame(counts_dict.items(), columns=[col_name, '人数'])\n",
    "    return counts_df"
   ]
  },
  {
   "cell_type": "code",
   "execution_count": 9,
   "id": "e9d5e3dc",
   "metadata": {},
   "outputs": [],
   "source": [
    "def cell_single_value(df, col_name, available_choices):\n",
    "    counts_dict = dict.fromkeys(available_choices, 0)\n",
    "    for index, row in df.iterrows():\n",
    "        current_value = row[col_name]\n",
    "        if current_value in available_choices:\n",
    "            counts_dict[current_value] += 1\n",
    "        else:\n",
    "            counts_dict['其他'] += 1\n",
    "                \n",
    "    counts_df = pd.DataFrame(counts_dict.items(), columns=[col_name, '人数'])\n",
    "    return counts_df"
   ]
  },
  {
   "cell_type": "code",
   "execution_count": 10,
   "id": "981b68fe",
   "metadata": {},
   "outputs": [],
   "source": [
    "satisfy_metrics = ['很满意','满意','一般','不满意','很不满意','其他']\n",
    "part_metrics = ['司机服务态度','司机的驾驶技术及安全性','车内的整洁卫生度','到站的及时准确性','路线及站点设置合理性','乘车支付方式','其他']"
   ]
  },
  {
   "cell_type": "code",
   "execution_count": 11,
   "id": "4622ea6c",
   "metadata": {},
   "outputs": [
    {
     "data": {
      "text/plain": [
       "Index(['提交者（自动）', '提交时间（自动）', '您的企业名称（必填）', '您的联系方式（必填）', '您乘坐接驳车的频率（必填）',\n",
       "       '您乘坐最多的线路（必填）', '您觉得接驳车到达站点准时吗（必填）',\n",
       "       '您对车内舒适度、车内卫生条件、司机形象举止、车厢和谐气氛、（如车内状况是否干净整洁、车内灯光明暗程度、有无电视、平稳程度、噪音大小等）是否满意（必填）',\n",
       "       '您对接驳车司机的服务态度（必填）', '您对接驳车司机的驾驶技术（必填）', '您觉得接驳车一卡通充值、支付是否方便快捷（必填）',\n",
       "       '选出您对接驳车最满意的部分（必填）', '您觉得接驳车路线哪些部分需要优化（必填）', '您是否会对不满意的情况采取投诉（必填）',\n",
       "       '对于投诉处理是否有效解决（必填）', '您对接驳车的整体打分（必填）', '你对接驳线路还有哪些需求或建议（必填）'],\n",
       "      dtype='object')"
      ]
     },
     "execution_count": 11,
     "metadata": {},
     "output_type": "execute_result"
    }
   ],
   "source": [
    "survey.columns"
   ]
  },
  {
   "cell_type": "code",
   "execution_count": 12,
   "id": "7970826a",
   "metadata": {},
   "outputs": [],
   "source": [
    "measures_single = ['您乘坐接驳车的频率（必填）', \n",
    "                   '您觉得接驳车到达站点准时吗（必填）',\n",
    "                   '您对车内舒适度、车内卫生条件、司机形象举止、车厢和谐气氛、（如车内状况是否干净整洁、车内灯光明暗程度、有无电视、平稳程度、噪音大小等）是否满意（必填）',\n",
    "                   '您对接驳车司机的服务态度（必填）',\n",
    "                   '您对接驳车司机的驾驶技术（必填）', \n",
    "                   '您觉得接驳车一卡通充值、支付是否方便快捷（必填）',\n",
    "                   '您对接驳车的整体打分（必填）']\n",
    "measures2_multiple = ['选出您对接驳车最满意的部分（必填）',\n",
    "                      '您觉得接驳车路线哪些部分需要优化（必填）']"
   ]
  },
  {
   "cell_type": "code",
   "execution_count": 13,
   "id": "b1defa52",
   "metadata": {},
   "outputs": [],
   "source": [
    "survey_mostsatisfy_counts = cell_multiple_values(survey, measures2_multiple[0], part_metrics)\n",
    "survey_tobeimproved_counts = cell_multiple_values(survey, measures2_multiple[1], part_metrics)"
   ]
  },
  {
   "cell_type": "code",
   "execution_count": 14,
   "id": "8dfa34f4",
   "metadata": {
    "scrolled": false
   },
   "outputs": [
    {
     "data": {
      "text/html": [
       "<div>\n",
       "<style scoped>\n",
       "    .dataframe tbody tr th:only-of-type {\n",
       "        vertical-align: middle;\n",
       "    }\n",
       "\n",
       "    .dataframe tbody tr th {\n",
       "        vertical-align: top;\n",
       "    }\n",
       "\n",
       "    .dataframe thead th {\n",
       "        text-align: right;\n",
       "    }\n",
       "</style>\n",
       "<table border=\"1\" class=\"dataframe\">\n",
       "  <thead>\n",
       "    <tr style=\"text-align: right;\">\n",
       "      <th></th>\n",
       "      <th>您觉得接驳车路线哪些部分需要优化（必填）</th>\n",
       "      <th>人数</th>\n",
       "    </tr>\n",
       "  </thead>\n",
       "  <tbody>\n",
       "    <tr>\n",
       "      <th>0</th>\n",
       "      <td>司机服务态度</td>\n",
       "      <td>43</td>\n",
       "    </tr>\n",
       "    <tr>\n",
       "      <th>1</th>\n",
       "      <td>司机的驾驶技术及安全性</td>\n",
       "      <td>21</td>\n",
       "    </tr>\n",
       "    <tr>\n",
       "      <th>2</th>\n",
       "      <td>车内的整洁卫生度</td>\n",
       "      <td>16</td>\n",
       "    </tr>\n",
       "    <tr>\n",
       "      <th>3</th>\n",
       "      <td>到站的及时准确性</td>\n",
       "      <td>60</td>\n",
       "    </tr>\n",
       "    <tr>\n",
       "      <th>4</th>\n",
       "      <td>路线及站点设置合理性</td>\n",
       "      <td>112</td>\n",
       "    </tr>\n",
       "    <tr>\n",
       "      <th>5</th>\n",
       "      <td>乘车支付方式</td>\n",
       "      <td>36</td>\n",
       "    </tr>\n",
       "    <tr>\n",
       "      <th>6</th>\n",
       "      <td>其他</td>\n",
       "      <td>76</td>\n",
       "    </tr>\n",
       "  </tbody>\n",
       "</table>\n",
       "</div>"
      ],
      "text/plain": [
       "  您觉得接驳车路线哪些部分需要优化（必填）   人数\n",
       "0               司机服务态度   43\n",
       "1          司机的驾驶技术及安全性   21\n",
       "2             车内的整洁卫生度   16\n",
       "3             到站的及时准确性   60\n",
       "4           路线及站点设置合理性  112\n",
       "5               乘车支付方式   36\n",
       "6                   其他   76"
      ]
     },
     "execution_count": 14,
     "metadata": {},
     "output_type": "execute_result"
    }
   ],
   "source": [
    "survey_tobeimproved_counts"
   ]
  },
  {
   "cell_type": "code",
   "execution_count": 15,
   "id": "78dc41ed",
   "metadata": {},
   "outputs": [],
   "source": [
    "survey_ride_freq_counts = survey[measures_single[0]].value_counts().rename_axis('您乘坐接驳车的频率').reset_index(name='人数')\n",
    "survey_ride_ontime_counts = survey[measures_single[1]].value_counts().rename_axis('您觉得接驳车到达站点准时吗').reset_index(name='人数')\n",
    "survey_grade_counts = survey[measures_single[6]].value_counts().rename_axis('您对接驳车的整体打分').reset_index(name='人数')"
   ]
  },
  {
   "cell_type": "code",
   "execution_count": 16,
   "id": "8b0d714c",
   "metadata": {},
   "outputs": [
    {
     "data": {
      "text/plain": [
       "'满意'"
      ]
     },
     "execution_count": 16,
     "metadata": {},
     "output_type": "execute_result"
    }
   ],
   "source": [
    "survey[measures_single[2]][0]"
   ]
  },
  {
   "cell_type": "code",
   "execution_count": 17,
   "id": "73685224",
   "metadata": {},
   "outputs": [],
   "source": [
    "survey_comfort_counts = cell_single_value(survey, measures_single[2], satisfy_metrics)\n",
    "survey_attitude_counts = cell_single_value(survey, measures_single[3], satisfy_metrics)\n",
    "survey_technical_counts = cell_single_value(survey, measures_single[4], satisfy_metrics)\n",
    "survey_payment_counts = cell_single_value(survey, measures_single[5], satisfy_metrics)"
   ]
  },
  {
   "cell_type": "code",
   "execution_count": 18,
   "id": "84bd2c3b",
   "metadata": {},
   "outputs": [
    {
     "data": {
      "text/html": [
       "<div>\n",
       "<style scoped>\n",
       "    .dataframe tbody tr th:only-of-type {\n",
       "        vertical-align: middle;\n",
       "    }\n",
       "\n",
       "    .dataframe tbody tr th {\n",
       "        vertical-align: top;\n",
       "    }\n",
       "\n",
       "    .dataframe thead th {\n",
       "        text-align: right;\n",
       "    }\n",
       "</style>\n",
       "<table border=\"1\" class=\"dataframe\">\n",
       "  <thead>\n",
       "    <tr style=\"text-align: right;\">\n",
       "      <th></th>\n",
       "      <th>您觉得接驳车一卡通充值、支付是否方便快捷（必填）</th>\n",
       "      <th>人数</th>\n",
       "    </tr>\n",
       "  </thead>\n",
       "  <tbody>\n",
       "    <tr>\n",
       "      <th>0</th>\n",
       "      <td>很满意</td>\n",
       "      <td>83</td>\n",
       "    </tr>\n",
       "    <tr>\n",
       "      <th>1</th>\n",
       "      <td>满意</td>\n",
       "      <td>86</td>\n",
       "    </tr>\n",
       "    <tr>\n",
       "      <th>2</th>\n",
       "      <td>一般</td>\n",
       "      <td>34</td>\n",
       "    </tr>\n",
       "    <tr>\n",
       "      <th>3</th>\n",
       "      <td>不满意</td>\n",
       "      <td>6</td>\n",
       "    </tr>\n",
       "    <tr>\n",
       "      <th>4</th>\n",
       "      <td>很不满意</td>\n",
       "      <td>9</td>\n",
       "    </tr>\n",
       "    <tr>\n",
       "      <th>5</th>\n",
       "      <td>其他</td>\n",
       "      <td>6</td>\n",
       "    </tr>\n",
       "  </tbody>\n",
       "</table>\n",
       "</div>"
      ],
      "text/plain": [
       "  您觉得接驳车一卡通充值、支付是否方便快捷（必填）  人数\n",
       "0                      很满意  83\n",
       "1                       满意  86\n",
       "2                       一般  34\n",
       "3                      不满意   6\n",
       "4                     很不满意   9\n",
       "5                       其他   6"
      ]
     },
     "execution_count": 18,
     "metadata": {},
     "output_type": "execute_result"
    }
   ],
   "source": [
    "survey_payment_counts"
   ]
  },
  {
   "cell_type": "code",
   "execution_count": 19,
   "id": "c1c6f699",
   "metadata": {},
   "outputs": [],
   "source": [
    "with pd.ExcelWriter(\"C:/intern/接驳车问卷调查结果分析/各个调查内容统计.xlsx\") as writer:\n",
    "   \n",
    "    # use to_excel function and specify the sheet_name and index\n",
    "    # to store the dataframe in specified sheet\n",
    "    survey_ride_freq_counts.to_excel(writer, sheet_name=\"乘坐接驳车的频率\", index=False)\n",
    "    survey_ride_ontime_counts.to_excel(writer, sheet_name=\"接驳车到达站点准时吗\", index=False)\n",
    "    survey_comfort_counts.to_excel(writer, sheet_name=\"车内舒适度\", index=False)\n",
    "    survey_attitude_counts.to_excel(writer, sheet_name=\"接驳车司机的服务态度\", index=False)\n",
    "    survey_technical_counts.to_excel(writer, sheet_name=\"接驳车司机的驾驶技术\", index=False)\n",
    "    survey_payment_counts.to_excel(writer, sheet_name=\"一卡通充值、支付\", index=False)\n",
    "    survey_grade_counts.to_excel(writer, sheet_name=\"整体打分\", index=False)\n",
    "    survey_mostsatisfy_counts.to_excel(writer, sheet_name=\"对接驳车最满意的部分\", index=False)\n",
    "    survey_tobeimproved_counts.to_excel(writer, sheet_name=\"接驳车路线哪些部分需要优化\", index=False)"
   ]
  },
  {
   "cell_type": "markdown",
   "id": "956860e5",
   "metadata": {},
   "source": [
    "## Part 3"
   ]
  },
  {
   "cell_type": "code",
   "execution_count": 20,
   "id": "45444fd3",
   "metadata": {},
   "outputs": [
    {
     "data": {
      "text/plain": [
       "Index(['提交者（自动）', '提交时间（自动）', '您的企业名称（必填）', '您的联系方式（必填）', '您乘坐接驳车的频率（必填）',\n",
       "       '您乘坐最多的线路（必填）', '您觉得接驳车到达站点准时吗（必填）',\n",
       "       '您对车内舒适度、车内卫生条件、司机形象举止、车厢和谐气氛、（如车内状况是否干净整洁、车内灯光明暗程度、有无电视、平稳程度、噪音大小等）是否满意（必填）',\n",
       "       '您对接驳车司机的服务态度（必填）', '您对接驳车司机的驾驶技术（必填）', '您觉得接驳车一卡通充值、支付是否方便快捷（必填）',\n",
       "       '选出您对接驳车最满意的部分（必填）', '您觉得接驳车路线哪些部分需要优化（必填）', '您是否会对不满意的情况采取投诉（必填）',\n",
       "       '对于投诉处理是否有效解决（必填）', '您对接驳车的整体打分（必填）', '你对接驳线路还有哪些需求或建议（必填）'],\n",
       "      dtype='object')"
      ]
     },
     "execution_count": 20,
     "metadata": {},
     "output_type": "execute_result"
    }
   ],
   "source": [
    "survey.columns"
   ]
  },
  {
   "cell_type": "code",
   "execution_count": 68,
   "id": "f912b0c9",
   "metadata": {},
   "outputs": [],
   "source": [
    "luxian = ['Y1', 'Y2', 'Y3', 'Y4', 'Y5','Y6', 'Y7', 'Y8', 'Y9', 'Y10','Y11', 'Y12', 'Y13', 'Y14', 'Y15','Y16', 'Y17', 'Y18', 'Y19', 'Y20', 'Y21', 'Y22']\n",
    "category = ['司机服务态度','司机的驾驶技术及安全性','车内的整洁卫生度','到站的及时准确性','路线及站点设置合理性','乘车支付方式', '无','其他']"
   ]
  },
  {
   "cell_type": "code",
   "execution_count": 33,
   "id": "a8b3f758",
   "metadata": {},
   "outputs": [],
   "source": []
  },
  {
   "cell_type": "code",
   "execution_count": 34,
   "id": "a14c1d9a",
   "metadata": {},
   "outputs": [],
   "source": []
  },
  {
   "cell_type": "code",
   "execution_count": 26,
   "id": "4eebb2ad",
   "metadata": {},
   "outputs": [
    {
     "data": {
      "text/plain": [
       "['Not Available']"
      ]
     },
     "execution_count": 26,
     "metadata": {},
     "output_type": "execute_result"
    }
   ],
   "source": [
    "(evaluation_df.head(1)['建议'].values[0])"
   ]
  },
  {
   "cell_type": "code",
   "execution_count": 27,
   "id": "f8cccb5a",
   "metadata": {},
   "outputs": [
    {
     "data": {
      "text/plain": [
       "['Not Available']"
      ]
     },
     "execution_count": 27,
     "metadata": {},
     "output_type": "execute_result"
    }
   ],
   "source": [
    "(evaluation_df.head(1)['建议'].values[0])"
   ]
  },
  {
   "cell_type": "code",
   "execution_count": 28,
   "id": "12687431",
   "metadata": {},
   "outputs": [
    {
     "data": {
      "text/html": [
       "<div>\n",
       "<style scoped>\n",
       "    .dataframe tbody tr th:only-of-type {\n",
       "        vertical-align: middle;\n",
       "    }\n",
       "\n",
       "    .dataframe tbody tr th {\n",
       "        vertical-align: top;\n",
       "    }\n",
       "\n",
       "    .dataframe thead th {\n",
       "        text-align: right;\n",
       "    }\n",
       "</style>\n",
       "<table border=\"1\" class=\"dataframe\">\n",
       "  <thead>\n",
       "    <tr style=\"text-align: right;\">\n",
       "      <th></th>\n",
       "      <th>类别</th>\n",
       "      <th>路线</th>\n",
       "      <th>建议</th>\n",
       "    </tr>\n",
       "  </thead>\n",
       "  <tbody>\n",
       "    <tr>\n",
       "      <th>147</th>\n",
       "      <td>其他</td>\n",
       "      <td>Y1</td>\n",
       "      <td>[Not Available]</td>\n",
       "    </tr>\n",
       "  </tbody>\n",
       "</table>\n",
       "</div>"
      ],
      "text/plain": [
       "     类别  路线               建议\n",
       "147  其他  Y1  [Not Available]"
      ]
     },
     "execution_count": 28,
     "metadata": {},
     "output_type": "execute_result"
    }
   ],
   "source": [
    "evaluation_df[(evaluation_df['类别']=='其他')&(evaluation_df['路线'] =='Y1')]"
   ]
  },
  {
   "cell_type": "code",
   "execution_count": 96,
   "id": "6e182514",
   "metadata": {},
   "outputs": [
    {
     "name": "stdout",
     "output_type": "stream",
     "text": [
      "站点时间y16，8.25以后应该再添设车次\n",
      "多一点车次\n",
      "不应该收费\n",
      "班次\n",
      "车速较快，路口不礼让行人容易出危险\n",
      "星火路到云驰街早班车太少了，过了八点二十五就没车坐了\n",
      "车辆车次较少，人多，每次下班都要挤，车次时间设置不合理\n",
      "12线车少，时间晚\n",
      "其他都很好，就是Y12经常不准时，希望能准时就好了\n",
      "班车太少，增加班次\n",
      "y12经常晚点\n",
      "Y4车太小了，早晚高峰人很多\n",
      "乘车的舒适度\n",
      "部分路线到站准时性\n",
      "可否增加y16，或者y17，5点10分班车，5点钟就开走公司5点才打卡\n",
      "班次太少\n",
      "建议在天润城地铁口设置接驳点，而不是在星火路。附近公司好多人住在天润城而不是星火路。\n",
      "Y12班次太少，时间不合理，每天都有人无法乘坐，被迫下车。建议增加车次\n",
      "早高峰经常堵车，希望17路可以提前10分钟出发，司机能灵活行车路线，避开堵点，否则我们会经常迟到罚款\n",
      "希望 1、Y1增加共享空间停靠点；2、希望增加Y1 20:10的时间点班次\n",
      "元通的班车频次太低，每次好多人，有时还挤不上车，得打车。\n",
      "周六的班车相当不准时，而且周末有的时间点明明规划内有车，但是根本没车来。严重怀疑是司机偷懒。\n",
      "建议Y16可以设置一辆车，增加一个站点到天润城地铁站或者泰冯路地铁站，因为这些站点的人数较多；\n",
      "需要办实名卡，很多人没有办卡没法乘坐\n",
      "下班班次到站时间建议提前\n",
      "非高峰期发车频次过少\n",
      "耀华可以直接换成网易且不需要拐弯处停下。\n",
      "Y2有个光头司机，态度特别差\n",
      "还有微信小程序太垃圾\n",
      "早上九点十五左右无班车\n",
      "司机经常不开空调，人多又闷\n",
      "有时人太多坐不上车\n",
      "17:40到18:05期间云驰街没有y16，导致18:05的一趟都坐不下，17:30下班晚一点的和18:05下班的一起挤。y16可以开一条区间线路，云驰街始发的。\n",
      "改大车\n",
      "建议可以增开往雨花、南站方向的班车，便于企业招聘扩大范围\n",
      "早高峰和晚高峰发车频率和时间可再合理化\n",
      "建议临江9：05分增加一个班次，9点的班次常常有一班车空车返回，造成浪费。\n",
      "经常有人上车不刷卡或者刷无效卡，对遵守规矩刷卡的人不公平。\n",
      "停车靠站是否醒目可见，司机见到站点有客也会呼啸而过\n",
      "近期天气闷热，但是司机总是舍不得开空调\n",
      "到站时间跟研创园服务平台上公布的时间不一致\n",
      "y4的车真的太小了 可以换大车晚上5.30和早上8.30的车真的挤不上 y4早上8.20的车好几次不来或者迟到\n",
      "车次太少，车辆太小。\n",
      "y4的车真的太小了 可以换大车晚上5.30和早上8.30的车真的挤不上 y4早上8.20的车好几次不来或者迟到\n",
      "希望能延伸至泰冯路地铁站\n",
      "班车时间\n",
      "Y16人多车少，临江线 Y2人少车多。资源分配严重不合理。可以根据车费统计验证一下看看。\n"
     ]
    }
   ],
   "source": [
    "import pdb\n",
    "\n",
    "evaluation_df = pd.DataFrame(columns=['类别','路线','建议'])\n",
    "for cat_ in category:\n",
    "    for luxian_ in luxian:\n",
    "        evaluation_df.loc[len(evaluation_df)] = [cat_,luxian_,['Not Available']]\n",
    "        \n",
    "for index, row in survey.iterrows():\n",
    "    cats = get_values_array(row['您觉得接驳车路线哪些部分需要优化（必填）'])\n",
    "    routes = get_values_array(row['您乘坐最多的线路（必填）'])\n",
    "    advice = row['你对接驳线路还有哪些需求或建议（必填）']\n",
    "    #print(advice)\n",
    "\n",
    "    for each_cat in cats:\n",
    "        if each_cat not in category:\n",
    "            #pdb.set_trace()\n",
    "            print(each_cat)\n",
    "            each_cat = '其他'\n",
    "        for each_route in routes:\n",
    "            \n",
    "            each_route = each_route.split('(')[0].split('（')[0].split(' ')[0]\n",
    "            if each_route[0]=='\\n':\n",
    "                each_route = each_route.split('\\n')[1]    \n",
    "            \n",
    "            advice_row = evaluation_df[(evaluation_df['类别']==each_cat)&(evaluation_df['路线'] == each_route)]\n",
    "            #print(advice_row)\n",
    "                \n",
    "            if advice_row['建议'].values[0][0] != 'Not Available':\n",
    "                new_advice = advice_row['建议'].values[0]\n",
    "                #print(row)\n",
    "                #print(new_advice)\n",
    "                #print(advice_row)\n",
    "                \n",
    "                new_advice.append(advice)\n",
    "            else:\n",
    "                new_advice = [advice]\n",
    "                #print('1111',new_advice)\n",
    "            #evaluation_df.loc[(evaluation_df['类别']==each_cat)&(evaluation_df['路线'] == each_route), '建议'] = new_advice\n",
    "            #evaluation_df['建议'].mask((evaluation_df['类别']==each_cat)&(evaluation_df['路线'] == each_route), new_advice, inplace=True)\n",
    "            \n",
    "            evaluation_df.loc[(evaluation_df['类别']==each_cat)&(evaluation_df['路线'] == each_route), '建议'] = [new_advice]\n",
    "            #pdb.set_trace()\n",
    "            \"\"\"\n",
    "            last_advice  = evaluation_df[(evaluation_df['类别']==each_cat)&(evaluation_df['路线'] == each_route)].values[0]\n",
    "            last_advice = last_advice.tolist()\n",
    "            if not last_advice:\n",
    "                last_advice.append(advice)\n",
    "            #print(updated_advice)\n",
    "            evaluation_df.loc[(evaluation_df['类别']==each_cat)&(evaluation_df['路线'] == each_route), '建议'] = last_advice\n",
    "        \n",
    "            \"\"\""
   ]
  },
  {
   "cell_type": "code",
   "execution_count": 92,
   "id": "3e1acbdf",
   "metadata": {},
   "outputs": [
    {
     "data": {
      "text/html": [
       "<div>\n",
       "<style scoped>\n",
       "    .dataframe tbody tr th:only-of-type {\n",
       "        vertical-align: middle;\n",
       "    }\n",
       "\n",
       "    .dataframe tbody tr th {\n",
       "        vertical-align: top;\n",
       "    }\n",
       "\n",
       "    .dataframe thead th {\n",
       "        text-align: right;\n",
       "    }\n",
       "</style>\n",
       "<table border=\"1\" class=\"dataframe\">\n",
       "  <thead>\n",
       "    <tr style=\"text-align: right;\">\n",
       "      <th></th>\n",
       "      <th>类别</th>\n",
       "      <th>路线</th>\n",
       "      <th>建议</th>\n",
       "    </tr>\n",
       "  </thead>\n",
       "  <tbody>\n",
       "    <tr>\n",
       "      <th>89</th>\n",
       "      <td>路线及站点设置合理性</td>\n",
       "      <td>Y2</td>\n",
       "      <td>[Not Available]</td>\n",
       "    </tr>\n",
       "  </tbody>\n",
       "</table>\n",
       "</div>"
      ],
      "text/plain": [
       "            类别  路线               建议\n",
       "89  路线及站点设置合理性  Y2  [Not Available]"
      ]
     },
     "execution_count": 92,
     "metadata": {},
     "output_type": "execute_result"
    }
   ],
   "source": [
    "advice_row"
   ]
  },
  {
   "cell_type": "code",
   "execution_count": 77,
   "id": "b4847834",
   "metadata": {},
   "outputs": [
    {
     "data": {
      "text/plain": [
       "'其他'"
      ]
     },
     "execution_count": 77,
     "metadata": {},
     "output_type": "execute_result"
    }
   ],
   "source": [
    "each_cat"
   ]
  },
  {
   "cell_type": "code",
   "execution_count": 94,
   "id": "f6c23653",
   "metadata": {},
   "outputs": [
    {
     "data": {
      "text/plain": [
       "['路线及站点设置合理性']"
      ]
     },
     "execution_count": 94,
     "metadata": {},
     "output_type": "execute_result"
    }
   ],
   "source": [
    "get_values_array('路线及站点设置合理性')"
   ]
  },
  {
   "cell_type": "code",
   "execution_count": 99,
   "id": "df2582a9",
   "metadata": {},
   "outputs": [],
   "source": [
    "evaluation_df.to_excel('C:/intern/接驳车问卷调查结果分析/需求建议统计.xlsx',index=False)"
   ]
  },
  {
   "cell_type": "code",
   "execution_count": 97,
   "id": "9ee783c1",
   "metadata": {},
   "outputs": [
    {
     "data": {
      "text/html": [
       "<div>\n",
       "<style scoped>\n",
       "    .dataframe tbody tr th:only-of-type {\n",
       "        vertical-align: middle;\n",
       "    }\n",
       "\n",
       "    .dataframe tbody tr th {\n",
       "        vertical-align: top;\n",
       "    }\n",
       "\n",
       "    .dataframe thead th {\n",
       "        text-align: right;\n",
       "    }\n",
       "</style>\n",
       "<table border=\"1\" class=\"dataframe\">\n",
       "  <thead>\n",
       "    <tr style=\"text-align: right;\">\n",
       "      <th></th>\n",
       "      <th>类别</th>\n",
       "      <th>路线</th>\n",
       "      <th>建议</th>\n",
       "    </tr>\n",
       "  </thead>\n",
       "  <tbody>\n",
       "    <tr>\n",
       "      <th>0</th>\n",
       "      <td>司机服务态度</td>\n",
       "      <td>Y1</td>\n",
       "      <td>[之前说不收费的为什么现在收费了, 有次忘记带卡，司机师傅找我麻烦，车上当众吼我, 车的出发...</td>\n",
       "    </tr>\n",
       "    <tr>\n",
       "      <th>1</th>\n",
       "      <td>司机服务态度</td>\n",
       "      <td>Y2</td>\n",
       "      <td>[暂时没有, Y2非高峰时段晚点很严重，很难等到车，等到车司机师傅还骂骂咧咧说不建议非高峰时...</td>\n",
       "    </tr>\n",
       "    <tr>\n",
       "      <th>2</th>\n",
       "      <td>司机服务态度</td>\n",
       "      <td>Y3</td>\n",
       "      <td>[1、政府有关部门趁早取缔算了\\n2、线路站点实地没有任何标识牌，微信小程序根本不显示准确站...</td>\n",
       "    </tr>\n",
       "    <tr>\n",
       "      <th>3</th>\n",
       "      <td>司机服务态度</td>\n",
       "      <td>Y4</td>\n",
       "      <td>[1、政府有关部门趁早取缔算了\\n2、线路站点实地没有任何标识牌，微信小程序根本不显示准确站...</td>\n",
       "    </tr>\n",
       "    <tr>\n",
       "      <th>4</th>\n",
       "      <td>司机服务态度</td>\n",
       "      <td>Y5</td>\n",
       "      <td>[早上8点Y4，改大车。, 1、政府有关部门趁早取缔算了\\n2、线路站点实地没有任何标识牌，...</td>\n",
       "    </tr>\n",
       "    <tr>\n",
       "      <th>...</th>\n",
       "      <td>...</td>\n",
       "      <td>...</td>\n",
       "      <td>...</td>\n",
       "    </tr>\n",
       "    <tr>\n",
       "      <th>171</th>\n",
       "      <td>其他</td>\n",
       "      <td>Y18</td>\n",
       "      <td>[1、政府有关部门趁早取缔算了\\n2、线路站点实地没有任何标识牌，微信小程序根本不显示准确站...</td>\n",
       "    </tr>\n",
       "    <tr>\n",
       "      <th>172</th>\n",
       "      <td>其他</td>\n",
       "      <td>Y19</td>\n",
       "      <td>[无, 1、政府有关部门趁早取缔算了\\n2、线路站点实地没有任何标识牌，微信小程序根本不显示...</td>\n",
       "    </tr>\n",
       "    <tr>\n",
       "      <th>173</th>\n",
       "      <td>其他</td>\n",
       "      <td>Y20</td>\n",
       "      <td>[1、政府有关部门趁早取缔算了\\n2、线路站点实地没有任何标识牌，微信小程序根本不显示准确站...</td>\n",
       "    </tr>\n",
       "    <tr>\n",
       "      <th>174</th>\n",
       "      <td>其他</td>\n",
       "      <td>Y21</td>\n",
       "      <td>[星火路到云驰街早班车过了8点25就没车坐了，上班非常不方便，而且趟次也特别少，晚高峰回星火...</td>\n",
       "    </tr>\n",
       "    <tr>\n",
       "      <th>175</th>\n",
       "      <td>其他</td>\n",
       "      <td>Y22</td>\n",
       "      <td>[1、政府有关部门趁早取缔算了\\n2、线路站点实地没有任何标识牌，微信小程序根本不显示准确站...</td>\n",
       "    </tr>\n",
       "  </tbody>\n",
       "</table>\n",
       "<p>176 rows × 3 columns</p>\n",
       "</div>"
      ],
      "text/plain": [
       "         类别   路线                                                 建议\n",
       "0    司机服务态度   Y1  [之前说不收费的为什么现在收费了, 有次忘记带卡，司机师傅找我麻烦，车上当众吼我, 车的出发...\n",
       "1    司机服务态度   Y2  [暂时没有, Y2非高峰时段晚点很严重，很难等到车，等到车司机师傅还骂骂咧咧说不建议非高峰时...\n",
       "2    司机服务态度   Y3  [1、政府有关部门趁早取缔算了\\n2、线路站点实地没有任何标识牌，微信小程序根本不显示准确站...\n",
       "3    司机服务态度   Y4  [1、政府有关部门趁早取缔算了\\n2、线路站点实地没有任何标识牌，微信小程序根本不显示准确站...\n",
       "4    司机服务态度   Y5  [早上8点Y4，改大车。, 1、政府有关部门趁早取缔算了\\n2、线路站点实地没有任何标识牌，...\n",
       "..      ...  ...                                                ...\n",
       "171      其他  Y18  [1、政府有关部门趁早取缔算了\\n2、线路站点实地没有任何标识牌，微信小程序根本不显示准确站...\n",
       "172      其他  Y19  [无, 1、政府有关部门趁早取缔算了\\n2、线路站点实地没有任何标识牌，微信小程序根本不显示...\n",
       "173      其他  Y20  [1、政府有关部门趁早取缔算了\\n2、线路站点实地没有任何标识牌，微信小程序根本不显示准确站...\n",
       "174      其他  Y21  [星火路到云驰街早班车过了8点25就没车坐了，上班非常不方便，而且趟次也特别少，晚高峰回星火...\n",
       "175      其他  Y22  [1、政府有关部门趁早取缔算了\\n2、线路站点实地没有任何标识牌，微信小程序根本不显示准确站...\n",
       "\n",
       "[176 rows x 3 columns]"
      ]
     },
     "execution_count": 97,
     "metadata": {},
     "output_type": "execute_result"
    }
   ],
   "source": [
    "evaluation_df"
   ]
  },
  {
   "cell_type": "code",
   "execution_count": null,
   "id": "f84e848c",
   "metadata": {},
   "outputs": [],
   "source": []
  }
 ],
 "metadata": {
  "kernelspec": {
   "display_name": "Python 3 (ipykernel)",
   "language": "python",
   "name": "python3"
  },
  "language_info": {
   "codemirror_mode": {
    "name": "ipython",
    "version": 3
   },
   "file_extension": ".py",
   "mimetype": "text/x-python",
   "name": "python",
   "nbconvert_exporter": "python",
   "pygments_lexer": "ipython3",
   "version": "3.9.7"
  }
 },
 "nbformat": 4,
 "nbformat_minor": 5
}
