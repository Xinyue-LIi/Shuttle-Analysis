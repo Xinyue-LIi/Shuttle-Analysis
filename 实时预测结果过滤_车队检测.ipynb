{
 "cells": [
  {
   "cell_type": "code",
   "execution_count": 3,
   "id": "217d1859",
   "metadata": {},
   "outputs": [],
   "source": [
    "import pandas as pd"
   ]
  },
  {
   "cell_type": "code",
   "execution_count": 1,
   "id": "da6d309b",
   "metadata": {},
   "outputs": [],
   "source": [
    "chedui2luxian = {\n",
    "    '博佳': ['Y5', 'Y6', 'Y8', 'Y9', 'Y10', 'Y12', 'Y13', 'Y14', 'Y16', 'Y17', 'Y21'],\n",
    "    '讯致': ['Y7', 'Y18', 'Y19', 'Y20'],\n",
    "    '美润': ['Y1', 'Y2', 'Y3', 'Y4', 'Y11', 'Y22']\n",
    "}\n"
   ]
  },
  {
   "cell_type": "code",
   "execution_count": 45,
   "id": "36b44a26",
   "metadata": {},
   "outputs": [],
   "source": [
    "def find_chedui(chedui_luxian, search_luxian):\n",
    "    for chedui, luxian in chedui_luxian.items():\n",
    "        if search_luxian in luxian:\n",
    "            return chedui"
   ]
  },
  {
   "cell_type": "code",
   "execution_count": 4,
   "id": "51c8f666",
   "metadata": {},
   "outputs": [],
   "source": [
    "checi_res = pd.read_excel('C:/intern/data/checi_run_bus_先过滤后查找方向.xlsx')"
   ]
  },
  {
   "cell_type": "code",
   "execution_count": 25,
   "id": "79bf40b8",
   "metadata": {},
   "outputs": [],
   "source": [
    "shike = pd.read_excel('C:/intern/data/docs_20220525/时刻表/shike.xlsx')\n",
    "shike.drop_duplicates('车次id',inplace = True)"
   ]
  },
  {
   "cell_type": "code",
   "execution_count": 6,
   "id": "e5057f33",
   "metadata": {},
   "outputs": [],
   "source": [
    "checi2chepai = pd.read_excel('C:/intern/data/docs_20220525/时刻表/duiying.xlsx')"
   ]
  },
  {
   "cell_type": "code",
   "execution_count": 61,
   "id": "2b12659a",
   "metadata": {},
   "outputs": [],
   "source": [
    "def check_valid_chepai(checi, chepai_list):\n",
    "    \n",
    "    chepai_valid = []\n",
    "    \n",
    "    luxian = shike[shike['车次id']==checi]['路线'].values[0]\n",
    "    chedui = find_chedui(chedui2luxian, luxian)\n",
    "    luxian_all = chedui2luxian[chedui]\n",
    "    checi_all = shike[shike['路线'].isin(luxian_all)]['车次id'].values\n",
    "    chepai_all = checi2chepai[checi2chepai['车次id'].isin(checi_all)]['车牌号'].values\n",
    "    \n",
    "    for each in chepai_list:\n",
    "        if each in chepai_all:\n",
    "            chepai_valid.append(each)\n",
    "    \n",
    "    return chepai_valid\n",
    "        "
   ]
  },
  {
   "cell_type": "code",
   "execution_count": 68,
   "id": "8519b159",
   "metadata": {},
   "outputs": [],
   "source": [
    "def filter_valid_chepai(chepai_predict_df):\n",
    "    filtered = pd.DataFrame(columns=['车次id','预测运营'])\n",
    "    for index, row in chepai_predict_df.iterrows():\n",
    "        checi = row['车次id']\n",
    "        try:\n",
    "            chepai_predict = eval(row['预测运营'])\n",
    "            filterd_chepai_predict = check_valid_chepai(checi,chepai_predict)\n",
    "            filtered.loc[len(filtered.index)] = [checi, filterd_chepai_predict]\n",
    "        except:\n",
    "            filtered.loc[len(filtered.index)] = [checi, []]\n",
    "        \n",
    "    return filtered\n",
    "        "
   ]
  },
  {
   "cell_type": "code",
   "execution_count": 71,
   "id": "2afd79d8",
   "metadata": {},
   "outputs": [],
   "source": [
    "filtered_res = filter_valid_chepai(checi_res)"
   ]
  },
  {
   "cell_type": "code",
   "execution_count": 74,
   "id": "e57d7b3e",
   "metadata": {},
   "outputs": [],
   "source": [
    "filtered_res.to_excel('C:/intern/data/checi_run_bus_先过滤后查找方向_车队检测.xlsx',index=False)"
   ]
  },
  {
   "cell_type": "code",
   "execution_count": null,
   "id": "5a2967ef",
   "metadata": {},
   "outputs": [],
   "source": []
  },
  {
   "cell_type": "code",
   "execution_count": null,
   "id": "ea1c7e4f",
   "metadata": {},
   "outputs": [],
   "source": []
  }
 ],
 "metadata": {
  "kernelspec": {
   "display_name": "Python 3 (ipykernel)",
   "language": "python",
   "name": "python3"
  },
  "language_info": {
   "codemirror_mode": {
    "name": "ipython",
    "version": 3
   },
   "file_extension": ".py",
   "mimetype": "text/x-python",
   "name": "python",
   "nbconvert_exporter": "python",
   "pygments_lexer": "ipython3",
   "version": "3.9.7"
  }
 },
 "nbformat": 4,
 "nbformat_minor": 5
}
