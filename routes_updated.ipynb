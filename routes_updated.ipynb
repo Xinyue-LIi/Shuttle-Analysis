{
 "cells": [
  {
   "cell_type": "code",
   "execution_count": 1,
   "id": "802593fa",
   "metadata": {},
   "outputs": [],
   "source": [
    "import pandas as pd\n",
    "import matplotlib.pyplot as plt\n",
    "from datetime import datetime, timedelta\n",
    "from geopy.distance import geodesic"
   ]
  },
  {
   "cell_type": "markdown",
   "id": "69c5f362",
   "metadata": {},
   "source": [
    "## 实际时刻表"
   ]
  },
  {
   "cell_type": "code",
   "execution_count": 2,
   "id": "e12d791b",
   "metadata": {
    "scrolled": false
   },
   "outputs": [
    {
     "data": {
      "text/html": [
       "<div>\n",
       "<style scoped>\n",
       "    .dataframe tbody tr th:only-of-type {\n",
       "        vertical-align: middle;\n",
       "    }\n",
       "\n",
       "    .dataframe tbody tr th {\n",
       "        vertical-align: top;\n",
       "    }\n",
       "\n",
       "    .dataframe thead th {\n",
       "        text-align: right;\n",
       "    }\n",
       "</style>\n",
       "<table border=\"1\" class=\"dataframe\">\n",
       "  <thead>\n",
       "    <tr style=\"text-align: right;\">\n",
       "      <th></th>\n",
       "      <th>路线</th>\n",
       "      <th>车次id</th>\n",
       "      <th>站序</th>\n",
       "      <th>站点</th>\n",
       "      <th>时间</th>\n",
       "      <th>经度</th>\n",
       "      <th>纬度</th>\n",
       "    </tr>\n",
       "  </thead>\n",
       "  <tbody>\n",
       "    <tr>\n",
       "      <th>2303</th>\n",
       "      <td>Y1</td>\n",
       "      <td>411</td>\n",
       "      <td>1</td>\n",
       "      <td>临江地铁站</td>\n",
       "      <td>07:40:00</td>\n",
       "      <td>118.672528</td>\n",
       "      <td>32.062686</td>\n",
       "    </tr>\n",
       "    <tr>\n",
       "      <th>2304</th>\n",
       "      <td>Y1</td>\n",
       "      <td>411</td>\n",
       "      <td>2</td>\n",
       "      <td>云驰街</td>\n",
       "      <td>07:46:00</td>\n",
       "      <td>118.649936</td>\n",
       "      <td>32.043162</td>\n",
       "    </tr>\n",
       "    <tr>\n",
       "      <th>2305</th>\n",
       "      <td>Y1</td>\n",
       "      <td>412</td>\n",
       "      <td>1</td>\n",
       "      <td>临江地铁站</td>\n",
       "      <td>07:50:00</td>\n",
       "      <td>118.672528</td>\n",
       "      <td>32.062686</td>\n",
       "    </tr>\n",
       "    <tr>\n",
       "      <th>2306</th>\n",
       "      <td>Y1</td>\n",
       "      <td>412</td>\n",
       "      <td>2</td>\n",
       "      <td>云驰街</td>\n",
       "      <td>07:56:00</td>\n",
       "      <td>118.649936</td>\n",
       "      <td>32.043162</td>\n",
       "    </tr>\n",
       "    <tr>\n",
       "      <th>2307</th>\n",
       "      <td>Y1</td>\n",
       "      <td>413</td>\n",
       "      <td>1</td>\n",
       "      <td>临江地铁站</td>\n",
       "      <td>07:55:00</td>\n",
       "      <td>118.672528</td>\n",
       "      <td>32.062686</td>\n",
       "    </tr>\n",
       "    <tr>\n",
       "      <th>...</th>\n",
       "      <td>...</td>\n",
       "      <td>...</td>\n",
       "      <td>...</td>\n",
       "      <td>...</td>\n",
       "      <td>...</td>\n",
       "      <td>...</td>\n",
       "      <td>...</td>\n",
       "    </tr>\n",
       "    <tr>\n",
       "      <th>685</th>\n",
       "      <td>Y9</td>\n",
       "      <td>132</td>\n",
       "      <td>5</td>\n",
       "      <td>行知路·雨合路（浦潮接驳站）</td>\n",
       "      <td>16:25:00</td>\n",
       "      <td>118.613390</td>\n",
       "      <td>32.029400</td>\n",
       "    </tr>\n",
       "    <tr>\n",
       "      <th>686</th>\n",
       "      <td>Y9</td>\n",
       "      <td>132</td>\n",
       "      <td>6</td>\n",
       "      <td>光电科技园</td>\n",
       "      <td>16:27:00</td>\n",
       "      <td>118.609818</td>\n",
       "      <td>32.023728</td>\n",
       "    </tr>\n",
       "    <tr>\n",
       "      <th>687</th>\n",
       "      <td>Y9</td>\n",
       "      <td>132</td>\n",
       "      <td>7</td>\n",
       "      <td>耀华</td>\n",
       "      <td>16:30:00</td>\n",
       "      <td>118.620302</td>\n",
       "      <td>32.022355</td>\n",
       "    </tr>\n",
       "    <tr>\n",
       "      <th>688</th>\n",
       "      <td>Y9</td>\n",
       "      <td>132</td>\n",
       "      <td>8</td>\n",
       "      <td>网易数字产业基地</td>\n",
       "      <td>16:31:00</td>\n",
       "      <td>118.621790</td>\n",
       "      <td>32.022580</td>\n",
       "    </tr>\n",
       "    <tr>\n",
       "      <th>689</th>\n",
       "      <td>Y9</td>\n",
       "      <td>132</td>\n",
       "      <td>9</td>\n",
       "      <td>膜园</td>\n",
       "      <td>16:36:00</td>\n",
       "      <td>118.608633</td>\n",
       "      <td>32.020501</td>\n",
       "    </tr>\n",
       "  </tbody>\n",
       "</table>\n",
       "<p>2669 rows × 7 columns</p>\n",
       "</div>"
      ],
      "text/plain": [
       "      路线  车次id  站序              站点        时间          经度         纬度\n",
       "2303  Y1   411   1           临江地铁站  07:40:00  118.672528  32.062686\n",
       "2304  Y1   411   2             云驰街  07:46:00  118.649936  32.043162\n",
       "2305  Y1   412   1           临江地铁站  07:50:00  118.672528  32.062686\n",
       "2306  Y1   412   2             云驰街  07:56:00  118.649936  32.043162\n",
       "2307  Y1   413   1           临江地铁站  07:55:00  118.672528  32.062686\n",
       "...   ..   ...  ..             ...       ...         ...        ...\n",
       "685   Y9   132   5  行知路·雨合路（浦潮接驳站）  16:25:00  118.613390  32.029400\n",
       "686   Y9   132   6           光电科技园  16:27:00  118.609818  32.023728\n",
       "687   Y9   132   7              耀华  16:30:00  118.620302  32.022355\n",
       "688   Y9   132   8        网易数字产业基地  16:31:00  118.621790  32.022580\n",
       "689   Y9   132   9              膜园  16:36:00  118.608633  32.020501\n",
       "\n",
       "[2669 rows x 7 columns]"
      ]
     },
     "execution_count": 2,
     "metadata": {},
     "output_type": "execute_result"
    }
   ],
   "source": [
    "shike = pd.read_excel('C:\\intern\\data\\docs_updated\\时刻表\\shike.xlsx')\n",
    "shike_sorted = shike.sort_values(by=['路线', '车次id', '站序'])\n",
    "shike_sorted"
   ]
  },
  {
   "cell_type": "markdown",
   "id": "b3aaa97a",
   "metadata": {},
   "source": [
    "## 对应bus_id 和 gps_sn\n",
    "\n",
    "* 可能存在gps_info.xlsx中bus_id并不存在的情况"
   ]
  },
  {
   "cell_type": "code",
   "execution_count": 3,
   "id": "485b9c74",
   "metadata": {},
   "outputs": [],
   "source": [
    "checi = pd.read_excel('C:/intern/data/docs_updated/时刻表/checi.xlsx')\n",
    "gps = pd.read_excel('C:/intern/data/docs_updated/GPS/gps_info.xlsx')\n",
    "bus = pd.read_excel('C:/intern/data/docs_updated/GPS/bus_info.xlsx')\n",
    "duiying = pd.read_excel('C:/intern/data/docs_updated/时刻表/duiying.xlsx')"
   ]
  },
  {
   "cell_type": "code",
   "execution_count": 4,
   "id": "9797bd26",
   "metadata": {},
   "outputs": [
    {
     "data": {
      "text/plain": [
       "Index(['id', 'create_time', 'update_time', 'delete_time', 'create_user_id',\n",
       "       'update_user_id', 'gps_sn', 'gps_name', 'bus_id'],\n",
       "      dtype='object')"
      ]
     },
     "execution_count": 4,
     "metadata": {},
     "output_type": "execute_result"
    }
   ],
   "source": [
    "gps.columns"
   ]
  },
  {
   "cell_type": "code",
   "execution_count": 5,
   "id": "05264fe7",
   "metadata": {},
   "outputs": [
    {
     "data": {
      "text/plain": [
       "Index(['id', 'create_time', 'update_time', 'delete_time', 'bus_user_phone',\n",
       "       'bus_user_name', 'bus_plate', 'seat_number'],\n",
       "      dtype='object')"
      ]
     },
     "execution_count": 5,
     "metadata": {},
     "output_type": "execute_result"
    }
   ],
   "source": [
    "# 确认bus_id范围\n",
    "bus.columns"
   ]
  },
  {
   "cell_type": "code",
   "execution_count": 6,
   "id": "02f90ab2",
   "metadata": {},
   "outputs": [
    {
     "data": {
      "text/plain": [
       "Int64Index([  1,  70,  79,  78,  77,  76,  75,  74,  73,  72,  71,  69,  57,\n",
       "             68,  67,  66,  65,  64,  63,  62,  61,  60,  80,  81,  82,  83,\n",
       "            105, 104, 103, 102, 101, 100,  99,  96,  95,  94,  93,  92,  91,\n",
       "             90,  89,  87,  86,  85,  84,  59,  56,   2,  13,  24,  23,  22,\n",
       "             21,  20,  19,  18,  17,  16,  12,  55,  11,  10,   9,   8,   7,\n",
       "              6,   5,   4,   3,  25,  26,  27,  28,  52,  51,  50,  49,  48,\n",
       "             47,  46,  44,  43,  42,  41,  40,  39,  38,  34,  33,  31,  30,\n",
       "             29, 106],\n",
       "           dtype='int64')"
      ]
     },
     "execution_count": 6,
     "metadata": {},
     "output_type": "execute_result"
    }
   ],
   "source": [
    "# 真实存在的bus_id\n",
    "real_id = bus.id.value_counts().index\n",
    "real_id"
   ]
  },
  {
   "cell_type": "markdown",
   "id": "bc90368f",
   "metadata": {},
   "source": [
    "#### 一辆车是否可能有不同的gps_sn? 检查duplicates"
   ]
  },
  {
   "cell_type": "code",
   "execution_count": 7,
   "id": "1a6d4917",
   "metadata": {},
   "outputs": [
    {
     "data": {
      "text/plain": [
       "\\N    21\n",
       "-1    14\n",
       "0     11\n",
       "4      1\n",
       "41     1\n",
       "      ..\n",
       "59     1\n",
       "56     1\n",
       "78     1\n",
       "81     1\n",
       "61     1\n",
       "Name: bus_id, Length: 65, dtype: int64"
      ]
     },
     "execution_count": 7,
     "metadata": {},
     "output_type": "execute_result"
    }
   ],
   "source": [
    "gps.bus_id.value_counts()"
   ]
  },
  {
   "cell_type": "markdown",
   "id": "92679cbc",
   "metadata": {},
   "source": [
    "* \\N, -1, 0 都不在real_id的范围, 去除"
   ]
  },
  {
   "cell_type": "code",
   "execution_count": 8,
   "id": "2356d3ec",
   "metadata": {},
   "outputs": [],
   "source": [
    "gps = gps[(gps.bus_id!='\\\\N') & (gps.bus_id!='-1') & (gps.bus_id!='0')]"
   ]
  },
  {
   "cell_type": "code",
   "execution_count": 9,
   "id": "11f3e585",
   "metadata": {},
   "outputs": [
    {
     "data": {
      "text/plain": [
       "4     1\n",
       "70    1\n",
       "75    1\n",
       "91    1\n",
       "92    1\n",
       "     ..\n",
       "56    1\n",
       "78    1\n",
       "81    1\n",
       "89    1\n",
       "61    1\n",
       "Name: bus_id, Length: 62, dtype: int64"
      ]
     },
     "execution_count": 9,
     "metadata": {},
     "output_type": "execute_result"
    }
   ],
   "source": [
    "gps.bus_id.value_counts()"
   ]
  },
  {
   "cell_type": "markdown",
   "id": "eb596b09",
   "metadata": {},
   "source": [
    "* 已去除invalid id， 不存在duplicates了"
   ]
  },
  {
   "cell_type": "markdown",
   "id": "e4d871a0",
   "metadata": {},
   "source": [
    "#### 是否gps数据都是相关车辆的？提取gps_sn对应的bus_id id1, bus_info中的bus_id id2, 找到id in id1 but not in id2\n"
   ]
  },
  {
   "cell_type": "code",
   "execution_count": 10,
   "id": "4d34461b",
   "metadata": {},
   "outputs": [
    {
     "data": {
      "text/plain": [
       "Index(['id', 'create_time', 'update_time', 'delete_time', 'create_user_id',\n",
       "       'update_user_id', 'gps_sn', 'gps_name', 'bus_id'],\n",
       "      dtype='object')"
      ]
     },
     "execution_count": 10,
     "metadata": {},
     "output_type": "execute_result"
    }
   ],
   "source": [
    "gps.columns"
   ]
  },
  {
   "cell_type": "code",
   "execution_count": 11,
   "id": "c4413b30",
   "metadata": {},
   "outputs": [
    {
     "data": {
      "text/plain": [
       "array(['4', '7', '33', '34', '26', '28', '29', '24', '30', '22', '31',\n",
       "       '57', '55', '47', '102', '68', '46', '95', '106', '104', '84',\n",
       "       '93', '85', '44', '59', '56', '78', '81', '89', '65', '83', '80',\n",
       "       '69', '75', '91', '92', '43', '63', '76', '41', '96', '50', '82',\n",
       "       '86', '72', '99', '70', '94', '62', '67', '52', '66', '73', '90',\n",
       "       '101', '100', '74', '60', '103', '23', '79', '61'], dtype=object)"
      ]
     },
     "execution_count": 11,
     "metadata": {},
     "output_type": "execute_result"
    }
   ],
   "source": [
    "id1 = gps.bus_id.unique()\n",
    "id1"
   ]
  },
  {
   "cell_type": "code",
   "execution_count": 12,
   "id": "2e6940bb",
   "metadata": {},
   "outputs": [
    {
     "data": {
      "text/plain": [
       "array([  1,   2,   3,   4,   5,   6,   7,   8,   9,  10,  11,  12,  13,\n",
       "        16,  17,  18,  19,  20,  21,  22,  23,  24,  25,  26,  27,  28,\n",
       "        29,  30,  31,  33,  34,  38,  39,  40,  41,  42,  43,  44,  46,\n",
       "        47,  48,  49,  50,  51,  52,  55,  56,  57,  59,  60,  61,  62,\n",
       "        63,  64,  65,  66,  67,  68,  69,  70,  71,  72,  73,  74,  75,\n",
       "        76,  77,  78,  79,  80,  81,  82,  83,  84,  85,  86,  87,  89,\n",
       "        90,  91,  92,  93,  94,  95,  96,  99, 100, 101, 102, 103, 104,\n",
       "       105, 106], dtype=int64)"
      ]
     },
     "execution_count": 12,
     "metadata": {},
     "output_type": "execute_result"
    }
   ],
   "source": [
    "id2 = bus.id.unique()\n",
    "id2"
   ]
  },
  {
   "cell_type": "code",
   "execution_count": 13,
   "id": "95b06f8c",
   "metadata": {},
   "outputs": [
    {
     "data": {
      "text/plain": [
       "[]"
      ]
     },
     "execution_count": 13,
     "metadata": {},
     "output_type": "execute_result"
    }
   ],
   "source": [
    "gps_not4bus_id = []\n",
    "for i in id1:\n",
    "    if int(i) not in id2:\n",
    "        gps_not4bus_id.append(i)\n",
    "gps_not4bus_id        "
   ]
  },
  {
   "cell_type": "markdown",
   "id": "609da10e",
   "metadata": {},
   "source": [
    "* 都是车辆相关的gps_info"
   ]
  },
  {
   "cell_type": "markdown",
   "id": "f43ed1e0",
   "metadata": {},
   "source": [
    "#### 哪些车辆找不到gps_sn?"
   ]
  },
  {
   "cell_type": "code",
   "execution_count": 14,
   "id": "0dd94515",
   "metadata": {
    "scrolled": true
   },
   "outputs": [
    {
     "data": {
      "text/plain": [
       "[1,\n",
       " 2,\n",
       " 3,\n",
       " 5,\n",
       " 6,\n",
       " 8,\n",
       " 9,\n",
       " 10,\n",
       " 11,\n",
       " 12,\n",
       " 13,\n",
       " 16,\n",
       " 17,\n",
       " 18,\n",
       " 19,\n",
       " 20,\n",
       " 21,\n",
       " 25,\n",
       " 27,\n",
       " 38,\n",
       " 39,\n",
       " 40,\n",
       " 42,\n",
       " 48,\n",
       " 49,\n",
       " 51,\n",
       " 64,\n",
       " 71,\n",
       " 77,\n",
       " 87,\n",
       " 105]"
      ]
     },
     "execution_count": 14,
     "metadata": {},
     "output_type": "execute_result"
    }
   ],
   "source": [
    "bus_noGPS_id = []\n",
    "for i in id2:\n",
    "    if str(i) not in id1:\n",
    "        bus_noGPS_id.append(i)\n",
    "bus_noGPS_id       "
   ]
  },
  {
   "cell_type": "code",
   "execution_count": 15,
   "id": "0f2c19d7",
   "metadata": {},
   "outputs": [
    {
     "data": {
      "text/plain": [
       "31"
      ]
     },
     "execution_count": 15,
     "metadata": {},
     "output_type": "execute_result"
    }
   ],
   "source": [
    "len(bus_noGPS_id )"
   ]
  },
  {
   "cell_type": "code",
   "execution_count": 16,
   "id": "5d72162f",
   "metadata": {},
   "outputs": [
    {
     "data": {
      "text/plain": [
       "True"
      ]
     },
     "execution_count": 16,
     "metadata": {},
     "output_type": "execute_result"
    }
   ],
   "source": [
    "# check \n",
    "len(bus_noGPS_id) == len(id2)-len(id1)"
   ]
  },
  {
   "cell_type": "markdown",
   "id": "ad2a6d3e",
   "metadata": {},
   "source": [
    "* 31辆车没有GPS数据"
   ]
  },
  {
   "cell_type": "markdown",
   "id": "91d761f6",
   "metadata": {},
   "source": [
    "#### 导出无GPS 数据车辆"
   ]
  },
  {
   "cell_type": "code",
   "execution_count": 17,
   "id": "fcd0ce33",
   "metadata": {},
   "outputs": [],
   "source": [
    "#无GPS数据车辆\n",
    "bus_noGPS_df = bus[bus['id'].isin(bus_noGPS_id)]"
   ]
  },
  {
   "cell_type": "code",
   "execution_count": 18,
   "id": "44d543f1",
   "metadata": {},
   "outputs": [],
   "source": [
    "#导出\n",
    "bus_noGPS_df.to_excel(\"C:/intern/data/result/bus_gps_nan.xlsx\") "
   ]
  },
  {
   "cell_type": "markdown",
   "id": "b76def3f",
   "metadata": {},
   "source": [
    "## GPS data"
   ]
  },
  {
   "cell_type": "markdown",
   "id": "e7802420",
   "metadata": {},
   "source": [
    "#### 读取"
   ]
  },
  {
   "cell_type": "code",
   "execution_count": 19,
   "id": "3b1f8ee2",
   "metadata": {},
   "outputs": [],
   "source": [
    "gps_info_up = pd.read_excel('C:\\intern\\data\\docs_updated\\GPS\\April_up.xlsx')"
   ]
  },
  {
   "cell_type": "code",
   "execution_count": 20,
   "id": "67802ef4",
   "metadata": {},
   "outputs": [
    {
     "data": {
      "text/plain": [
       "Index(['序号', 'gps串号', 'gps状态', '经度', '纬度', '接收时间', '速度', '方向', '电源状态'], dtype='object')"
      ]
     },
     "execution_count": 20,
     "metadata": {},
     "output_type": "execute_result"
    }
   ],
   "source": [
    "gps_info_up.columns"
   ]
  },
  {
   "cell_type": "code",
   "execution_count": 21,
   "id": "d168e2bb",
   "metadata": {},
   "outputs": [
    {
     "data": {
      "text/html": [
       "<div>\n",
       "<style scoped>\n",
       "    .dataframe tbody tr th:only-of-type {\n",
       "        vertical-align: middle;\n",
       "    }\n",
       "\n",
       "    .dataframe tbody tr th {\n",
       "        vertical-align: top;\n",
       "    }\n",
       "\n",
       "    .dataframe thead th {\n",
       "        text-align: right;\n",
       "    }\n",
       "</style>\n",
       "<table border=\"1\" class=\"dataframe\">\n",
       "  <thead>\n",
       "    <tr style=\"text-align: right;\">\n",
       "      <th></th>\n",
       "      <th>序号</th>\n",
       "      <th>gps串号</th>\n",
       "      <th>gps状态</th>\n",
       "      <th>经度</th>\n",
       "      <th>纬度</th>\n",
       "      <th>接收时间</th>\n",
       "      <th>速度</th>\n",
       "      <th>方向</th>\n",
       "      <th>电源状态</th>\n",
       "    </tr>\n",
       "  </thead>\n",
       "  <tbody>\n",
       "    <tr>\n",
       "      <th>589246</th>\n",
       "      <td>6734907</td>\n",
       "      <td>868773051027640</td>\n",
       "      <td>1</td>\n",
       "      <td>118.709585</td>\n",
       "      <td>32.156152</td>\n",
       "      <td>2022-04-10 20:37:47</td>\n",
       "      <td>0</td>\n",
       "      <td>172</td>\n",
       "      <td>1</td>\n",
       "    </tr>\n",
       "    <tr>\n",
       "      <th>613668</th>\n",
       "      <td>6759329</td>\n",
       "      <td>868773050944811</td>\n",
       "      <td>1</td>\n",
       "      <td>118.674045</td>\n",
       "      <td>32.085526</td>\n",
       "      <td>2022-04-11 10:24:33</td>\n",
       "      <td>22</td>\n",
       "      <td>208</td>\n",
       "      <td>1</td>\n",
       "    </tr>\n",
       "  </tbody>\n",
       "</table>\n",
       "</div>"
      ],
      "text/plain": [
       "             序号            gps串号  gps状态          经度         纬度  \\\n",
       "589246  6734907  868773051027640      1  118.709585  32.156152   \n",
       "613668  6759329  868773050944811      1  118.674045  32.085526   \n",
       "\n",
       "                       接收时间  速度   方向  电源状态  \n",
       "589246  2022-04-10 20:37:47   0  172     1  \n",
       "613668  2022-04-11 10:24:33  22  208     1  "
      ]
     },
     "execution_count": 21,
     "metadata": {},
     "output_type": "execute_result"
    }
   ],
   "source": [
    "gps_info_up.sample(2)"
   ]
  },
  {
   "cell_type": "code",
   "execution_count": 22,
   "id": "7a3269b4",
   "metadata": {},
   "outputs": [
    {
     "data": {
      "text/plain": [
       "str"
      ]
     },
     "execution_count": 22,
     "metadata": {},
     "output_type": "execute_result"
    }
   ],
   "source": [
    "#查看gps_info_up的接收时间 datatype， 需要datetime\n",
    "type(gps_info_up['接收时间'].values[0])"
   ]
  },
  {
   "cell_type": "code",
   "execution_count": 23,
   "id": "45459001",
   "metadata": {},
   "outputs": [],
   "source": [
    "#新增‘接收日期’column\n",
    "gps_info_up['接收日期'] = gps_info_up['接收时间'].str[0:10]"
   ]
  },
  {
   "cell_type": "code",
   "execution_count": 24,
   "id": "9f2dc21b",
   "metadata": {},
   "outputs": [],
   "source": [
    "gps_info_up['接收时间']= pd.to_datetime (gps_info_up ['接收时间'])"
   ]
  },
  {
   "cell_type": "code",
   "execution_count": 25,
   "id": "62508cfc",
   "metadata": {},
   "outputs": [
    {
     "data": {
      "text/plain": [
       "numpy.datetime64"
      ]
     },
     "execution_count": 25,
     "metadata": {},
     "output_type": "execute_result"
    }
   ],
   "source": [
    "type(gps_info_up['接收时间'].values[0])"
   ]
  },
  {
   "cell_type": "code",
   "execution_count": 26,
   "id": "b07ddd1b",
   "metadata": {},
   "outputs": [
    {
     "data": {
      "text/html": [
       "<div>\n",
       "<style scoped>\n",
       "    .dataframe tbody tr th:only-of-type {\n",
       "        vertical-align: middle;\n",
       "    }\n",
       "\n",
       "    .dataframe tbody tr th {\n",
       "        vertical-align: top;\n",
       "    }\n",
       "\n",
       "    .dataframe thead th {\n",
       "        text-align: right;\n",
       "    }\n",
       "</style>\n",
       "<table border=\"1\" class=\"dataframe\">\n",
       "  <thead>\n",
       "    <tr style=\"text-align: right;\">\n",
       "      <th></th>\n",
       "      <th>序号</th>\n",
       "      <th>gps串号</th>\n",
       "      <th>gps状态</th>\n",
       "      <th>经度</th>\n",
       "      <th>纬度</th>\n",
       "      <th>接收时间</th>\n",
       "      <th>速度</th>\n",
       "      <th>方向</th>\n",
       "      <th>电源状态</th>\n",
       "      <th>接收日期</th>\n",
       "    </tr>\n",
       "  </thead>\n",
       "  <tbody>\n",
       "    <tr>\n",
       "      <th>123354</th>\n",
       "      <td>6269015</td>\n",
       "      <td>868773050939928</td>\n",
       "      <td>1</td>\n",
       "      <td>118.656448</td>\n",
       "      <td>32.041451</td>\n",
       "      <td>2022-04-02 14:28:40</td>\n",
       "      <td>0</td>\n",
       "      <td>285</td>\n",
       "      <td>1</td>\n",
       "      <td>2022-04-02</td>\n",
       "    </tr>\n",
       "    <tr>\n",
       "      <th>496003</th>\n",
       "      <td>6641664</td>\n",
       "      <td>868773050945123</td>\n",
       "      <td>1</td>\n",
       "      <td>118.722188</td>\n",
       "      <td>32.151677</td>\n",
       "      <td>2022-04-08 20:33:50</td>\n",
       "      <td>0</td>\n",
       "      <td>268</td>\n",
       "      <td>1</td>\n",
       "      <td>2022-04-08</td>\n",
       "    </tr>\n",
       "  </tbody>\n",
       "</table>\n",
       "</div>"
      ],
      "text/plain": [
       "             序号            gps串号  gps状态          经度         纬度  \\\n",
       "123354  6269015  868773050939928      1  118.656448  32.041451   \n",
       "496003  6641664  868773050945123      1  118.722188  32.151677   \n",
       "\n",
       "                      接收时间  速度   方向  电源状态        接收日期  \n",
       "123354 2022-04-02 14:28:40   0  285     1  2022-04-02  \n",
       "496003 2022-04-08 20:33:50   0  268     1  2022-04-08  "
      ]
     },
     "execution_count": 26,
     "metadata": {},
     "output_type": "execute_result"
    }
   ],
   "source": [
    "gps_info_up.sample(2)"
   ]
  },
  {
   "cell_type": "code",
   "execution_count": 27,
   "id": "dc682862",
   "metadata": {
    "scrolled": false
   },
   "outputs": [
    {
     "data": {
      "text/plain": [
       "array([868773050940116, 868773050937062, 868773050937088, 868773051025099,\n",
       "       868773050941585, 868773050940165, 868773050940066, 868773050942237,\n",
       "       868773050943359, 868773050934630, 868773050945404, 868773051024381,\n",
       "       868773050942377, 868773050941288, 868773050942286, 868773050934655,\n",
       "       868773051026642, 868773050942294, 868773050939910, 868773050933251,\n",
       "       868773051027640, 868773050939902, 868773050939936, 868773050939928,\n",
       "       868773051026998, 868773050939993, 868773051024779, 868773050939985,\n",
       "       868773050939506, 868773050939555, 868773050940652, 868773050939456,\n",
       "       868773050941528, 868773050939449, 868773051024928, 868773050939464,\n",
       "       868773051022153, 868773050944795, 868773050944811, 868773050929010,\n",
       "       868773050877235, 868773050864423, 868773050654550, 868773050646382,\n",
       "       868773050941403, 868773050941569, 868773051027004, 868773050945388,\n",
       "       868773051026626, 868773050938227, 868773050945123, 868773050939423,\n",
       "       868773050945768, 868773050939415, 868773050937054, 868773050940405,\n",
       "       868773050945289, 868773050945743, 868773050946287], dtype=int64)"
      ]
     },
     "execution_count": 27,
     "metadata": {},
     "output_type": "execute_result"
    }
   ],
   "source": [
    "#查看available gps_sn\n",
    "gps_sn_available_up = gps_info_up['gps串号'].unique()\n",
    "gps_sn_available_up"
   ]
  },
  {
   "cell_type": "code",
   "execution_count": 28,
   "id": "4cf1f3b1",
   "metadata": {},
   "outputs": [],
   "source": [
    "#确认available gps_sn都有对应的info\n",
    "gps_sn_list = gps.gps_sn.unique()\n",
    "for each in gps_sn_available_up:\n",
    "    if str(each) not in gps_sn_list:\n",
    "        print('This is a new GPS device: ', each)"
   ]
  },
  {
   "cell_type": "code",
   "execution_count": 29,
   "id": "c18ecbb2",
   "metadata": {},
   "outputs": [],
   "source": [
    "#抽取一个gps_sn\n",
    "#current_gps_sn = '868773050877235'\n",
    "current_gps_sn = '868773050943359'\n",
    "current_data = gps_info_up[gps_info_up['gps串号']==int(current_gps_sn)]\n",
    "current_data = current_data.sort_values(by='接收时间')"
   ]
  },
  {
   "cell_type": "code",
   "execution_count": 30,
   "id": "bf36830f",
   "metadata": {},
   "outputs": [
    {
     "data": {
      "text/plain": [
       "array(['2022-04-01', '2022-04-02', '2022-04-03', '2022-04-04',\n",
       "       '2022-04-05', '2022-04-06', '2022-04-07', '2022-04-08',\n",
       "       '2022-04-09', '2022-04-10', '2022-04-11', '2022-04-12',\n",
       "       '2022-04-13', '2022-04-14'], dtype=object)"
      ]
     },
     "execution_count": 30,
     "metadata": {},
     "output_type": "execute_result"
    }
   ],
   "source": [
    "#查看这个gps_sn的可用日期\n",
    "current_gps_dates = current_data['接收日期'].unique()\n",
    "current_gps_dates"
   ]
  },
  {
   "cell_type": "code",
   "execution_count": 31,
   "id": "bd76bd72",
   "metadata": {},
   "outputs": [],
   "source": [
    "#抽取一个日期\n",
    "pick_date = '2022-04-01'\n",
    "pick_data = current_data[current_data['接收日期']==pick_date]"
   ]
  },
  {
   "cell_type": "code",
   "execution_count": 32,
   "id": "bb8afb96",
   "metadata": {},
   "outputs": [
    {
     "data": {
      "text/html": [
       "<div>\n",
       "<style scoped>\n",
       "    .dataframe tbody tr th:only-of-type {\n",
       "        vertical-align: middle;\n",
       "    }\n",
       "\n",
       "    .dataframe tbody tr th {\n",
       "        vertical-align: top;\n",
       "    }\n",
       "\n",
       "    .dataframe thead th {\n",
       "        text-align: right;\n",
       "    }\n",
       "</style>\n",
       "<table border=\"1\" class=\"dataframe\">\n",
       "  <thead>\n",
       "    <tr style=\"text-align: right;\">\n",
       "      <th></th>\n",
       "      <th>序号</th>\n",
       "      <th>gps串号</th>\n",
       "      <th>gps状态</th>\n",
       "      <th>经度</th>\n",
       "      <th>纬度</th>\n",
       "      <th>接收时间</th>\n",
       "      <th>速度</th>\n",
       "      <th>方向</th>\n",
       "      <th>电源状态</th>\n",
       "      <th>接收日期</th>\n",
       "    </tr>\n",
       "  </thead>\n",
       "  <tbody>\n",
       "    <tr>\n",
       "      <th>29320</th>\n",
       "      <td>6174981</td>\n",
       "      <td>868773050943359</td>\n",
       "      <td>1</td>\n",
       "      <td>118.678614</td>\n",
       "      <td>32.115014</td>\n",
       "      <td>2022-04-01 11:38:03</td>\n",
       "      <td>34</td>\n",
       "      <td>129</td>\n",
       "      <td>1</td>\n",
       "      <td>2022-04-01</td>\n",
       "    </tr>\n",
       "    <tr>\n",
       "      <th>15325</th>\n",
       "      <td>6160986</td>\n",
       "      <td>868773050943359</td>\n",
       "      <td>1</td>\n",
       "      <td>118.690833</td>\n",
       "      <td>32.080189</td>\n",
       "      <td>2022-04-01 09:15:28</td>\n",
       "      <td>53</td>\n",
       "      <td>133</td>\n",
       "      <td>1</td>\n",
       "      <td>2022-04-01</td>\n",
       "    </tr>\n",
       "    <tr>\n",
       "      <th>48421</th>\n",
       "      <td>6194082</td>\n",
       "      <td>868773050943359</td>\n",
       "      <td>1</td>\n",
       "      <td>118.684954</td>\n",
       "      <td>32.084656</td>\n",
       "      <td>2022-04-01 15:53:18</td>\n",
       "      <td>36</td>\n",
       "      <td>103</td>\n",
       "      <td>1</td>\n",
       "      <td>2022-04-01</td>\n",
       "    </tr>\n",
       "    <tr>\n",
       "      <th>60398</th>\n",
       "      <td>6206059</td>\n",
       "      <td>868773050943359</td>\n",
       "      <td>1</td>\n",
       "      <td>118.687127</td>\n",
       "      <td>32.109968</td>\n",
       "      <td>2022-04-01 18:17:46</td>\n",
       "      <td>27</td>\n",
       "      <td>44</td>\n",
       "      <td>1</td>\n",
       "      <td>2022-04-01</td>\n",
       "    </tr>\n",
       "    <tr>\n",
       "      <th>16307</th>\n",
       "      <td>6161968</td>\n",
       "      <td>868773050943359</td>\n",
       "      <td>1</td>\n",
       "      <td>118.691287</td>\n",
       "      <td>32.080037</td>\n",
       "      <td>2022-04-01 09:23:56</td>\n",
       "      <td>53</td>\n",
       "      <td>312</td>\n",
       "      <td>1</td>\n",
       "      <td>2022-04-01</td>\n",
       "    </tr>\n",
       "  </tbody>\n",
       "</table>\n",
       "</div>"
      ],
      "text/plain": [
       "            序号            gps串号  gps状态          经度         纬度  \\\n",
       "29320  6174981  868773050943359      1  118.678614  32.115014   \n",
       "15325  6160986  868773050943359      1  118.690833  32.080189   \n",
       "48421  6194082  868773050943359      1  118.684954  32.084656   \n",
       "60398  6206059  868773050943359      1  118.687127  32.109968   \n",
       "16307  6161968  868773050943359      1  118.691287  32.080037   \n",
       "\n",
       "                     接收时间  速度   方向  电源状态        接收日期  \n",
       "29320 2022-04-01 11:38:03  34  129     1  2022-04-01  \n",
       "15325 2022-04-01 09:15:28  53  133     1  2022-04-01  \n",
       "48421 2022-04-01 15:53:18  36  103     1  2022-04-01  \n",
       "60398 2022-04-01 18:17:46  27   44     1  2022-04-01  \n",
       "16307 2022-04-01 09:23:56  53  312     1  2022-04-01  "
      ]
     },
     "execution_count": 32,
     "metadata": {},
     "output_type": "execute_result"
    }
   ],
   "source": [
    "pick_data.sample(5)"
   ]
  },
  {
   "cell_type": "code",
   "execution_count": 33,
   "id": "6ef47fd8",
   "metadata": {},
   "outputs": [],
   "source": [
    "#以接收时间为X轴，以[1]*len()为y轴，画出点线图，check GPS接收频率\n",
    "x = pick_data['接收时间'].values[0:20]\n",
    "y = [1]*len(x)\n"
   ]
  },
  {
   "cell_type": "code",
   "execution_count": 34,
   "id": "be123c8f",
   "metadata": {},
   "outputs": [
    {
     "data": {
      "text/plain": [
       "<matplotlib.collections.PathCollection at 0x1ca84c2cb50>"
      ]
     },
     "execution_count": 34,
     "metadata": {},
     "output_type": "execute_result"
    },
    {
     "data": {
      "image/png": "[encoded data removed]",
      "text/plain": [
       "<Figure size 1440x360 with 1 Axes>"
      ]
     },
     "metadata": {
      "needs_background": "light"
     },
     "output_type": "display_data"
    }
   ],
   "source": [
    "plt.figure(figsize= (20,5))\n",
    "plt.scatter(x, y)"
   ]
  },
  {
   "cell_type": "code",
   "execution_count": 35,
   "id": "cdb6b627",
   "metadata": {},
   "outputs": [],
   "source": [
    "# 导入GPS有问题的车辆数据\n",
    "bus_wrong_gps_df = pd.read_excel('C:/intern/data/docs_updated/GPS/GPS数据问题.xlsx', sheet_name='gps数据间隔超过1分钟车辆')"
   ]
  },
  {
   "cell_type": "code",
   "execution_count": 36,
   "id": "0df330a6",
   "metadata": {},
   "outputs": [
    {
     "data": {
      "text/plain": [
       "Index(['gps_sn', '车牌号', 'gps时间间隔(秒)', 'Unnamed: 3'], dtype='object')"
      ]
     },
     "execution_count": 36,
     "metadata": {},
     "output_type": "execute_result"
    }
   ],
   "source": [
    "bus_wrong_gps_df.columns"
   ]
  },
  {
   "cell_type": "code",
   "execution_count": 37,
   "id": "d07d115d",
   "metadata": {
    "scrolled": true
   },
   "outputs": [
    {
     "data": {
      "text/html": [
       "<div>\n",
       "<style scoped>\n",
       "    .dataframe tbody tr th:only-of-type {\n",
       "        vertical-align: middle;\n",
       "    }\n",
       "\n",
       "    .dataframe tbody tr th {\n",
       "        vertical-align: top;\n",
       "    }\n",
       "\n",
       "    .dataframe thead th {\n",
       "        text-align: right;\n",
       "    }\n",
       "</style>\n",
       "<table border=\"1\" class=\"dataframe\">\n",
       "  <thead>\n",
       "    <tr style=\"text-align: right;\">\n",
       "      <th></th>\n",
       "      <th>gps_sn</th>\n",
       "      <th>车牌号</th>\n",
       "      <th>gps时间间隔(秒)</th>\n",
       "      <th>Unnamed: 3</th>\n",
       "    </tr>\n",
       "  </thead>\n",
       "  <tbody>\n",
       "    <tr>\n",
       "      <th>0</th>\n",
       "      <td>868773050877235</td>\n",
       "      <td>苏AJ7270</td>\n",
       "      <td>150.166667</td>\n",
       "      <td>上午7:30或7:50以前间隔超过一分钟</td>\n",
       "    </tr>\n",
       "    <tr>\n",
       "      <th>1</th>\n",
       "      <td>868773050646382</td>\n",
       "      <td>苏AJ7977</td>\n",
       "      <td>150.166667</td>\n",
       "      <td>NaN</td>\n",
       "    </tr>\n",
       "    <tr>\n",
       "      <th>2</th>\n",
       "      <td>868773050943359</td>\n",
       "      <td>苏AJ7298</td>\n",
       "      <td>150.000000</td>\n",
       "      <td>NaN</td>\n",
       "    </tr>\n",
       "    <tr>\n",
       "      <th>3</th>\n",
       "      <td>868773050654550</td>\n",
       "      <td>苏AJ7980</td>\n",
       "      <td>150.000000</td>\n",
       "      <td>NaN</td>\n",
       "    </tr>\n",
       "  </tbody>\n",
       "</table>\n",
       "</div>"
      ],
      "text/plain": [
       "            gps_sn      车牌号  gps时间间隔(秒)            Unnamed: 3\n",
       "0  868773050877235  苏AJ7270  150.166667  上午7:30或7:50以前间隔超过一分钟\n",
       "1  868773050646382  苏AJ7977  150.166667                   NaN\n",
       "2  868773050943359  苏AJ7298  150.000000                   NaN\n",
       "3  868773050654550  苏AJ7980  150.000000                   NaN"
      ]
     },
     "execution_count": 37,
     "metadata": {},
     "output_type": "execute_result"
    }
   ],
   "source": [
    "bus_wrong_gps_df"
   ]
  },
  {
   "cell_type": "code",
   "execution_count": 38,
   "id": "03f34130",
   "metadata": {},
   "outputs": [
    {
     "data": {
      "text/plain": [
       "numpy.int64"
      ]
     },
     "execution_count": 38,
     "metadata": {},
     "output_type": "execute_result"
    }
   ],
   "source": [
    "# check data type\n",
    "type(bus_wrong_gps_df['gps_sn'].values[0])"
   ]
  },
  {
   "cell_type": "code",
   "execution_count": 39,
   "id": "628d228b",
   "metadata": {},
   "outputs": [
    {
     "data": {
      "text/plain": [
       "numpy.int64"
      ]
     },
     "execution_count": 39,
     "metadata": {},
     "output_type": "execute_result"
    }
   ],
   "source": [
    "# check data type\n",
    "type(gps_info_up['gps串号'].values[0])"
   ]
  },
  {
   "cell_type": "code",
   "execution_count": 40,
   "id": "fd77fd53",
   "metadata": {},
   "outputs": [],
   "source": [
    "# 去除异常值\n",
    "gps_info_up_cleaned = gps_info_up[~gps_info_up['gps串号'].isin(bus_wrong_gps_df['gps_sn'].values)]"
   ]
  },
  {
   "cell_type": "code",
   "execution_count": 41,
   "id": "f2e8005f",
   "metadata": {},
   "outputs": [
    {
     "data": {
      "text/plain": [
       "59"
      ]
     },
     "execution_count": 41,
     "metadata": {},
     "output_type": "execute_result"
    }
   ],
   "source": [
    "len(gps_info_up['gps串号'].unique())"
   ]
  },
  {
   "cell_type": "code",
   "execution_count": 42,
   "id": "a63691e7",
   "metadata": {},
   "outputs": [
    {
     "data": {
      "text/plain": [
       "55"
      ]
     },
     "execution_count": 42,
     "metadata": {},
     "output_type": "execute_result"
    }
   ],
   "source": [
    "len(gps_info_up_cleaned['gps串号'].unique())"
   ]
  },
  {
   "cell_type": "markdown",
   "id": "2eca4987",
   "metadata": {},
   "source": [
    "## 实际运营车辆情况"
   ]
  },
  {
   "cell_type": "code",
   "execution_count": 43,
   "id": "af6264ae",
   "metadata": {},
   "outputs": [
    {
     "data": {
      "text/plain": [
       "array([868773050940116, 868773050937062, 868773050937088, 868773051025099,\n",
       "       868773050941585, 868773050940165, 868773050940066, 868773050942237,\n",
       "       868773050934630, 868773050945404, 868773051024381, 868773050942377,\n",
       "       868773050941288, 868773050942286, 868773050934655, 868773051026642,\n",
       "       868773050942294, 868773050939910, 868773050933251, 868773051027640,\n",
       "       868773050939902, 868773050939936, 868773050939928, 868773051026998,\n",
       "       868773050939993, 868773051024779, 868773050939985, 868773050939506,\n",
       "       868773050939555, 868773050940652, 868773050939456, 868773050941528,\n",
       "       868773050939449, 868773051024928, 868773050939464, 868773051022153,\n",
       "       868773050944795, 868773050944811, 868773050929010, 868773050864423,\n",
       "       868773050941403, 868773050941569, 868773051027004, 868773050945388,\n",
       "       868773051026626, 868773050938227, 868773050945123, 868773050939423,\n",
       "       868773050945768, 868773050939415, 868773050937054, 868773050940405,\n",
       "       868773050945289, 868773050945743, 868773050946287], dtype=int64)"
      ]
     },
     "execution_count": 43,
     "metadata": {},
     "output_type": "execute_result"
    }
   ],
   "source": [
    "#valid gps_sn\n",
    "gps_info_up_cleaned['gps串号'].unique()"
   ]
  },
  {
   "cell_type": "code",
   "execution_count": 44,
   "id": "6562e46a",
   "metadata": {},
   "outputs": [],
   "source": [
    "#抽取一个gps_sn\n",
    "this_sn = '868773050940116'"
   ]
  },
  {
   "cell_type": "code",
   "execution_count": null,
   "id": "67ed4a1b",
   "metadata": {
    "scrolled": true
   },
   "outputs": [],
   "source": []
  },
  {
   "cell_type": "markdown",
   "id": "64805d3b",
   "metadata": {},
   "source": [
    "#### 获得相对应GPS数据\n"
   ]
  },
  {
   "cell_type": "code",
   "execution_count": 45,
   "id": "49d021b0",
   "metadata": {},
   "outputs": [],
   "source": [
    "this_data = gps_info_up_cleaned[gps_info_up_cleaned['gps串号']==int(this_sn)]\n",
    "this_data = this_data.sort_values(by='接收时间')\n"
   ]
  },
  {
   "cell_type": "code",
   "execution_count": 46,
   "id": "4e0401ed",
   "metadata": {},
   "outputs": [
    {
     "data": {
      "text/html": [
       "<div>\n",
       "<style scoped>\n",
       "    .dataframe tbody tr th:only-of-type {\n",
       "        vertical-align: middle;\n",
       "    }\n",
       "\n",
       "    .dataframe tbody tr th {\n",
       "        vertical-align: top;\n",
       "    }\n",
       "\n",
       "    .dataframe thead th {\n",
       "        text-align: right;\n",
       "    }\n",
       "</style>\n",
       "<table border=\"1\" class=\"dataframe\">\n",
       "  <thead>\n",
       "    <tr style=\"text-align: right;\">\n",
       "      <th></th>\n",
       "      <th>序号</th>\n",
       "      <th>gps串号</th>\n",
       "      <th>gps状态</th>\n",
       "      <th>经度</th>\n",
       "      <th>纬度</th>\n",
       "      <th>接收时间</th>\n",
       "      <th>速度</th>\n",
       "      <th>方向</th>\n",
       "      <th>电源状态</th>\n",
       "      <th>接收日期</th>\n",
       "    </tr>\n",
       "  </thead>\n",
       "  <tbody>\n",
       "    <tr>\n",
       "      <th>544647</th>\n",
       "      <td>6690308</td>\n",
       "      <td>868773050940116</td>\n",
       "      <td>1</td>\n",
       "      <td>118.713325</td>\n",
       "      <td>32.168419</td>\n",
       "      <td>2022-04-09 19:34:17</td>\n",
       "      <td>0</td>\n",
       "      <td>209</td>\n",
       "      <td>1</td>\n",
       "      <td>2022-04-09</td>\n",
       "    </tr>\n",
       "    <tr>\n",
       "      <th>75169</th>\n",
       "      <td>6220830</td>\n",
       "      <td>868773050940116</td>\n",
       "      <td>1</td>\n",
       "      <td>118.720388</td>\n",
       "      <td>32.146383</td>\n",
       "      <td>2022-04-01 20:52:19</td>\n",
       "      <td>0</td>\n",
       "      <td>53</td>\n",
       "      <td>1</td>\n",
       "      <td>2022-04-01</td>\n",
       "    </tr>\n",
       "  </tbody>\n",
       "</table>\n",
       "</div>"
      ],
      "text/plain": [
       "             序号            gps串号  gps状态          经度         纬度  \\\n",
       "544647  6690308  868773050940116      1  118.713325  32.168419   \n",
       "75169   6220830  868773050940116      1  118.720388  32.146383   \n",
       "\n",
       "                      接收时间  速度   方向  电源状态        接收日期  \n",
       "544647 2022-04-09 19:34:17   0  209     1  2022-04-09  \n",
       "75169  2022-04-01 20:52:19   0   53     1  2022-04-01  "
      ]
     },
     "execution_count": 46,
     "metadata": {},
     "output_type": "execute_result"
    }
   ],
   "source": [
    "this_data.sample(2)"
   ]
  },
  {
   "cell_type": "markdown",
   "id": "97c0d73f",
   "metadata": {},
   "source": [
    "#### 获得车辆信息"
   ]
  },
  {
   "cell_type": "code",
   "execution_count": 47,
   "id": "84aea68b",
   "metadata": {},
   "outputs": [],
   "source": [
    "this_bus_id = int(gps[gps['gps_sn']==this_sn].bus_id)\n",
    "this_bus_plate = bus[bus['id']==this_bus_id].bus_plate.values[0] "
   ]
  },
  {
   "cell_type": "code",
   "execution_count": 48,
   "id": "4694a8b3",
   "metadata": {},
   "outputs": [
    {
     "data": {
      "text/plain": [
       "'苏AE1928'"
      ]
     },
     "execution_count": 48,
     "metadata": {},
     "output_type": "execute_result"
    }
   ],
   "source": [
    "this_bus_plate"
   ]
  },
  {
   "cell_type": "markdown",
   "id": "2b7acc1e",
   "metadata": {},
   "source": [
    "#### 获得车次&站点信息"
   ]
  },
  {
   "cell_type": "code",
   "execution_count": 49,
   "id": "c5143d1a",
   "metadata": {},
   "outputs": [
    {
     "name": "stderr",
     "output_type": "stream",
     "text": [
      "C:\\Users\\10157\\AppData\\Local\\Temp\\ipykernel_17332\\3410247740.py:4: FutureWarning: The frame.append method is deprecated and will be removed from pandas in a future version. Use pandas.concat instead.\n",
      "  this_zhandian_linked = this_zhandian_linked.append(shike[shike['车次id']==checi_])\n",
      "C:\\Users\\10157\\AppData\\Local\\Temp\\ipykernel_17332\\3410247740.py:4: FutureWarning: The frame.append method is deprecated and will be removed from pandas in a future version. Use pandas.concat instead.\n",
      "  this_zhandian_linked = this_zhandian_linked.append(shike[shike['车次id']==checi_])\n"
     ]
    }
   ],
   "source": [
    "this_checi_linked = duiying[duiying['车牌号']==this_bus_plate]['车次id'].values\n",
    "this_zhandian_linked = pd.DataFrame(columns=['路线', '车次id', '站序', '站点', '时间', '经度', '纬度'])\n",
    "for checi_ in this_checi_linked:\n",
    "    this_zhandian_linked = this_zhandian_linked.append(shike[shike['车次id']==checi_])"
   ]
  },
  {
   "cell_type": "code",
   "execution_count": 50,
   "id": "2856b887",
   "metadata": {},
   "outputs": [
    {
     "data": {
      "text/plain": [
       "array([164, 174], dtype=int64)"
      ]
     },
     "execution_count": 50,
     "metadata": {},
     "output_type": "execute_result"
    }
   ],
   "source": [
    "#possible车次\n",
    "this_checi_linked"
   ]
  },
  {
   "cell_type": "code",
   "execution_count": 51,
   "id": "4b883bb5",
   "metadata": {},
   "outputs": [
    {
     "data": {
      "text/html": [
       "<div>\n",
       "<style scoped>\n",
       "    .dataframe tbody tr th:only-of-type {\n",
       "        vertical-align: middle;\n",
       "    }\n",
       "\n",
       "    .dataframe tbody tr th {\n",
       "        vertical-align: top;\n",
       "    }\n",
       "\n",
       "    .dataframe thead th {\n",
       "        text-align: right;\n",
       "    }\n",
       "</style>\n",
       "<table border=\"1\" class=\"dataframe\">\n",
       "  <thead>\n",
       "    <tr style=\"text-align: right;\">\n",
       "      <th></th>\n",
       "      <th>路线</th>\n",
       "      <th>车次id</th>\n",
       "      <th>站序</th>\n",
       "      <th>站点</th>\n",
       "      <th>时间</th>\n",
       "      <th>经度</th>\n",
       "      <th>纬度</th>\n",
       "    </tr>\n",
       "  </thead>\n",
       "  <tbody>\n",
       "    <tr>\n",
       "      <th>828</th>\n",
       "      <td>Y16</td>\n",
       "      <td>164</td>\n",
       "      <td>1</td>\n",
       "      <td>星火路地铁站</td>\n",
       "      <td>07:45:00</td>\n",
       "      <td>118.70489</td>\n",
       "      <td>32.16273</td>\n",
       "    </tr>\n",
       "    <tr>\n",
       "      <th>829</th>\n",
       "      <td>Y16</td>\n",
       "      <td>164</td>\n",
       "      <td>2</td>\n",
       "      <td>云驰街</td>\n",
       "      <td>08:30:00</td>\n",
       "      <td>118.649936</td>\n",
       "      <td>32.043162</td>\n",
       "    </tr>\n",
       "    <tr>\n",
       "      <th>830</th>\n",
       "      <td>Y16</td>\n",
       "      <td>164</td>\n",
       "      <td>3</td>\n",
       "      <td>网易数字产业基地</td>\n",
       "      <td>08:39:00</td>\n",
       "      <td>118.62179</td>\n",
       "      <td>32.02258</td>\n",
       "    </tr>\n",
       "    <tr>\n",
       "      <th>831</th>\n",
       "      <td>Y16</td>\n",
       "      <td>164</td>\n",
       "      <td>4</td>\n",
       "      <td>耀华</td>\n",
       "      <td>08:40:00</td>\n",
       "      <td>118.620302</td>\n",
       "      <td>32.022355</td>\n",
       "    </tr>\n",
       "    <tr>\n",
       "      <th>832</th>\n",
       "      <td>Y16</td>\n",
       "      <td>164</td>\n",
       "      <td>5</td>\n",
       "      <td>光电科技园</td>\n",
       "      <td>08:45:00</td>\n",
       "      <td>118.609818</td>\n",
       "      <td>32.023728</td>\n",
       "    </tr>\n",
       "    <tr>\n",
       "      <th>833</th>\n",
       "      <td>Y16</td>\n",
       "      <td>164</td>\n",
       "      <td>6</td>\n",
       "      <td>行知路</td>\n",
       "      <td>08:50:00</td>\n",
       "      <td>118.61339</td>\n",
       "      <td>32.0294</td>\n",
       "    </tr>\n",
       "    <tr>\n",
       "      <th>888</th>\n",
       "      <td>Y16</td>\n",
       "      <td>174</td>\n",
       "      <td>1</td>\n",
       "      <td>行知路</td>\n",
       "      <td>17:17:00</td>\n",
       "      <td>118.61339</td>\n",
       "      <td>32.0294</td>\n",
       "    </tr>\n",
       "    <tr>\n",
       "      <th>889</th>\n",
       "      <td>Y16</td>\n",
       "      <td>174</td>\n",
       "      <td>2</td>\n",
       "      <td>光电科技园</td>\n",
       "      <td>17:20:00</td>\n",
       "      <td>118.609818</td>\n",
       "      <td>32.023728</td>\n",
       "    </tr>\n",
       "    <tr>\n",
       "      <th>890</th>\n",
       "      <td>Y16</td>\n",
       "      <td>174</td>\n",
       "      <td>3</td>\n",
       "      <td>耀华</td>\n",
       "      <td>17:23:00</td>\n",
       "      <td>118.620302</td>\n",
       "      <td>32.022355</td>\n",
       "    </tr>\n",
       "    <tr>\n",
       "      <th>891</th>\n",
       "      <td>Y16</td>\n",
       "      <td>174</td>\n",
       "      <td>4</td>\n",
       "      <td>网易数字产业基地</td>\n",
       "      <td>17:24:00</td>\n",
       "      <td>118.62179</td>\n",
       "      <td>32.02258</td>\n",
       "    </tr>\n",
       "    <tr>\n",
       "      <th>892</th>\n",
       "      <td>Y16</td>\n",
       "      <td>174</td>\n",
       "      <td>5</td>\n",
       "      <td>云驰街</td>\n",
       "      <td>17:35:00</td>\n",
       "      <td>118.649936</td>\n",
       "      <td>32.043162</td>\n",
       "    </tr>\n",
       "    <tr>\n",
       "      <th>893</th>\n",
       "      <td>Y16</td>\n",
       "      <td>174</td>\n",
       "      <td>6</td>\n",
       "      <td>星火路地铁站</td>\n",
       "      <td>18:05:00</td>\n",
       "      <td>118.70489</td>\n",
       "      <td>32.16273</td>\n",
       "    </tr>\n",
       "  </tbody>\n",
       "</table>\n",
       "</div>"
      ],
      "text/plain": [
       "      路线 车次id 站序        站点        时间          经度         纬度\n",
       "828  Y16  164  1    星火路地铁站  07:45:00   118.70489   32.16273\n",
       "829  Y16  164  2       云驰街  08:30:00  118.649936  32.043162\n",
       "830  Y16  164  3  网易数字产业基地  08:39:00   118.62179   32.02258\n",
       "831  Y16  164  4        耀华  08:40:00  118.620302  32.022355\n",
       "832  Y16  164  5     光电科技园  08:45:00  118.609818  32.023728\n",
       "833  Y16  164  6       行知路  08:50:00   118.61339    32.0294\n",
       "888  Y16  174  1       行知路  17:17:00   118.61339    32.0294\n",
       "889  Y16  174  2     光电科技园  17:20:00  118.609818  32.023728\n",
       "890  Y16  174  3        耀华  17:23:00  118.620302  32.022355\n",
       "891  Y16  174  4  网易数字产业基地  17:24:00   118.62179   32.02258\n",
       "892  Y16  174  5       云驰街  17:35:00  118.649936  32.043162\n",
       "893  Y16  174  6    星火路地铁站  18:05:00   118.70489   32.16273"
      ]
     },
     "execution_count": 51,
     "metadata": {},
     "output_type": "execute_result"
    }
   ],
   "source": [
    "#possible站点\n",
    "this_zhandian_linked"
   ]
  },
  {
   "cell_type": "markdown",
   "id": "104ae0e9",
   "metadata": {},
   "source": [
    "#### 获得车辆活动日期"
   ]
  },
  {
   "cell_type": "code",
   "execution_count": 52,
   "id": "2b7b706f",
   "metadata": {},
   "outputs": [],
   "source": [
    "# dates at which signals collected\n",
    "this_signal_dates = this_data['接收日期'].unique()"
   ]
  },
  {
   "cell_type": "code",
   "execution_count": 53,
   "id": "d7f7b3bc",
   "metadata": {},
   "outputs": [
    {
     "data": {
      "text/plain": [
       "array(['2022-04-01', '2022-04-02', '2022-04-06', '2022-04-07',\n",
       "       '2022-04-08', '2022-04-09', '2022-04-10', '2022-04-11',\n",
       "       '2022-04-12', '2022-04-13', '2022-04-14'], dtype=object)"
      ]
     },
     "execution_count": 53,
     "metadata": {},
     "output_type": "execute_result"
    }
   ],
   "source": [
    "this_signal_dates"
   ]
  },
  {
   "cell_type": "markdown",
   "id": "5bd10b3b",
   "metadata": {},
   "source": [
    "#### 确定所有的首尾站组合"
   ]
  },
  {
   "cell_type": "code",
   "execution_count": 54,
   "id": "a9bf1d53",
   "metadata": {},
   "outputs": [],
   "source": [
    "#valid start stations\n",
    "this_valid_stations = this_zhandian_linked[this_zhandian_linked['站序']==1]\n",
    "this_station_start = this_valid_stations['站点'].values\n",
    "this_checi_start = this_valid_stations['车次id'].values\n",
    "this_time_start_true = this_valid_stations['时间'].values\n",
    "\n",
    "#valid end stations\n",
    "this_last_valid = this_zhandian_linked.groupby('车次id').last()\n",
    "this_last_valid = this_last_valid.reset_index()\n",
    "this_station_end = this_last_valid['站点'].values\n",
    "this_checi_end = this_last_valid['车次id'].values\n",
    "this_time_end_true = this_last_valid['时间'].values"
   ]
  },
  {
   "cell_type": "markdown",
   "id": "8ef527af",
   "metadata": {},
   "source": [
    "#### 判断车次车辆是否一致"
   ]
  },
  {
   "cell_type": "markdown",
   "id": "585fddbd",
   "metadata": {},
   "source": [
    "评估1. 在首站前后1分钟，且1km之内，GPS接收次数不为0；在末站前后5分钟，且5km之内，GPS接收次数不为0。两个条件满足之一即可。\n",
    "\n",
    "评估2. 该车次首末站时间段内是否经过首末站。假设公交车行驶速度30km/h，即0.5km/min； 假设GPS数据迟钝30s，即0.5min； 假设GPS定位误差200m  -是否经过首末站标准：范围0.27km距离\n",
    "\n",
    "综合评估 = 评估1 + 评估2\n",
    "\n",
    "##### 到达末站时间点以后的行驶时间不能超过20min\n",
    "\n",
    "If当前GPS收集时间 - 时刻表末尾站时间 > 20 \n",
    "\n",
    "-> then评估2降为0"
   ]
  },
  {
   "cell_type": "code",
   "execution_count": 55,
   "id": "5b062964",
   "metadata": {},
   "outputs": [],
   "source": [
    "#计算位置和站点的距离\n",
    "def distance(curr_long, curr_lat, station_long, station_lat):\n",
    "    curr_ = (curr_lat, curr_long)\n",
    "    station_ = (station_lat, station_long)\n",
    " \n",
    "    return (geodesic(curr_, station_).km)\n",
    "    #return ((curr_long-station_long)**2+(curr_lat-station_lat)**2)**(1/2)\n",
    "    #return (abs(curr_long-station_long)+abs(curr_lat-station_lat))"
   ]
  },
  {
   "cell_type": "code",
   "execution_count": 56,
   "id": "e326e397",
   "metadata": {},
   "outputs": [],
   "source": [
    "def find_possible_routes(dates, eval_df, data):\n",
    "    \n",
    "    for eachD_id in range(len(dates)):\n",
    "        \n",
    "        #data at this date\n",
    "        try_data = data[data['接收日期']==dates[eachD_id]]\n",
    "        \n",
    "        for i in range(len(this_station_start)):\n",
    "            current_station_row_start = this_valid_stations.iloc[i]\n",
    "            current_station_row_end = this_last_valid.iloc[i]\n",
    "\n",
    "            current_luxian = current_station_row_start['路线']\n",
    "            current_checi = current_station_row_start['车次id']\n",
    "            current_zhandian_start = current_station_row_start['站点']\n",
    "            current_zhandian_end = current_station_row_end['站点']\n",
    "            current_start_time_true = current_station_row_start['时间']\n",
    "            current_end_time_true = current_station_row_end['时间']\n",
    "            \n",
    "            \n",
    "            \n",
    "            \n",
    "            #是否合格\n",
    "            satisfy_start= 0\n",
    "            satisfy_end = 0\n",
    "            check_standard2 = 0\n",
    "            \n",
    "            #接收GPS次数\n",
    "            c_start = 0\n",
    "            c_end = 0\n",
    "            \n",
    "            #iterate signals to find valid counts\n",
    "            for index1, row1 in try_data.iterrows():\n",
    "                \n",
    "                date_ = row1['接收日期']\n",
    "                dt1 = row1['接收时间']\n",
    "                time_format = \"%Y-%m-%d %H:%M:%S\"\n",
    "                \n",
    "                time_supposed_start = date_+' '+current_station_row_start['时间']\n",
    "                time_supposed_end = date_+' '+current_station_row_end['时间']\n",
    "                time_supposed_start = datetime.strptime(time_supposed_start, time_format)\n",
    "                time_supposed_end = datetime.strptime(time_supposed_end, time_format)\n",
    "                \n",
    "                time_after_end = (dt1 - time_supposed_end).total_seconds() / 60\n",
    "                \n",
    "                \"\"\"\n",
    "                if time_after_end>100:\n",
    "                    #print(time_after_end)\n",
    "                    check_standard2 = 0\n",
    "                \"\"\"\n",
    "                \n",
    "                #离起点距离\n",
    "                dist_to_start = distance(row1['经度'], row1['纬度'], current_station_row_start['经度'], current_station_row_start['纬度'])\n",
    "                #离终点距离\n",
    "                dist_to_end = distance(row1['经度'], row1['纬度'], current_station_row_end['经度'], current_station_row_end['纬度'])\n",
    "                \n",
    "                \n",
    "                \n",
    "                #距离起点1km内\n",
    "                if dist_to_start<=1:\n",
    "                #if (abs(row1['经度']-current_station_row_start['经度'])+abs(row1['纬度']-current_station_row_start['纬度'])<=0.001):\n",
    "                    \n",
    "                    \n",
    "                    #abs_diff = abs((dt2 - dt1) // timedelta(minutes=1))\n",
    "                    time_diff = (time_supposed_start - dt1).total_seconds() / 60\n",
    "                    abs_diff = abs(time_diff)\n",
    "                    \n",
    "                    #print('..')\n",
    "                    #前后一分钟\n",
    "                    if (abs_diff<=1):\n",
    "                        c_start += 1\n",
    "                    \n",
    "                    #到达预计首站出发时间, GPS可能有30s延迟\n",
    "                    if time_diff<=-0.5:\n",
    "                        \n",
    "                        #经过始发站\n",
    "                        if distance(row1['经度'], row1['纬度'], current_station_row_start['经度'], current_station_row_start['纬度'])<=0.2:\n",
    "                        #if (abs(row1['经度']-current_station_row_start['经度'])+abs(row1['纬度']-current_station_row_start['纬度'])<=0.0003):\n",
    "                            \n",
    "                            check_standard2 = 1\n",
    "                            \n",
    "                \n",
    "                #距离终点5km内\n",
    "                elif dist_to_end<=5:\n",
    "                #elif  (abs(row1['经度']-current_station_row_end['经度'])+abs(row1['纬度']-current_station_row_end['纬度'])<=0.005):\n",
    "                    \n",
    "                    time_diff = (time_supposed_end - dt1).total_seconds() / 60\n",
    "                    abs_diff = abs(time_diff)\n",
    "                    \n",
    "                    #print('.. ..')\n",
    "                    #前后五分钟\n",
    "                    if (abs_diff<=5):\n",
    "                        #print('...yes')\n",
    "                        c_end += 1\n",
    "                    \n",
    "                    #到达预计终点站到达时间, GPS可能有30s延迟\n",
    "                    if time_diff>=-0.5:\n",
    "            \n",
    "                        #经过终点站\n",
    "                        if distance(row1['经度'], row1['纬度'], current_station_row_end['经度'], current_station_row_end['纬度'])<=0.2:\n",
    "                        #if (abs(row1['经度']-current_station_row_end['经度'])+abs(row1['纬度']-current_station_row_end['纬度'])<=0.0003):\n",
    "                            if check_standard2: \n",
    "                                check_standard2=1\n",
    "                                pass_end = 1\n",
    "                            else:\n",
    "                                check_standard2=0\n",
    "                        else:\n",
    "                            check_standard2=0\n",
    "                \n",
    "                #standard 1 validation\n",
    "                if c_start>0: satisfy_start = 1\n",
    "                if c_end>0: satisfy_end = 1\n",
    "                    \n",
    "                #check standard 1\n",
    "                check_standard1 = satisfy_start | satisfy_end\n",
    "                #if satisfy_start | satisfy_end: check_standard1=1\n",
    "                \n",
    "                #overalll evaluation\n",
    "                overall_eval = check_standard1 + check_standard2\n",
    "                \n",
    "            #add record to the eval_df\n",
    "            eval_df.loc[len(eval_df.index)] = [dates[eachD_id], current_luxian, current_checi, current_zhandian_start, c_start, satisfy_start, current_zhandian_end, c_end, satisfy_end, check_standard1, check_standard2, overall_eval]"
   ]
  },
  {
   "cell_type": "code",
   "execution_count": 57,
   "id": "873f9cb4",
   "metadata": {},
   "outputs": [
    {
     "name": "stdout",
     "output_type": "stream",
     "text": [
      "gps_sn:  868773050940116\n",
      "车牌:  苏AE1928\n",
      "bus_id:  55\n"
     ]
    },
    {
     "data": {
      "text/html": [
       "<div>\n",
       "<style scoped>\n",
       "    .dataframe tbody tr th:only-of-type {\n",
       "        vertical-align: middle;\n",
       "    }\n",
       "\n",
       "    .dataframe tbody tr th {\n",
       "        vertical-align: top;\n",
       "    }\n",
       "\n",
       "    .dataframe thead th {\n",
       "        text-align: right;\n",
       "    }\n",
       "</style>\n",
       "<table border=\"1\" class=\"dataframe\">\n",
       "  <thead>\n",
       "    <tr style=\"text-align: right;\">\n",
       "      <th></th>\n",
       "      <th>日期</th>\n",
       "      <th>路线</th>\n",
       "      <th>车次id</th>\n",
       "      <th>起点</th>\n",
       "      <th>起点接收次数</th>\n",
       "      <th>起点合格</th>\n",
       "      <th>终点</th>\n",
       "      <th>终点接收次数</th>\n",
       "      <th>终点合格</th>\n",
       "      <th>评估1</th>\n",
       "      <th>评估2</th>\n",
       "      <th>综合评估</th>\n",
       "    </tr>\n",
       "  </thead>\n",
       "  <tbody>\n",
       "    <tr>\n",
       "      <th>0</th>\n",
       "      <td>2022-04-01</td>\n",
       "      <td>Y16</td>\n",
       "      <td>164</td>\n",
       "      <td>星火路地铁站</td>\n",
       "      <td>4</td>\n",
       "      <td>1</td>\n",
       "      <td>行知路</td>\n",
       "      <td>20</td>\n",
       "      <td>1</td>\n",
       "      <td>1</td>\n",
       "      <td>1</td>\n",
       "      <td>2</td>\n",
       "    </tr>\n",
       "    <tr>\n",
       "      <th>1</th>\n",
       "      <td>2022-04-01</td>\n",
       "      <td>Y16</td>\n",
       "      <td>174</td>\n",
       "      <td>行知路</td>\n",
       "      <td>3</td>\n",
       "      <td>1</td>\n",
       "      <td>星火路地铁站</td>\n",
       "      <td>24</td>\n",
       "      <td>1</td>\n",
       "      <td>1</td>\n",
       "      <td>0</td>\n",
       "      <td>1</td>\n",
       "    </tr>\n",
       "    <tr>\n",
       "      <th>2</th>\n",
       "      <td>2022-04-02</td>\n",
       "      <td>Y16</td>\n",
       "      <td>164</td>\n",
       "      <td>星火路地铁站</td>\n",
       "      <td>4</td>\n",
       "      <td>1</td>\n",
       "      <td>行知路</td>\n",
       "      <td>20</td>\n",
       "      <td>1</td>\n",
       "      <td>1</td>\n",
       "      <td>1</td>\n",
       "      <td>2</td>\n",
       "    </tr>\n",
       "    <tr>\n",
       "      <th>3</th>\n",
       "      <td>2022-04-02</td>\n",
       "      <td>Y16</td>\n",
       "      <td>174</td>\n",
       "      <td>行知路</td>\n",
       "      <td>6</td>\n",
       "      <td>1</td>\n",
       "      <td>星火路地铁站</td>\n",
       "      <td>21</td>\n",
       "      <td>1</td>\n",
       "      <td>1</td>\n",
       "      <td>0</td>\n",
       "      <td>1</td>\n",
       "    </tr>\n",
       "    <tr>\n",
       "      <th>4</th>\n",
       "      <td>2022-04-06</td>\n",
       "      <td>Y16</td>\n",
       "      <td>164</td>\n",
       "      <td>星火路地铁站</td>\n",
       "      <td>4</td>\n",
       "      <td>1</td>\n",
       "      <td>行知路</td>\n",
       "      <td>20</td>\n",
       "      <td>1</td>\n",
       "      <td>1</td>\n",
       "      <td>1</td>\n",
       "      <td>2</td>\n",
       "    </tr>\n",
       "    <tr>\n",
       "      <th>5</th>\n",
       "      <td>2022-04-06</td>\n",
       "      <td>Y16</td>\n",
       "      <td>174</td>\n",
       "      <td>行知路</td>\n",
       "      <td>7</td>\n",
       "      <td>1</td>\n",
       "      <td>星火路地铁站</td>\n",
       "      <td>24</td>\n",
       "      <td>1</td>\n",
       "      <td>1</td>\n",
       "      <td>0</td>\n",
       "      <td>1</td>\n",
       "    </tr>\n",
       "    <tr>\n",
       "      <th>6</th>\n",
       "      <td>2022-04-07</td>\n",
       "      <td>Y16</td>\n",
       "      <td>164</td>\n",
       "      <td>星火路地铁站</td>\n",
       "      <td>4</td>\n",
       "      <td>1</td>\n",
       "      <td>行知路</td>\n",
       "      <td>20</td>\n",
       "      <td>1</td>\n",
       "      <td>1</td>\n",
       "      <td>1</td>\n",
       "      <td>2</td>\n",
       "    </tr>\n",
       "    <tr>\n",
       "      <th>7</th>\n",
       "      <td>2022-04-07</td>\n",
       "      <td>Y16</td>\n",
       "      <td>174</td>\n",
       "      <td>行知路</td>\n",
       "      <td>5</td>\n",
       "      <td>1</td>\n",
       "      <td>星火路地铁站</td>\n",
       "      <td>33</td>\n",
       "      <td>1</td>\n",
       "      <td>1</td>\n",
       "      <td>0</td>\n",
       "      <td>1</td>\n",
       "    </tr>\n",
       "    <tr>\n",
       "      <th>8</th>\n",
       "      <td>2022-04-08</td>\n",
       "      <td>Y16</td>\n",
       "      <td>164</td>\n",
       "      <td>星火路地铁站</td>\n",
       "      <td>4</td>\n",
       "      <td>1</td>\n",
       "      <td>行知路</td>\n",
       "      <td>20</td>\n",
       "      <td>1</td>\n",
       "      <td>1</td>\n",
       "      <td>1</td>\n",
       "      <td>2</td>\n",
       "    </tr>\n",
       "    <tr>\n",
       "      <th>9</th>\n",
       "      <td>2022-04-08</td>\n",
       "      <td>Y16</td>\n",
       "      <td>174</td>\n",
       "      <td>行知路</td>\n",
       "      <td>6</td>\n",
       "      <td>1</td>\n",
       "      <td>星火路地铁站</td>\n",
       "      <td>25</td>\n",
       "      <td>1</td>\n",
       "      <td>1</td>\n",
       "      <td>0</td>\n",
       "      <td>1</td>\n",
       "    </tr>\n",
       "    <tr>\n",
       "      <th>10</th>\n",
       "      <td>2022-04-09</td>\n",
       "      <td>Y16</td>\n",
       "      <td>164</td>\n",
       "      <td>星火路地铁站</td>\n",
       "      <td>4</td>\n",
       "      <td>1</td>\n",
       "      <td>行知路</td>\n",
       "      <td>20</td>\n",
       "      <td>1</td>\n",
       "      <td>1</td>\n",
       "      <td>1</td>\n",
       "      <td>2</td>\n",
       "    </tr>\n",
       "    <tr>\n",
       "      <th>11</th>\n",
       "      <td>2022-04-09</td>\n",
       "      <td>Y16</td>\n",
       "      <td>174</td>\n",
       "      <td>行知路</td>\n",
       "      <td>5</td>\n",
       "      <td>1</td>\n",
       "      <td>星火路地铁站</td>\n",
       "      <td>23</td>\n",
       "      <td>1</td>\n",
       "      <td>1</td>\n",
       "      <td>0</td>\n",
       "      <td>1</td>\n",
       "    </tr>\n",
       "    <tr>\n",
       "      <th>12</th>\n",
       "      <td>2022-04-10</td>\n",
       "      <td>Y16</td>\n",
       "      <td>164</td>\n",
       "      <td>星火路地铁站</td>\n",
       "      <td>0</td>\n",
       "      <td>0</td>\n",
       "      <td>行知路</td>\n",
       "      <td>0</td>\n",
       "      <td>0</td>\n",
       "      <td>0</td>\n",
       "      <td>0</td>\n",
       "      <td>0</td>\n",
       "    </tr>\n",
       "    <tr>\n",
       "      <th>13</th>\n",
       "      <td>2022-04-10</td>\n",
       "      <td>Y16</td>\n",
       "      <td>174</td>\n",
       "      <td>行知路</td>\n",
       "      <td>0</td>\n",
       "      <td>0</td>\n",
       "      <td>星火路地铁站</td>\n",
       "      <td>19</td>\n",
       "      <td>1</td>\n",
       "      <td>1</td>\n",
       "      <td>0</td>\n",
       "      <td>1</td>\n",
       "    </tr>\n",
       "    <tr>\n",
       "      <th>14</th>\n",
       "      <td>2022-04-11</td>\n",
       "      <td>Y16</td>\n",
       "      <td>164</td>\n",
       "      <td>星火路地铁站</td>\n",
       "      <td>4</td>\n",
       "      <td>1</td>\n",
       "      <td>行知路</td>\n",
       "      <td>20</td>\n",
       "      <td>1</td>\n",
       "      <td>1</td>\n",
       "      <td>1</td>\n",
       "      <td>2</td>\n",
       "    </tr>\n",
       "    <tr>\n",
       "      <th>15</th>\n",
       "      <td>2022-04-11</td>\n",
       "      <td>Y16</td>\n",
       "      <td>174</td>\n",
       "      <td>行知路</td>\n",
       "      <td>5</td>\n",
       "      <td>1</td>\n",
       "      <td>星火路地铁站</td>\n",
       "      <td>26</td>\n",
       "      <td>1</td>\n",
       "      <td>1</td>\n",
       "      <td>0</td>\n",
       "      <td>1</td>\n",
       "    </tr>\n",
       "    <tr>\n",
       "      <th>16</th>\n",
       "      <td>2022-04-12</td>\n",
       "      <td>Y16</td>\n",
       "      <td>164</td>\n",
       "      <td>星火路地铁站</td>\n",
       "      <td>7</td>\n",
       "      <td>1</td>\n",
       "      <td>行知路</td>\n",
       "      <td>20</td>\n",
       "      <td>1</td>\n",
       "      <td>1</td>\n",
       "      <td>1</td>\n",
       "      <td>2</td>\n",
       "    </tr>\n",
       "    <tr>\n",
       "      <th>17</th>\n",
       "      <td>2022-04-12</td>\n",
       "      <td>Y16</td>\n",
       "      <td>174</td>\n",
       "      <td>行知路</td>\n",
       "      <td>7</td>\n",
       "      <td>1</td>\n",
       "      <td>星火路地铁站</td>\n",
       "      <td>28</td>\n",
       "      <td>1</td>\n",
       "      <td>1</td>\n",
       "      <td>0</td>\n",
       "      <td>1</td>\n",
       "    </tr>\n",
       "    <tr>\n",
       "      <th>18</th>\n",
       "      <td>2022-04-13</td>\n",
       "      <td>Y16</td>\n",
       "      <td>164</td>\n",
       "      <td>星火路地铁站</td>\n",
       "      <td>0</td>\n",
       "      <td>0</td>\n",
       "      <td>行知路</td>\n",
       "      <td>0</td>\n",
       "      <td>0</td>\n",
       "      <td>0</td>\n",
       "      <td>1</td>\n",
       "      <td>1</td>\n",
       "    </tr>\n",
       "    <tr>\n",
       "      <th>19</th>\n",
       "      <td>2022-04-13</td>\n",
       "      <td>Y16</td>\n",
       "      <td>174</td>\n",
       "      <td>行知路</td>\n",
       "      <td>7</td>\n",
       "      <td>1</td>\n",
       "      <td>星火路地铁站</td>\n",
       "      <td>33</td>\n",
       "      <td>1</td>\n",
       "      <td>1</td>\n",
       "      <td>0</td>\n",
       "      <td>1</td>\n",
       "    </tr>\n",
       "    <tr>\n",
       "      <th>20</th>\n",
       "      <td>2022-04-14</td>\n",
       "      <td>Y16</td>\n",
       "      <td>164</td>\n",
       "      <td>星火路地铁站</td>\n",
       "      <td>5</td>\n",
       "      <td>1</td>\n",
       "      <td>行知路</td>\n",
       "      <td>20</td>\n",
       "      <td>1</td>\n",
       "      <td>1</td>\n",
       "      <td>1</td>\n",
       "      <td>2</td>\n",
       "    </tr>\n",
       "    <tr>\n",
       "      <th>21</th>\n",
       "      <td>2022-04-14</td>\n",
       "      <td>Y16</td>\n",
       "      <td>174</td>\n",
       "      <td>行知路</td>\n",
       "      <td>7</td>\n",
       "      <td>1</td>\n",
       "      <td>星火路地铁站</td>\n",
       "      <td>29</td>\n",
       "      <td>1</td>\n",
       "      <td>1</td>\n",
       "      <td>0</td>\n",
       "      <td>1</td>\n",
       "    </tr>\n",
       "  </tbody>\n",
       "</table>\n",
       "</div>"
      ],
      "text/plain": [
       "            日期   路线  车次id       起点  起点接收次数  起点合格      终点  终点接收次数  终点合格  评估1  \\\n",
       "0   2022-04-01  Y16   164   星火路地铁站       4     1     行知路      20     1    1   \n",
       "1   2022-04-01  Y16   174      行知路       3     1  星火路地铁站      24     1    1   \n",
       "2   2022-04-02  Y16   164   星火路地铁站       4     1     行知路      20     1    1   \n",
       "3   2022-04-02  Y16   174      行知路       6     1  星火路地铁站      21     1    1   \n",
       "4   2022-04-06  Y16   164   星火路地铁站       4     1     行知路      20     1    1   \n",
       "5   2022-04-06  Y16   174      行知路       7     1  星火路地铁站      24     1    1   \n",
       "6   2022-04-07  Y16   164   星火路地铁站       4     1     行知路      20     1    1   \n",
       "7   2022-04-07  Y16   174      行知路       5     1  星火路地铁站      33     1    1   \n",
       "8   2022-04-08  Y16   164   星火路地铁站       4     1     行知路      20     1    1   \n",
       "9   2022-04-08  Y16   174      行知路       6     1  星火路地铁站      25     1    1   \n",
       "10  2022-04-09  Y16   164   星火路地铁站       4     1     行知路      20     1    1   \n",
       "11  2022-04-09  Y16   174      行知路       5     1  星火路地铁站      23     1    1   \n",
       "12  2022-04-10  Y16   164   星火路地铁站       0     0     行知路       0     0    0   \n",
       "13  2022-04-10  Y16   174      行知路       0     0  星火路地铁站      19     1    1   \n",
       "14  2022-04-11  Y16   164   星火路地铁站       4     1     行知路      20     1    1   \n",
       "15  2022-04-11  Y16   174      行知路       5     1  星火路地铁站      26     1    1   \n",
       "16  2022-04-12  Y16   164   星火路地铁站       7     1     行知路      20     1    1   \n",
       "17  2022-04-12  Y16   174      行知路       7     1  星火路地铁站      28     1    1   \n",
       "18  2022-04-13  Y16   164   星火路地铁站       0     0     行知路       0     0    0   \n",
       "19  2022-04-13  Y16   174      行知路       7     1  星火路地铁站      33     1    1   \n",
       "20  2022-04-14  Y16   164   星火路地铁站       5     1     行知路      20     1    1   \n",
       "21  2022-04-14  Y16   174      行知路       7     1  星火路地铁站      29     1    1   \n",
       "\n",
       "    评估2  综合评估  \n",
       "0     1     2  \n",
       "1     0     1  \n",
       "2     1     2  \n",
       "3     0     1  \n",
       "4     1     2  \n",
       "5     0     1  \n",
       "6     1     2  \n",
       "7     0     1  \n",
       "8     1     2  \n",
       "9     0     1  \n",
       "10    1     2  \n",
       "11    0     1  \n",
       "12    0     0  \n",
       "13    0     1  \n",
       "14    1     2  \n",
       "15    0     1  \n",
       "16    1     2  \n",
       "17    0     1  \n",
       "18    1     1  \n",
       "19    0     1  \n",
       "20    1     2  \n",
       "21    0     1  "
      ]
     },
     "execution_count": 57,
     "metadata": {},
     "output_type": "execute_result"
    }
   ],
   "source": [
    "eval_df = pd.DataFrame(columns=['日期', '路线', '车次id', '起点', '起点接收次数', '起点合格', '终点', '终点接收次数', '终点合格', '评估1', '评估2', '综合评估'])\n",
    "find_possible_routes(this_signal_dates, eval_df, this_data)\n",
    "print('gps_sn: ', this_sn)\n",
    "print('车牌: ', this_bus_plate)\n",
    "print('bus_id: ', this_bus_id)\n",
    "\n",
    "eval_df"
   ]
  },
  {
   "cell_type": "markdown",
   "id": "396338a1",
   "metadata": {},
   "source": []
  },
  {
   "cell_type": "code",
   "execution_count": null,
   "id": "012c05a2",
   "metadata": {},
   "outputs": [],
   "source": []
  },
  {
   "cell_type": "code",
   "execution_count": null,
   "id": "3a4c6d09",
   "metadata": {},
   "outputs": [],
   "source": []
  },
  {
   "cell_type": "code",
   "execution_count": null,
   "id": "698f8b28",
   "metadata": {},
   "outputs": [],
   "source": []
  },
  {
   "cell_type": "markdown",
   "id": "d35c7ec1",
   "metadata": {},
   "source": [
    "#### 检测车辆轨迹"
   ]
  },
  {
   "cell_type": "markdown",
   "id": "141b7aa9",
   "metadata": {},
   "source": [
    "1. 查找1-3分钟内无移动GPS数据 \n",
    "2. 定位这个位置\n",
    "3. 定位离这个位置最近的站点\n",
    "3. 通过时刻表找到最近站点的所有乘车时刻t_shike\n",
    "5. 遍历t_shike,计算其与收到3条GPS信号的时候的时间差 \n",
    "6. （假设5分钟为合理范围）找到合理时间点对应的车站\n"
   ]
  },
  {
   "cell_type": "markdown",
   "id": "3a7e983f",
   "metadata": {},
   "source": [
    "假设20s一条数据，1-3分钟须有 3-9条数据"
   ]
  },
  {
   "cell_type": "code",
   "execution_count": 58,
   "id": "d5f376b6",
   "metadata": {},
   "outputs": [],
   "source": [
    "#各个站点gps定位\n",
    "site_gps = pd.read_excel('C:/intern/data/docs_updated/路线站点信息/site_gps.xlsx')"
   ]
  },
  {
   "cell_type": "code",
   "execution_count": 59,
   "id": "f3f50b8f",
   "metadata": {},
   "outputs": [
    {
     "data": {
      "text/plain": [
       "120"
      ]
     },
     "execution_count": 59,
     "metadata": {},
     "output_type": "execute_result"
    }
   ],
   "source": [
    "len(site_gps)"
   ]
  },
  {
   "cell_type": "code",
   "execution_count": 60,
   "id": "55220432",
   "metadata": {},
   "outputs": [],
   "source": [
    "#只想知道站点位置，去除路线column，再去重\n",
    "#site_gps.drop ('Y路线', axis=1, inplace=True)\n",
    "#site_gps.drop_duplicates(keep = False, inplace = True)"
   ]
  },
  {
   "cell_type": "code",
   "execution_count": 61,
   "id": "b6b9f9dd",
   "metadata": {},
   "outputs": [
    {
     "data": {
      "text/plain": [
       "120"
      ]
     },
     "execution_count": 61,
     "metadata": {},
     "output_type": "execute_result"
    }
   ],
   "source": [
    "len(site_gps)"
   ]
  },
  {
   "cell_type": "code",
   "execution_count": 62,
   "id": "a845ccc2",
   "metadata": {},
   "outputs": [
    {
     "data": {
      "text/html": [
       "<div>\n",
       "<style scoped>\n",
       "    .dataframe tbody tr th:only-of-type {\n",
       "        vertical-align: middle;\n",
       "    }\n",
       "\n",
       "    .dataframe tbody tr th {\n",
       "        vertical-align: top;\n",
       "    }\n",
       "\n",
       "    .dataframe thead th {\n",
       "        text-align: right;\n",
       "    }\n",
       "</style>\n",
       "<table border=\"1\" class=\"dataframe\">\n",
       "  <thead>\n",
       "    <tr style=\"text-align: right;\">\n",
       "      <th></th>\n",
       "      <th>Y路线</th>\n",
       "      <th>站点</th>\n",
       "      <th>经度</th>\n",
       "      <th>纬度</th>\n",
       "    </tr>\n",
       "  </thead>\n",
       "  <tbody>\n",
       "    <tr>\n",
       "      <th>60</th>\n",
       "      <td>Y14</td>\n",
       "      <td>云驰街</td>\n",
       "      <td>118.649936</td>\n",
       "      <td>32.043162</td>\n",
       "    </tr>\n",
       "    <tr>\n",
       "      <th>10</th>\n",
       "      <td>Y22</td>\n",
       "      <td>江苏省产业技术研究院</td>\n",
       "      <td>118.650760</td>\n",
       "      <td>32.033867</td>\n",
       "    </tr>\n",
       "    <tr>\n",
       "      <th>82</th>\n",
       "      <td>Y18</td>\n",
       "      <td>高新路.新科三路公交站</td>\n",
       "      <td>118.723728</td>\n",
       "      <td>32.180200</td>\n",
       "    </tr>\n",
       "    <tr>\n",
       "      <th>65</th>\n",
       "      <td>Y16</td>\n",
       "      <td>光电科技园</td>\n",
       "      <td>118.609818</td>\n",
       "      <td>32.023728</td>\n",
       "    </tr>\n",
       "    <tr>\n",
       "      <th>23</th>\n",
       "      <td>Y5</td>\n",
       "      <td>耀华</td>\n",
       "      <td>118.620302</td>\n",
       "      <td>32.022355</td>\n",
       "    </tr>\n",
       "    <tr>\n",
       "      <th>9</th>\n",
       "      <td>Y22</td>\n",
       "      <td>临江</td>\n",
       "      <td>118.672528</td>\n",
       "      <td>32.062686</td>\n",
       "    </tr>\n",
       "    <tr>\n",
       "      <th>72</th>\n",
       "      <td>Y17</td>\n",
       "      <td>创智大厦</td>\n",
       "      <td>118.703310</td>\n",
       "      <td>32.161130</td>\n",
       "    </tr>\n",
       "    <tr>\n",
       "      <th>41</th>\n",
       "      <td>Y9</td>\n",
       "      <td>行知路雨合路</td>\n",
       "      <td>118.613390</td>\n",
       "      <td>32.029400</td>\n",
       "    </tr>\n",
       "    <tr>\n",
       "      <th>70</th>\n",
       "      <td>Y17</td>\n",
       "      <td>云驰街</td>\n",
       "      <td>118.649936</td>\n",
       "      <td>32.043162</td>\n",
       "    </tr>\n",
       "    <tr>\n",
       "      <th>76</th>\n",
       "      <td>Y18</td>\n",
       "      <td>研发大厦</td>\n",
       "      <td>118.719410</td>\n",
       "      <td>32.163330</td>\n",
       "    </tr>\n",
       "  </tbody>\n",
       "</table>\n",
       "</div>"
      ],
      "text/plain": [
       "    Y路线           站点          经度         纬度\n",
       "60  Y14          云驰街  118.649936  32.043162\n",
       "10  Y22   江苏省产业技术研究院  118.650760  32.033867\n",
       "82  Y18  高新路.新科三路公交站  118.723728  32.180200\n",
       "65  Y16        光电科技园  118.609818  32.023728\n",
       "23   Y5           耀华  118.620302  32.022355\n",
       "9   Y22           临江  118.672528  32.062686\n",
       "72  Y17         创智大厦  118.703310  32.161130\n",
       "41   Y9       行知路雨合路  118.613390  32.029400\n",
       "70  Y17          云驰街  118.649936  32.043162\n",
       "76  Y18         研发大厦  118.719410  32.163330"
      ]
     },
     "execution_count": 62,
     "metadata": {},
     "output_type": "execute_result"
    }
   ],
   "source": [
    "site_gps.sample(10)"
   ]
  },
  {
   "cell_type": "code",
   "execution_count": 63,
   "id": "7d6b218e",
   "metadata": {
    "scrolled": true
   },
   "outputs": [
    {
     "data": {
      "text/html": [
       "<div>\n",
       "<style scoped>\n",
       "    .dataframe tbody tr th:only-of-type {\n",
       "        vertical-align: middle;\n",
       "    }\n",
       "\n",
       "    .dataframe tbody tr th {\n",
       "        vertical-align: top;\n",
       "    }\n",
       "\n",
       "    .dataframe thead th {\n",
       "        text-align: right;\n",
       "    }\n",
       "</style>\n",
       "<table border=\"1\" class=\"dataframe\">\n",
       "  <thead>\n",
       "    <tr style=\"text-align: right;\">\n",
       "      <th></th>\n",
       "      <th>路线</th>\n",
       "      <th>车次id</th>\n",
       "      <th>站序</th>\n",
       "      <th>站点</th>\n",
       "      <th>时间</th>\n",
       "      <th>经度</th>\n",
       "      <th>纬度</th>\n",
       "    </tr>\n",
       "  </thead>\n",
       "  <tbody>\n",
       "    <tr>\n",
       "      <th>1154</th>\n",
       "      <td>Y18</td>\n",
       "      <td>215</td>\n",
       "      <td>6</td>\n",
       "      <td>高科一路.新科二路公交站</td>\n",
       "      <td>08:54:00</td>\n",
       "      <td>118.729140</td>\n",
       "      <td>32.179569</td>\n",
       "    </tr>\n",
       "    <tr>\n",
       "      <th>78</th>\n",
       "      <td>Y4</td>\n",
       "      <td>12</td>\n",
       "      <td>6</td>\n",
       "      <td>临江地铁站</td>\n",
       "      <td>08:36:00</td>\n",
       "      <td>118.672528</td>\n",
       "      <td>32.062686</td>\n",
       "    </tr>\n",
       "    <tr>\n",
       "      <th>1241</th>\n",
       "      <td>Y18</td>\n",
       "      <td>224</td>\n",
       "      <td>3</td>\n",
       "      <td>高新路.祥和路</td>\n",
       "      <td>09:34:00</td>\n",
       "      <td>118.722830</td>\n",
       "      <td>32.174618</td>\n",
       "    </tr>\n",
       "    <tr>\n",
       "      <th>281</th>\n",
       "      <td>Y4</td>\n",
       "      <td>46</td>\n",
       "      <td>1</td>\n",
       "      <td>临江地铁站</td>\n",
       "      <td>16:18:00</td>\n",
       "      <td>118.672528</td>\n",
       "      <td>32.062686</td>\n",
       "    </tr>\n",
       "    <tr>\n",
       "      <th>1549</th>\n",
       "      <td>Y19</td>\n",
       "      <td>256</td>\n",
       "      <td>5</td>\n",
       "      <td>香溢紫郡1期.高新区总站北</td>\n",
       "      <td>08:58:00</td>\n",
       "      <td>118.710321</td>\n",
       "      <td>32.186430</td>\n",
       "    </tr>\n",
       "  </tbody>\n",
       "</table>\n",
       "</div>"
      ],
      "text/plain": [
       "       路线  车次id  站序             站点        时间          经度         纬度\n",
       "1154  Y18   215   6   高科一路.新科二路公交站  08:54:00  118.729140  32.179569\n",
       "78     Y4    12   6          临江地铁站  08:36:00  118.672528  32.062686\n",
       "1241  Y18   224   3        高新路.祥和路  09:34:00  118.722830  32.174618\n",
       "281    Y4    46   1          临江地铁站  16:18:00  118.672528  32.062686\n",
       "1549  Y19   256   5  香溢紫郡1期.高新区总站北  08:58:00  118.710321  32.186430"
      ]
     },
     "execution_count": 63,
     "metadata": {},
     "output_type": "execute_result"
    }
   ],
   "source": [
    "shike.sample(5)"
   ]
  },
  {
   "cell_type": "markdown",
   "id": "8561793e",
   "metadata": {},
   "source": [
    "#### 最近的两个站点位置距离多少km?"
   ]
  },
  {
   "cell_type": "code",
   "execution_count": 64,
   "id": "e24565e3",
   "metadata": {},
   "outputs": [
    {
     "name": "stdout",
     "output_type": "stream",
     "text": [
      "Nearest two stations are:  ['高新路.桐雨路', '高新路.祥和路']\n",
      "Their distance is  0.016850258711161564\n"
     ]
    }
   ],
   "source": [
    "smallest_distance = float('inf')\n",
    "pairs = []\n",
    "for index1, row1 in site_gps.iterrows():\n",
    "    for index2, row2 in site_gps.iterrows():\n",
    "        if index1!=index2:\n",
    "            dist_ = distance(row1['经度'], row1['纬度'], row2['经度'], row2['纬度'])\n",
    "            if (dist_!=0) & (dist_<=(smallest_distance)):\n",
    "                smallest_distance = dist_\n",
    "                pairs.append([row1['站点'], row2['站点']])\n",
    "                \n",
    "print('Nearest two stations are: ', pairs[len(pairs)-1])\n",
    "print('Their distance is ', smallest_distance)"
   ]
  },
  {
   "cell_type": "code",
   "execution_count": 65,
   "id": "83b791dd",
   "metadata": {
    "scrolled": true
   },
   "outputs": [
    {
     "data": {
      "text/html": [
       "<div>\n",
       "<style scoped>\n",
       "    .dataframe tbody tr th:only-of-type {\n",
       "        vertical-align: middle;\n",
       "    }\n",
       "\n",
       "    .dataframe tbody tr th {\n",
       "        vertical-align: top;\n",
       "    }\n",
       "\n",
       "    .dataframe thead th {\n",
       "        text-align: right;\n",
       "    }\n",
       "</style>\n",
       "<table border=\"1\" class=\"dataframe\">\n",
       "  <thead>\n",
       "    <tr style=\"text-align: right;\">\n",
       "      <th></th>\n",
       "      <th>站点</th>\n",
       "      <th>路线</th>\n",
       "    </tr>\n",
       "  </thead>\n",
       "  <tbody>\n",
       "    <tr>\n",
       "      <th>0</th>\n",
       "      <td>成贤地铁站</td>\n",
       "      <td>[Y3, Y18]</td>\n",
       "    </tr>\n",
       "    <tr>\n",
       "      <th>1</th>\n",
       "      <td>南京工业大学</td>\n",
       "      <td>[Y3]</td>\n",
       "    </tr>\n",
       "    <tr>\n",
       "      <th>2</th>\n",
       "      <td>镇南河路（雨发建设集团门口）</td>\n",
       "      <td>[Y3]</td>\n",
       "    </tr>\n",
       "    <tr>\n",
       "      <th>3</th>\n",
       "      <td>万汇城（浦滨路）</td>\n",
       "      <td>[Y3]</td>\n",
       "    </tr>\n",
       "    <tr>\n",
       "      <th>4</th>\n",
       "      <td>膜园</td>\n",
       "      <td>[Y5, Y6, Y4, Y9, Y13, Y10, Y3]</td>\n",
       "    </tr>\n",
       "    <tr>\n",
       "      <th>...</th>\n",
       "      <td>...</td>\n",
       "      <td>...</td>\n",
       "    </tr>\n",
       "    <tr>\n",
       "      <th>80</th>\n",
       "      <td>南京集成电路大学</td>\n",
       "      <td>[Y21]</td>\n",
       "    </tr>\n",
       "    <tr>\n",
       "      <th>81</th>\n",
       "      <td>工大地铁站北公交站台</td>\n",
       "      <td>[Y21]</td>\n",
       "    </tr>\n",
       "    <tr>\n",
       "      <th>82</th>\n",
       "      <td>江苏省产业技术研究院</td>\n",
       "      <td>[Y22]</td>\n",
       "    </tr>\n",
       "    <tr>\n",
       "      <th>83</th>\n",
       "      <td>韦恩</td>\n",
       "      <td>[Y1, Y2]</td>\n",
       "    </tr>\n",
       "    <tr>\n",
       "      <th>84</th>\n",
       "      <td>8849人才公寓</td>\n",
       "      <td>[Y1]</td>\n",
       "    </tr>\n",
       "  </tbody>\n",
       "</table>\n",
       "<p>85 rows × 2 columns</p>\n",
       "</div>"
      ],
      "text/plain": [
       "                站点                              路线\n",
       "0            成贤地铁站                       [Y3, Y18]\n",
       "1           南京工业大学                            [Y3]\n",
       "2   镇南河路（雨发建设集团门口）                            [Y3]\n",
       "3         万汇城（浦滨路）                            [Y3]\n",
       "4               膜园  [Y5, Y6, Y4, Y9, Y13, Y10, Y3]\n",
       "..             ...                             ...\n",
       "80        南京集成电路大学                           [Y21]\n",
       "81      工大地铁站北公交站台                           [Y21]\n",
       "82      江苏省产业技术研究院                           [Y22]\n",
       "83              韦恩                        [Y1, Y2]\n",
       "84        8849人才公寓                            [Y1]\n",
       "\n",
       "[85 rows x 2 columns]"
      ]
     },
     "execution_count": 65,
     "metadata": {},
     "output_type": "execute_result"
    }
   ],
   "source": [
    "zhandian_route = pd.DataFrame(columns=['站点','路线'])\n",
    "zhandians = shike['站点'].unique()\n",
    "for zd in zhandians:\n",
    "    possible_luxian = []\n",
    "    route_df = shike[shike['站点']==zd]\n",
    "    for index, row in route_df.iterrows():\n",
    "        possible_luxian.append(row['路线'])\n",
    "    \n",
    "    possible_luxian = list(set(possible_luxian))\n",
    "    zhandian_route.loc[len(zhandian_route)] = [zd, possible_luxian]\n",
    "zhandian_route"
   ]
  },
  {
   "cell_type": "code",
   "execution_count": 66,
   "id": "89c21d8a",
   "metadata": {},
   "outputs": [],
   "source": [
    "#find nearest station\n",
    "def possible_nearest_station(site_df, shike_df, this_long, this_lat, time, date):\n",
    "    time_format = \"%Y-%m-%d %H:%M:%S\"\n",
    "    min_dist = float('inf')\n",
    "    res = 'Not Found'\n",
    "\n",
    "    for index, row in site_df.iterrows():\n",
    "        site_long = row['经度']\n",
    "        site_lat = row['纬度']\n",
    "        dist = distance(this_long, this_lat, site_long, site_lat)\n",
    "        if dist < min_dist: \n",
    "            \n",
    "            min_dist = dist\n",
    "            res = row['站点']\n",
    "            \n",
    "            \"\"\"\n",
    "            shike_picked = shike_df[(shike_df['经度']==site_long) & (shike_df['纬度']==site_lat)]\n",
    "            \n",
    "            for index2, row2 in shike_picked.iterrows():\n",
    "                t_supposed = date+' '+ row2['时间']\n",
    "                t_supposed = datetime.strptime(t_supposed, time_format)\n",
    "                abs_diff = abs((t_supposed - time).total_seconds() / 60)\n",
    "\n",
    "                if abs_diff<5: \n",
    "                    min_dist = dist\n",
    "                    res = row2['站点']\n",
    "            \"\"\"        \n",
    "          \n",
    "            \n",
    "    return res, min_dist\n",
    "        "
   ]
  },
  {
   "cell_type": "code",
   "execution_count": 67,
   "id": "cdb65be9",
   "metadata": {},
   "outputs": [],
   "source": [
    "def find_possible_stations(dates, data, pos_df):\n",
    "    for eachD_id in range(len(dates)):\n",
    "        \n",
    "        #data at this date\n",
    "        try_data = data[data['接收日期']==dates[eachD_id]]\n",
    "        \n",
    "        #position info\n",
    "        last_longitude = 0\n",
    "        last_latitude = 0 \n",
    "        count_stay = 0\n",
    "        \n",
    "        #iterate signals\n",
    "        for index1, row1 in try_data.iterrows():\n",
    "            \n",
    "            #position unchanged \n",
    "            if (row1['经度']==last_longitude) | (row1['纬度']==last_latitude):\n",
    "                                            #& (row1['纬度']==last_latitude)\n",
    "                count_stay += 1\n",
    "                \n",
    "                #check duration\n",
    "                if count_stay ==2:\n",
    "                    nearest_, distance = possible_nearest_station(site_gps, shike, last_longitude, last_latitude, row1['接收时间'],dates[eachD_id])\n",
    "                    \n",
    "                    route_relate = zhandian_route[zhandian_route['站点'].str.contains(nearest_)]['路线'].values\n",
    "                    if len(route_relate):\n",
    "                        for i in route_relate[0]:\n",
    "                            pos_df.loc[len(pos_df.index)] = [dates[eachD_id],row1['接收时间'], last_longitude, last_latitude, nearest_, distance, i]\n",
    "                    else:\n",
    "                        pos_df.loc[len(pos_df.index)] = [dates[eachD_id],row1['接收时间'], last_longitude, last_latitude, nearest_, distance, 'unknown']\n",
    "                    \n",
    "                elif count_stay>9:\n",
    "                    #pos.pop()\n",
    "                    pos_df.drop(pos_df.tail(1).index,inplace=True)\n",
    "                    count_stay = 0\n",
    "                    \n",
    "            else:\n",
    "                count_stay = 0\n",
    "                last_longitude = row1['经度']\n",
    "                last_latitude = row1['纬度']\n",
    "            \n",
    "                \n",
    "                \n",
    "            \n",
    "            "
   ]
  },
  {
   "cell_type": "code",
   "execution_count": 68,
   "id": "4fa82762",
   "metadata": {},
   "outputs": [],
   "source": [
    "luxian_s = site_gps['Y路线'].unique()\n",
    "route_sites_num = {}\n",
    "for each in luxian_s:\n",
    "    c = len(site_gps[site_gps['Y路线']==each])\n",
    "    route_sites_num[each] = c    \n",
    "route_sites_num['unknown'] = 100\n",
    "route_sites_num['Y20'] = 18\n",
    "route_sites_num['Y21'] = 4\n",
    "#route_sites_num"
   ]
  },
  {
   "cell_type": "code",
   "execution_count": 113,
   "id": "86b42f92",
   "metadata": {
    "scrolled": false
   },
   "outputs": [],
   "source": [
    "def tract_route(this_checi_linked):\n",
    "    #所有停留的GPS数据\n",
    "    pos_df = pd.DataFrame(columns=['日期','具体时间', '停留经度','停留纬度', '最近站点','距离', '所属路线'])\n",
    "    find_possible_stations(this_signal_dates, this_data, pos_df)\n",
    "\n",
    "    #去重\n",
    "    pos_df2 = pos_df.drop_duplicates(subset=['最近站点','所属路线','日期'])\n",
    "\n",
    "    #分析\n",
    "    pos_df2['所属路线_counts'] = 0\n",
    "    pos_df2['路线对应站点_counts'] = 0\n",
    "    for index, row in pos_df2.iterrows():\n",
    "        pos_df2.at[index,'所属路线_counts'] = get_counts(row['日期'], row['所属路线'], pos_df2)\n",
    "        luxian = row['所属路线']\n",
    "        \"\"\"\n",
    "        if (luxian=='Y21') |(luxian=='Y22'):\n",
    "            luxian='unknown'\n",
    "        \"\"\"\n",
    "        pos_df2.at[index,'路线对应站点_counts'] = route_sites_num[luxian]\n",
    "\n",
    "    pos_df2['路线匹配度'] = pos_df2['所属路线_counts']/pos_df2['路线对应站点_counts']\n",
    "    match = 0.5\n",
    "    pos_df2['匹配'] = (pos_df2['路线匹配度']>=match)\n",
    "    pos_df2['匹配车次'] = 0\n",
    "    pos_df2['匹配车次'] = pos_df2['所属路线'].map(lambda x: get_valid_checi(x, this_checi_linked))\n",
    "    \n",
    "    return pos_df2\n"
   ]
  },
  {
   "cell_type": "code",
   "execution_count": 75,
   "id": "dd08f4e4",
   "metadata": {},
   "outputs": [],
   "source": [
    "def get_counts(date, luxian, df):\n",
    "    return len(df[(df['所属路线']==luxian)&(df['日期']==date)])"
   ]
  },
  {
   "cell_type": "code",
   "execution_count": 76,
   "id": "0c9fe72e",
   "metadata": {},
   "outputs": [],
   "source": [
    "def get_valid_checi(current_route, checi_linked):\n",
    "    \"\"\"\n",
    "    通过车牌号和当下线路找到相应车次\n",
    "    :param busgps: 路线信息\n",
    "    :return: 所有有可能的车次\n",
    "    \"\"\"\n",
    "    checi_duiying = []\n",
    "    if len(checi_linked):\n",
    "        for each in checi_linked:\n",
    "            route_linked = shike[shike['车次id']==each]['路线'].values[0]\n",
    "            if route_linked == current_route: \n",
    "                checi_duiying.append(each)\n",
    "\n",
    "    return checi_duiying"
   ]
  },
  {
   "cell_type": "code",
   "execution_count": 226,
   "id": "5d23fd2a",
   "metadata": {},
   "outputs": [],
   "source": [
    "def run(this_sn):\n",
    "    this_data = gps_info_up_cleaned[gps_info_up_cleaned['gps串号']==int(this_sn)]\n",
    "    this_data = this_data.sort_values(by='接收时间')\n",
    "\n",
    "    this_bus_id = int(gps[gps['gps_sn']==this_sn].bus_id)\n",
    "    this_bus_plate = bus[bus['id']==this_bus_id].bus_plate.values[0] \n",
    "\n",
    "    this_checi_linked = duiying[duiying['车牌号']==this_bus_plate]['车次id'].values\n",
    "    this_zhandian_linked = pd.DataFrame(columns=['路线', '车次id', '站序', '站点', '时间', '经度', '纬度'])\n",
    "    for checi_ in this_checi_linked:\n",
    "        this_zhandian_linked = this_zhandian_linked.append(shike[shike['车次id']==checi_])\n",
    "\n",
    "    this_signal_dates = this_data['接收日期'].unique()\n",
    "\n",
    "    #valid start stations\n",
    "    this_valid_stations = this_zhandian_linked[this_zhandian_linked['站序']==1]\n",
    "    this_station_start = this_valid_stations['站点'].values\n",
    "    this_checi_start = this_valid_stations['车次id'].values\n",
    "    this_time_start_true = this_valid_stations['时间'].values\n",
    "\n",
    "    #valid end stations\n",
    "    this_last_valid = this_zhandian_linked.groupby('车次id').last()\n",
    "    this_last_valid = this_last_valid.reset_index()\n",
    "    this_station_end = this_last_valid['站点'].values\n",
    "    this_checi_end = this_last_valid['车次id'].values\n",
    "    this_time_end_true = this_last_valid['时间'].values\n",
    "    \n",
    "    pos_df2 = tract_route(this_checi_linked)\n",
    "    route_result = route_res(pos_df2)\n",
    "    checi_all = get_routes_time_check(route_result, this_data, shike)\n",
    "    \n",
    "    \n",
    "    return this_bus_plate, this_signal_dates, route_result, checi_all"
   ]
  },
  {
   "cell_type": "code",
   "execution_count": 223,
   "id": "7022052e",
   "metadata": {},
   "outputs": [
    {
     "data": {
      "text/plain": [
       "868773050940116"
      ]
     },
     "execution_count": 223,
     "metadata": {},
     "output_type": "execute_result"
    }
   ],
   "source": [
    "all_gps[0]"
   ]
  },
  {
   "cell_type": "code",
   "execution_count": 232,
   "id": "86740d72",
   "metadata": {},
   "outputs": [
    {
     "name": "stderr",
     "output_type": "stream",
     "text": [
      "C:\\Users\\10157\\AppData\\Local\\Temp\\ipykernel_17332\\3368415302.py:11: FutureWarning: The frame.append method is deprecated and will be removed from pandas in a future version. Use pandas.concat instead.\n",
      "  this_zhandian_linked = this_zhandian_linked.append(shike[shike['车次id']==checi_])\n",
      "C:\\Users\\10157\\AppData\\Local\\Temp\\ipykernel_17332\\3368415302.py:11: FutureWarning: The frame.append method is deprecated and will be removed from pandas in a future version. Use pandas.concat instead.\n",
      "  this_zhandian_linked = this_zhandian_linked.append(shike[shike['车次id']==checi_])\n",
      "C:\\Users\\10157\\AppData\\Local\\Temp\\ipykernel_17332\\877882732.py:10: SettingWithCopyWarning: \n",
      "A value is trying to be set on a copy of a slice from a DataFrame.\n",
      "Try using .loc[row_indexer,col_indexer] = value instead\n",
      "\n",
      "See the caveats in the documentation: https://pandas.pydata.org/pandas-docs/stable/user_guide/indexing.html#returning-a-view-versus-a-copy\n",
      "  pos_df2['所属路线_counts'] = 0\n",
      "C:\\Users\\10157\\AppData\\Local\\Temp\\ipykernel_17332\\877882732.py:11: SettingWithCopyWarning: \n",
      "A value is trying to be set on a copy of a slice from a DataFrame.\n",
      "Try using .loc[row_indexer,col_indexer] = value instead\n",
      "\n",
      "See the caveats in the documentation: https://pandas.pydata.org/pandas-docs/stable/user_guide/indexing.html#returning-a-view-versus-a-copy\n",
      "  pos_df2['路线对应站点_counts'] = 0\n",
      "C:\\Users\\10157\\AppData\\Local\\Temp\\ipykernel_17332\\877882732.py:21: SettingWithCopyWarning: \n",
      "A value is trying to be set on a copy of a slice from a DataFrame.\n",
      "Try using .loc[row_indexer,col_indexer] = value instead\n",
      "\n",
      "See the caveats in the documentation: https://pandas.pydata.org/pandas-docs/stable/user_guide/indexing.html#returning-a-view-versus-a-copy\n",
      "  pos_df2['路线匹配度'] = pos_df2['所属路线_counts']/pos_df2['路线对应站点_counts']\n",
      "C:\\Users\\10157\\AppData\\Local\\Temp\\ipykernel_17332\\877882732.py:23: SettingWithCopyWarning: \n",
      "A value is trying to be set on a copy of a slice from a DataFrame.\n",
      "Try using .loc[row_indexer,col_indexer] = value instead\n",
      "\n",
      "See the caveats in the documentation: https://pandas.pydata.org/pandas-docs/stable/user_guide/indexing.html#returning-a-view-versus-a-copy\n",
      "  pos_df2['匹配'] = (pos_df2['路线匹配度']>=match)\n",
      "C:\\Users\\10157\\AppData\\Local\\Temp\\ipykernel_17332\\877882732.py:24: SettingWithCopyWarning: \n",
      "A value is trying to be set on a copy of a slice from a DataFrame.\n",
      "Try using .loc[row_indexer,col_indexer] = value instead\n",
      "\n",
      "See the caveats in the documentation: https://pandas.pydata.org/pandas-docs/stable/user_guide/indexing.html#returning-a-view-versus-a-copy\n",
      "  pos_df2['匹配车次'] = 0\n",
      "C:\\Users\\10157\\AppData\\Local\\Temp\\ipykernel_17332\\877882732.py:25: SettingWithCopyWarning: \n",
      "A value is trying to be set on a copy of a slice from a DataFrame.\n",
      "Try using .loc[row_indexer,col_indexer] = value instead\n",
      "\n",
      "See the caveats in the documentation: https://pandas.pydata.org/pandas-docs/stable/user_guide/indexing.html#returning-a-view-versus-a-copy\n",
      "  pos_df2['匹配车次'] = pos_df2['所属路线'].map(lambda x: get_valid_checi(x, this_checi_linked))\n",
      "C:\\Users\\10157\\AppData\\Local\\Temp\\ipykernel_17332\\3368415302.py:11: FutureWarning: The frame.append method is deprecated and will be removed from pandas in a future version. Use pandas.concat instead.\n",
      "  this_zhandian_linked = this_zhandian_linked.append(shike[shike['车次id']==checi_])\n",
      "C:\\Users\\10157\\AppData\\Local\\Temp\\ipykernel_17332\\3368415302.py:11: FutureWarning: The frame.append method is deprecated and will be removed from pandas in a future version. Use pandas.concat instead.\n",
      "  this_zhandian_linked = this_zhandian_linked.append(shike[shike['车次id']==checi_])\n",
      "C:\\Users\\10157\\AppData\\Local\\Temp\\ipykernel_17332\\3368415302.py:11: FutureWarning: The frame.append method is deprecated and will be removed from pandas in a future version. Use pandas.concat instead.\n",
      "  this_zhandian_linked = this_zhandian_linked.append(shike[shike['车次id']==checi_])\n",
      "C:\\Users\\10157\\AppData\\Local\\Temp\\ipykernel_17332\\3368415302.py:11: FutureWarning: The frame.append method is deprecated and will be removed from pandas in a future version. Use pandas.concat instead.\n",
      "  this_zhandian_linked = this_zhandian_linked.append(shike[shike['车次id']==checi_])\n",
      "C:\\Users\\10157\\AppData\\Local\\Temp\\ipykernel_17332\\3368415302.py:11: FutureWarning: The frame.append method is deprecated and will be removed from pandas in a future version. Use pandas.concat instead.\n",
      "  this_zhandian_linked = this_zhandian_linked.append(shike[shike['车次id']==checi_])\n",
      "C:\\Users\\10157\\AppData\\Local\\Temp\\ipykernel_17332\\3368415302.py:11: FutureWarning: The frame.append method is deprecated and will be removed from pandas in a future version. Use pandas.concat instead.\n",
      "  this_zhandian_linked = this_zhandian_linked.append(shike[shike['车次id']==checi_])\n",
      "C:\\Users\\10157\\AppData\\Local\\Temp\\ipykernel_17332\\3368415302.py:11: FutureWarning: The frame.append method is deprecated and will be removed from pandas in a future version. Use pandas.concat instead.\n",
      "  this_zhandian_linked = this_zhandian_linked.append(shike[shike['车次id']==checi_])\n",
      "C:\\Users\\10157\\AppData\\Local\\Temp\\ipykernel_17332\\877882732.py:10: SettingWithCopyWarning: \n",
      "A value is trying to be set on a copy of a slice from a DataFrame.\n",
      "Try using .loc[row_indexer,col_indexer] = value instead\n",
      "\n",
      "See the caveats in the documentation: https://pandas.pydata.org/pandas-docs/stable/user_guide/indexing.html#returning-a-view-versus-a-copy\n",
      "  pos_df2['所属路线_counts'] = 0\n",
      "C:\\Users\\10157\\AppData\\Local\\Temp\\ipykernel_17332\\877882732.py:11: SettingWithCopyWarning: \n",
      "A value is trying to be set on a copy of a slice from a DataFrame.\n",
      "Try using .loc[row_indexer,col_indexer] = value instead\n",
      "\n",
      "See the caveats in the documentation: https://pandas.pydata.org/pandas-docs/stable/user_guide/indexing.html#returning-a-view-versus-a-copy\n",
      "  pos_df2['路线对应站点_counts'] = 0\n",
      "C:\\Users\\10157\\AppData\\Local\\Temp\\ipykernel_17332\\877882732.py:21: SettingWithCopyWarning: \n",
      "A value is trying to be set on a copy of a slice from a DataFrame.\n",
      "Try using .loc[row_indexer,col_indexer] = value instead\n",
      "\n",
      "See the caveats in the documentation: https://pandas.pydata.org/pandas-docs/stable/user_guide/indexing.html#returning-a-view-versus-a-copy\n",
      "  pos_df2['路线匹配度'] = pos_df2['所属路线_counts']/pos_df2['路线对应站点_counts']\n",
      "C:\\Users\\10157\\AppData\\Local\\Temp\\ipykernel_17332\\877882732.py:23: SettingWithCopyWarning: \n",
      "A value is trying to be set on a copy of a slice from a DataFrame.\n",
      "Try using .loc[row_indexer,col_indexer] = value instead\n",
      "\n",
      "See the caveats in the documentation: https://pandas.pydata.org/pandas-docs/stable/user_guide/indexing.html#returning-a-view-versus-a-copy\n",
      "  pos_df2['匹配'] = (pos_df2['路线匹配度']>=match)\n",
      "C:\\Users\\10157\\AppData\\Local\\Temp\\ipykernel_17332\\877882732.py:24: SettingWithCopyWarning: \n",
      "A value is trying to be set on a copy of a slice from a DataFrame.\n",
      "Try using .loc[row_indexer,col_indexer] = value instead\n",
      "\n",
      "See the caveats in the documentation: https://pandas.pydata.org/pandas-docs/stable/user_guide/indexing.html#returning-a-view-versus-a-copy\n",
      "  pos_df2['匹配车次'] = 0\n",
      "C:\\Users\\10157\\AppData\\Local\\Temp\\ipykernel_17332\\877882732.py:25: SettingWithCopyWarning: \n",
      "A value is trying to be set on a copy of a slice from a DataFrame.\n",
      "Try using .loc[row_indexer,col_indexer] = value instead\n",
      "\n",
      "See the caveats in the documentation: https://pandas.pydata.org/pandas-docs/stable/user_guide/indexing.html#returning-a-view-versus-a-copy\n",
      "  pos_df2['匹配车次'] = pos_df2['所属路线'].map(lambda x: get_valid_checi(x, this_checi_linked))\n",
      "C:\\Users\\10157\\AppData\\Local\\Temp\\ipykernel_17332\\3368415302.py:11: FutureWarning: The frame.append method is deprecated and will be removed from pandas in a future version. Use pandas.concat instead.\n",
      "  this_zhandian_linked = this_zhandian_linked.append(shike[shike['车次id']==checi_])\n",
      "C:\\Users\\10157\\AppData\\Local\\Temp\\ipykernel_17332\\3368415302.py:11: FutureWarning: The frame.append method is deprecated and will be removed from pandas in a future version. Use pandas.concat instead.\n",
      "  this_zhandian_linked = this_zhandian_linked.append(shike[shike['车次id']==checi_])\n",
      "C:\\Users\\10157\\AppData\\Local\\Temp\\ipykernel_17332\\3368415302.py:11: FutureWarning: The frame.append method is deprecated and will be removed from pandas in a future version. Use pandas.concat instead.\n",
      "  this_zhandian_linked = this_zhandian_linked.append(shike[shike['车次id']==checi_])\n",
      "C:\\Users\\10157\\AppData\\Local\\Temp\\ipykernel_17332\\3368415302.py:11: FutureWarning: The frame.append method is deprecated and will be removed from pandas in a future version. Use pandas.concat instead.\n",
      "  this_zhandian_linked = this_zhandian_linked.append(shike[shike['车次id']==checi_])\n"
     ]
    },
    {
     "name": "stderr",
     "output_type": "stream",
     "text": [
      "C:\\Users\\10157\\AppData\\Local\\Temp\\ipykernel_17332\\877882732.py:10: SettingWithCopyWarning: \n",
      "A value is trying to be set on a copy of a slice from a DataFrame.\n",
      "Try using .loc[row_indexer,col_indexer] = value instead\n",
      "\n",
      "See the caveats in the documentation: https://pandas.pydata.org/pandas-docs/stable/user_guide/indexing.html#returning-a-view-versus-a-copy\n",
      "  pos_df2['所属路线_counts'] = 0\n",
      "C:\\Users\\10157\\AppData\\Local\\Temp\\ipykernel_17332\\877882732.py:11: SettingWithCopyWarning: \n",
      "A value is trying to be set on a copy of a slice from a DataFrame.\n",
      "Try using .loc[row_indexer,col_indexer] = value instead\n",
      "\n",
      "See the caveats in the documentation: https://pandas.pydata.org/pandas-docs/stable/user_guide/indexing.html#returning-a-view-versus-a-copy\n",
      "  pos_df2['路线对应站点_counts'] = 0\n",
      "C:\\Users\\10157\\AppData\\Local\\Temp\\ipykernel_17332\\877882732.py:21: SettingWithCopyWarning: \n",
      "A value is trying to be set on a copy of a slice from a DataFrame.\n",
      "Try using .loc[row_indexer,col_indexer] = value instead\n",
      "\n",
      "See the caveats in the documentation: https://pandas.pydata.org/pandas-docs/stable/user_guide/indexing.html#returning-a-view-versus-a-copy\n",
      "  pos_df2['路线匹配度'] = pos_df2['所属路线_counts']/pos_df2['路线对应站点_counts']\n",
      "C:\\Users\\10157\\AppData\\Local\\Temp\\ipykernel_17332\\877882732.py:23: SettingWithCopyWarning: \n",
      "A value is trying to be set on a copy of a slice from a DataFrame.\n",
      "Try using .loc[row_indexer,col_indexer] = value instead\n",
      "\n",
      "See the caveats in the documentation: https://pandas.pydata.org/pandas-docs/stable/user_guide/indexing.html#returning-a-view-versus-a-copy\n",
      "  pos_df2['匹配'] = (pos_df2['路线匹配度']>=match)\n",
      "C:\\Users\\10157\\AppData\\Local\\Temp\\ipykernel_17332\\877882732.py:24: SettingWithCopyWarning: \n",
      "A value is trying to be set on a copy of a slice from a DataFrame.\n",
      "Try using .loc[row_indexer,col_indexer] = value instead\n",
      "\n",
      "See the caveats in the documentation: https://pandas.pydata.org/pandas-docs/stable/user_guide/indexing.html#returning-a-view-versus-a-copy\n",
      "  pos_df2['匹配车次'] = 0\n",
      "C:\\Users\\10157\\AppData\\Local\\Temp\\ipykernel_17332\\877882732.py:25: SettingWithCopyWarning: \n",
      "A value is trying to be set on a copy of a slice from a DataFrame.\n",
      "Try using .loc[row_indexer,col_indexer] = value instead\n",
      "\n",
      "See the caveats in the documentation: https://pandas.pydata.org/pandas-docs/stable/user_guide/indexing.html#returning-a-view-versus-a-copy\n",
      "  pos_df2['匹配车次'] = pos_df2['所属路线'].map(lambda x: get_valid_checi(x, this_checi_linked))\n",
      "C:\\Users\\10157\\AppData\\Local\\Temp\\ipykernel_17332\\3368415302.py:11: FutureWarning: The frame.append method is deprecated and will be removed from pandas in a future version. Use pandas.concat instead.\n",
      "  this_zhandian_linked = this_zhandian_linked.append(shike[shike['车次id']==checi_])\n",
      "C:\\Users\\10157\\AppData\\Local\\Temp\\ipykernel_17332\\3368415302.py:11: FutureWarning: The frame.append method is deprecated and will be removed from pandas in a future version. Use pandas.concat instead.\n",
      "  this_zhandian_linked = this_zhandian_linked.append(shike[shike['车次id']==checi_])\n",
      "C:\\Users\\10157\\AppData\\Local\\Temp\\ipykernel_17332\\3368415302.py:11: FutureWarning: The frame.append method is deprecated and will be removed from pandas in a future version. Use pandas.concat instead.\n",
      "  this_zhandian_linked = this_zhandian_linked.append(shike[shike['车次id']==checi_])\n",
      "C:\\Users\\10157\\AppData\\Local\\Temp\\ipykernel_17332\\3368415302.py:11: FutureWarning: The frame.append method is deprecated and will be removed from pandas in a future version. Use pandas.concat instead.\n",
      "  this_zhandian_linked = this_zhandian_linked.append(shike[shike['车次id']==checi_])\n",
      "C:\\Users\\10157\\AppData\\Local\\Temp\\ipykernel_17332\\3368415302.py:11: FutureWarning: The frame.append method is deprecated and will be removed from pandas in a future version. Use pandas.concat instead.\n",
      "  this_zhandian_linked = this_zhandian_linked.append(shike[shike['车次id']==checi_])\n",
      "C:\\Users\\10157\\AppData\\Local\\Temp\\ipykernel_17332\\3368415302.py:11: FutureWarning: The frame.append method is deprecated and will be removed from pandas in a future version. Use pandas.concat instead.\n",
      "  this_zhandian_linked = this_zhandian_linked.append(shike[shike['车次id']==checi_])\n",
      "C:\\Users\\10157\\AppData\\Local\\Temp\\ipykernel_17332\\877882732.py:10: SettingWithCopyWarning: \n",
      "A value is trying to be set on a copy of a slice from a DataFrame.\n",
      "Try using .loc[row_indexer,col_indexer] = value instead\n",
      "\n",
      "See the caveats in the documentation: https://pandas.pydata.org/pandas-docs/stable/user_guide/indexing.html#returning-a-view-versus-a-copy\n",
      "  pos_df2['所属路线_counts'] = 0\n",
      "C:\\Users\\10157\\AppData\\Local\\Temp\\ipykernel_17332\\877882732.py:11: SettingWithCopyWarning: \n",
      "A value is trying to be set on a copy of a slice from a DataFrame.\n",
      "Try using .loc[row_indexer,col_indexer] = value instead\n",
      "\n",
      "See the caveats in the documentation: https://pandas.pydata.org/pandas-docs/stable/user_guide/indexing.html#returning-a-view-versus-a-copy\n",
      "  pos_df2['路线对应站点_counts'] = 0\n",
      "C:\\Users\\10157\\AppData\\Local\\Temp\\ipykernel_17332\\877882732.py:21: SettingWithCopyWarning: \n",
      "A value is trying to be set on a copy of a slice from a DataFrame.\n",
      "Try using .loc[row_indexer,col_indexer] = value instead\n",
      "\n",
      "See the caveats in the documentation: https://pandas.pydata.org/pandas-docs/stable/user_guide/indexing.html#returning-a-view-versus-a-copy\n",
      "  pos_df2['路线匹配度'] = pos_df2['所属路线_counts']/pos_df2['路线对应站点_counts']\n",
      "C:\\Users\\10157\\AppData\\Local\\Temp\\ipykernel_17332\\877882732.py:23: SettingWithCopyWarning: \n",
      "A value is trying to be set on a copy of a slice from a DataFrame.\n",
      "Try using .loc[row_indexer,col_indexer] = value instead\n",
      "\n",
      "See the caveats in the documentation: https://pandas.pydata.org/pandas-docs/stable/user_guide/indexing.html#returning-a-view-versus-a-copy\n",
      "  pos_df2['匹配'] = (pos_df2['路线匹配度']>=match)\n",
      "C:\\Users\\10157\\AppData\\Local\\Temp\\ipykernel_17332\\877882732.py:24: SettingWithCopyWarning: \n",
      "A value is trying to be set on a copy of a slice from a DataFrame.\n",
      "Try using .loc[row_indexer,col_indexer] = value instead\n",
      "\n",
      "See the caveats in the documentation: https://pandas.pydata.org/pandas-docs/stable/user_guide/indexing.html#returning-a-view-versus-a-copy\n",
      "  pos_df2['匹配车次'] = 0\n",
      "C:\\Users\\10157\\AppData\\Local\\Temp\\ipykernel_17332\\877882732.py:25: SettingWithCopyWarning: \n",
      "A value is trying to be set on a copy of a slice from a DataFrame.\n",
      "Try using .loc[row_indexer,col_indexer] = value instead\n",
      "\n",
      "See the caveats in the documentation: https://pandas.pydata.org/pandas-docs/stable/user_guide/indexing.html#returning-a-view-versus-a-copy\n",
      "  pos_df2['匹配车次'] = pos_df2['所属路线'].map(lambda x: get_valid_checi(x, this_checi_linked))\n",
      "C:\\Users\\10157\\AppData\\Local\\Temp\\ipykernel_17332\\3368415302.py:11: FutureWarning: The frame.append method is deprecated and will be removed from pandas in a future version. Use pandas.concat instead.\n",
      "  this_zhandian_linked = this_zhandian_linked.append(shike[shike['车次id']==checi_])\n",
      "C:\\Users\\10157\\AppData\\Local\\Temp\\ipykernel_17332\\3368415302.py:11: FutureWarning: The frame.append method is deprecated and will be removed from pandas in a future version. Use pandas.concat instead.\n",
      "  this_zhandian_linked = this_zhandian_linked.append(shike[shike['车次id']==checi_])\n",
      "C:\\Users\\10157\\AppData\\Local\\Temp\\ipykernel_17332\\3368415302.py:11: FutureWarning: The frame.append method is deprecated and will be removed from pandas in a future version. Use pandas.concat instead.\n",
      "  this_zhandian_linked = this_zhandian_linked.append(shike[shike['车次id']==checi_])\n",
      "C:\\Users\\10157\\AppData\\Local\\Temp\\ipykernel_17332\\3368415302.py:11: FutureWarning: The frame.append method is deprecated and will be removed from pandas in a future version. Use pandas.concat instead.\n",
      "  this_zhandian_linked = this_zhandian_linked.append(shike[shike['车次id']==checi_])\n",
      "C:\\Users\\10157\\AppData\\Local\\Temp\\ipykernel_17332\\3368415302.py:11: FutureWarning: The frame.append method is deprecated and will be removed from pandas in a future version. Use pandas.concat instead.\n",
      "  this_zhandian_linked = this_zhandian_linked.append(shike[shike['车次id']==checi_])\n",
      "C:\\Users\\10157\\AppData\\Local\\Temp\\ipykernel_17332\\3368415302.py:11: FutureWarning: The frame.append method is deprecated and will be removed from pandas in a future version. Use pandas.concat instead.\n",
      "  this_zhandian_linked = this_zhandian_linked.append(shike[shike['车次id']==checi_])\n",
      "C:\\Users\\10157\\AppData\\Local\\Temp\\ipykernel_17332\\3368415302.py:11: FutureWarning: The frame.append method is deprecated and will be removed from pandas in a future version. Use pandas.concat instead.\n",
      "  this_zhandian_linked = this_zhandian_linked.append(shike[shike['车次id']==checi_])\n",
      "C:\\Users\\10157\\AppData\\Local\\Temp\\ipykernel_17332\\3368415302.py:11: FutureWarning: The frame.append method is deprecated and will be removed from pandas in a future version. Use pandas.concat instead.\n",
      "  this_zhandian_linked = this_zhandian_linked.append(shike[shike['车次id']==checi_])\n"
     ]
    },
    {
     "name": "stderr",
     "output_type": "stream",
     "text": [
      "C:\\Users\\10157\\AppData\\Local\\Temp\\ipykernel_17332\\877882732.py:10: SettingWithCopyWarning: \n",
      "A value is trying to be set on a copy of a slice from a DataFrame.\n",
      "Try using .loc[row_indexer,col_indexer] = value instead\n",
      "\n",
      "See the caveats in the documentation: https://pandas.pydata.org/pandas-docs/stable/user_guide/indexing.html#returning-a-view-versus-a-copy\n",
      "  pos_df2['所属路线_counts'] = 0\n",
      "C:\\Users\\10157\\AppData\\Local\\Temp\\ipykernel_17332\\877882732.py:11: SettingWithCopyWarning: \n",
      "A value is trying to be set on a copy of a slice from a DataFrame.\n",
      "Try using .loc[row_indexer,col_indexer] = value instead\n",
      "\n",
      "See the caveats in the documentation: https://pandas.pydata.org/pandas-docs/stable/user_guide/indexing.html#returning-a-view-versus-a-copy\n",
      "  pos_df2['路线对应站点_counts'] = 0\n",
      "C:\\Users\\10157\\AppData\\Local\\Temp\\ipykernel_17332\\877882732.py:21: SettingWithCopyWarning: \n",
      "A value is trying to be set on a copy of a slice from a DataFrame.\n",
      "Try using .loc[row_indexer,col_indexer] = value instead\n",
      "\n",
      "See the caveats in the documentation: https://pandas.pydata.org/pandas-docs/stable/user_guide/indexing.html#returning-a-view-versus-a-copy\n",
      "  pos_df2['路线匹配度'] = pos_df2['所属路线_counts']/pos_df2['路线对应站点_counts']\n",
      "C:\\Users\\10157\\AppData\\Local\\Temp\\ipykernel_17332\\877882732.py:23: SettingWithCopyWarning: \n",
      "A value is trying to be set on a copy of a slice from a DataFrame.\n",
      "Try using .loc[row_indexer,col_indexer] = value instead\n",
      "\n",
      "See the caveats in the documentation: https://pandas.pydata.org/pandas-docs/stable/user_guide/indexing.html#returning-a-view-versus-a-copy\n",
      "  pos_df2['匹配'] = (pos_df2['路线匹配度']>=match)\n",
      "C:\\Users\\10157\\AppData\\Local\\Temp\\ipykernel_17332\\877882732.py:24: SettingWithCopyWarning: \n",
      "A value is trying to be set on a copy of a slice from a DataFrame.\n",
      "Try using .loc[row_indexer,col_indexer] = value instead\n",
      "\n",
      "See the caveats in the documentation: https://pandas.pydata.org/pandas-docs/stable/user_guide/indexing.html#returning-a-view-versus-a-copy\n",
      "  pos_df2['匹配车次'] = 0\n",
      "C:\\Users\\10157\\AppData\\Local\\Temp\\ipykernel_17332\\877882732.py:25: SettingWithCopyWarning: \n",
      "A value is trying to be set on a copy of a slice from a DataFrame.\n",
      "Try using .loc[row_indexer,col_indexer] = value instead\n",
      "\n",
      "See the caveats in the documentation: https://pandas.pydata.org/pandas-docs/stable/user_guide/indexing.html#returning-a-view-versus-a-copy\n",
      "  pos_df2['匹配车次'] = pos_df2['所属路线'].map(lambda x: get_valid_checi(x, this_checi_linked))\n",
      "C:\\Users\\10157\\AppData\\Local\\Temp\\ipykernel_17332\\3368415302.py:11: FutureWarning: The frame.append method is deprecated and will be removed from pandas in a future version. Use pandas.concat instead.\n",
      "  this_zhandian_linked = this_zhandian_linked.append(shike[shike['车次id']==checi_])\n",
      "C:\\Users\\10157\\AppData\\Local\\Temp\\ipykernel_17332\\3368415302.py:11: FutureWarning: The frame.append method is deprecated and will be removed from pandas in a future version. Use pandas.concat instead.\n",
      "  this_zhandian_linked = this_zhandian_linked.append(shike[shike['车次id']==checi_])\n",
      "C:\\Users\\10157\\AppData\\Local\\Temp\\ipykernel_17332\\3368415302.py:11: FutureWarning: The frame.append method is deprecated and will be removed from pandas in a future version. Use pandas.concat instead.\n",
      "  this_zhandian_linked = this_zhandian_linked.append(shike[shike['车次id']==checi_])\n",
      "C:\\Users\\10157\\AppData\\Local\\Temp\\ipykernel_17332\\3368415302.py:11: FutureWarning: The frame.append method is deprecated and will be removed from pandas in a future version. Use pandas.concat instead.\n",
      "  this_zhandian_linked = this_zhandian_linked.append(shike[shike['车次id']==checi_])\n",
      "C:\\Users\\10157\\AppData\\Local\\Temp\\ipykernel_17332\\3368415302.py:11: FutureWarning: The frame.append method is deprecated and will be removed from pandas in a future version. Use pandas.concat instead.\n",
      "  this_zhandian_linked = this_zhandian_linked.append(shike[shike['车次id']==checi_])\n",
      "C:\\Users\\10157\\AppData\\Local\\Temp\\ipykernel_17332\\3368415302.py:11: FutureWarning: The frame.append method is deprecated and will be removed from pandas in a future version. Use pandas.concat instead.\n",
      "  this_zhandian_linked = this_zhandian_linked.append(shike[shike['车次id']==checi_])\n",
      "C:\\Users\\10157\\AppData\\Local\\Temp\\ipykernel_17332\\3368415302.py:11: FutureWarning: The frame.append method is deprecated and will be removed from pandas in a future version. Use pandas.concat instead.\n",
      "  this_zhandian_linked = this_zhandian_linked.append(shike[shike['车次id']==checi_])\n",
      "C:\\Users\\10157\\AppData\\Local\\Temp\\ipykernel_17332\\3368415302.py:11: FutureWarning: The frame.append method is deprecated and will be removed from pandas in a future version. Use pandas.concat instead.\n",
      "  this_zhandian_linked = this_zhandian_linked.append(shike[shike['车次id']==checi_])\n",
      "C:\\Users\\10157\\AppData\\Local\\Temp\\ipykernel_17332\\3368415302.py:11: FutureWarning: The frame.append method is deprecated and will be removed from pandas in a future version. Use pandas.concat instead.\n",
      "  this_zhandian_linked = this_zhandian_linked.append(shike[shike['车次id']==checi_])\n",
      "C:\\Users\\10157\\AppData\\Local\\Temp\\ipykernel_17332\\3368415302.py:11: FutureWarning: The frame.append method is deprecated and will be removed from pandas in a future version. Use pandas.concat instead.\n",
      "  this_zhandian_linked = this_zhandian_linked.append(shike[shike['车次id']==checi_])\n",
      "C:\\Users\\10157\\AppData\\Local\\Temp\\ipykernel_17332\\877882732.py:10: SettingWithCopyWarning: \n",
      "A value is trying to be set on a copy of a slice from a DataFrame.\n",
      "Try using .loc[row_indexer,col_indexer] = value instead\n",
      "\n",
      "See the caveats in the documentation: https://pandas.pydata.org/pandas-docs/stable/user_guide/indexing.html#returning-a-view-versus-a-copy\n",
      "  pos_df2['所属路线_counts'] = 0\n",
      "C:\\Users\\10157\\AppData\\Local\\Temp\\ipykernel_17332\\877882732.py:11: SettingWithCopyWarning: \n",
      "A value is trying to be set on a copy of a slice from a DataFrame.\n",
      "Try using .loc[row_indexer,col_indexer] = value instead\n",
      "\n",
      "See the caveats in the documentation: https://pandas.pydata.org/pandas-docs/stable/user_guide/indexing.html#returning-a-view-versus-a-copy\n",
      "  pos_df2['路线对应站点_counts'] = 0\n",
      "C:\\Users\\10157\\AppData\\Local\\Temp\\ipykernel_17332\\877882732.py:21: SettingWithCopyWarning: \n",
      "A value is trying to be set on a copy of a slice from a DataFrame.\n",
      "Try using .loc[row_indexer,col_indexer] = value instead\n",
      "\n",
      "See the caveats in the documentation: https://pandas.pydata.org/pandas-docs/stable/user_guide/indexing.html#returning-a-view-versus-a-copy\n",
      "  pos_df2['路线匹配度'] = pos_df2['所属路线_counts']/pos_df2['路线对应站点_counts']\n",
      "C:\\Users\\10157\\AppData\\Local\\Temp\\ipykernel_17332\\877882732.py:23: SettingWithCopyWarning: \n",
      "A value is trying to be set on a copy of a slice from a DataFrame.\n",
      "Try using .loc[row_indexer,col_indexer] = value instead\n",
      "\n",
      "See the caveats in the documentation: https://pandas.pydata.org/pandas-docs/stable/user_guide/indexing.html#returning-a-view-versus-a-copy\n",
      "  pos_df2['匹配'] = (pos_df2['路线匹配度']>=match)\n",
      "C:\\Users\\10157\\AppData\\Local\\Temp\\ipykernel_17332\\877882732.py:24: SettingWithCopyWarning: \n",
      "A value is trying to be set on a copy of a slice from a DataFrame.\n",
      "Try using .loc[row_indexer,col_indexer] = value instead\n",
      "\n",
      "See the caveats in the documentation: https://pandas.pydata.org/pandas-docs/stable/user_guide/indexing.html#returning-a-view-versus-a-copy\n",
      "  pos_df2['匹配车次'] = 0\n",
      "C:\\Users\\10157\\AppData\\Local\\Temp\\ipykernel_17332\\877882732.py:25: SettingWithCopyWarning: \n",
      "A value is trying to be set on a copy of a slice from a DataFrame.\n",
      "Try using .loc[row_indexer,col_indexer] = value instead\n",
      "\n",
      "See the caveats in the documentation: https://pandas.pydata.org/pandas-docs/stable/user_guide/indexing.html#returning-a-view-versus-a-copy\n",
      "  pos_df2['匹配车次'] = pos_df2['所属路线'].map(lambda x: get_valid_checi(x, this_checi_linked))\n",
      "C:\\Users\\10157\\AppData\\Local\\Temp\\ipykernel_17332\\3368415302.py:11: FutureWarning: The frame.append method is deprecated and will be removed from pandas in a future version. Use pandas.concat instead.\n",
      "  this_zhandian_linked = this_zhandian_linked.append(shike[shike['车次id']==checi_])\n",
      "C:\\Users\\10157\\AppData\\Local\\Temp\\ipykernel_17332\\3368415302.py:11: FutureWarning: The frame.append method is deprecated and will be removed from pandas in a future version. Use pandas.concat instead.\n",
      "  this_zhandian_linked = this_zhandian_linked.append(shike[shike['车次id']==checi_])\n",
      "C:\\Users\\10157\\AppData\\Local\\Temp\\ipykernel_17332\\3368415302.py:11: FutureWarning: The frame.append method is deprecated and will be removed from pandas in a future version. Use pandas.concat instead.\n",
      "  this_zhandian_linked = this_zhandian_linked.append(shike[shike['车次id']==checi_])\n",
      "C:\\Users\\10157\\AppData\\Local\\Temp\\ipykernel_17332\\3368415302.py:11: FutureWarning: The frame.append method is deprecated and will be removed from pandas in a future version. Use pandas.concat instead.\n",
      "  this_zhandian_linked = this_zhandian_linked.append(shike[shike['车次id']==checi_])\n",
      "C:\\Users\\10157\\AppData\\Local\\Temp\\ipykernel_17332\\3368415302.py:11: FutureWarning: The frame.append method is deprecated and will be removed from pandas in a future version. Use pandas.concat instead.\n",
      "  this_zhandian_linked = this_zhandian_linked.append(shike[shike['车次id']==checi_])\n",
      "C:\\Users\\10157\\AppData\\Local\\Temp\\ipykernel_17332\\3368415302.py:11: FutureWarning: The frame.append method is deprecated and will be removed from pandas in a future version. Use pandas.concat instead.\n",
      "  this_zhandian_linked = this_zhandian_linked.append(shike[shike['车次id']==checi_])\n",
      "C:\\Users\\10157\\AppData\\Local\\Temp\\ipykernel_17332\\3368415302.py:11: FutureWarning: The frame.append method is deprecated and will be removed from pandas in a future version. Use pandas.concat instead.\n",
      "  this_zhandian_linked = this_zhandian_linked.append(shike[shike['车次id']==checi_])\n",
      "C:\\Users\\10157\\AppData\\Local\\Temp\\ipykernel_17332\\3368415302.py:11: FutureWarning: The frame.append method is deprecated and will be removed from pandas in a future version. Use pandas.concat instead.\n",
      "  this_zhandian_linked = this_zhandian_linked.append(shike[shike['车次id']==checi_])\n"
     ]
    },
    {
     "name": "stderr",
     "output_type": "stream",
     "text": [
      "C:\\Users\\10157\\AppData\\Local\\Temp\\ipykernel_17332\\877882732.py:10: SettingWithCopyWarning: \n",
      "A value is trying to be set on a copy of a slice from a DataFrame.\n",
      "Try using .loc[row_indexer,col_indexer] = value instead\n",
      "\n",
      "See the caveats in the documentation: https://pandas.pydata.org/pandas-docs/stable/user_guide/indexing.html#returning-a-view-versus-a-copy\n",
      "  pos_df2['所属路线_counts'] = 0\n",
      "C:\\Users\\10157\\AppData\\Local\\Temp\\ipykernel_17332\\877882732.py:11: SettingWithCopyWarning: \n",
      "A value is trying to be set on a copy of a slice from a DataFrame.\n",
      "Try using .loc[row_indexer,col_indexer] = value instead\n",
      "\n",
      "See the caveats in the documentation: https://pandas.pydata.org/pandas-docs/stable/user_guide/indexing.html#returning-a-view-versus-a-copy\n",
      "  pos_df2['路线对应站点_counts'] = 0\n",
      "C:\\Users\\10157\\AppData\\Local\\Temp\\ipykernel_17332\\877882732.py:21: SettingWithCopyWarning: \n",
      "A value is trying to be set on a copy of a slice from a DataFrame.\n",
      "Try using .loc[row_indexer,col_indexer] = value instead\n",
      "\n",
      "See the caveats in the documentation: https://pandas.pydata.org/pandas-docs/stable/user_guide/indexing.html#returning-a-view-versus-a-copy\n",
      "  pos_df2['路线匹配度'] = pos_df2['所属路线_counts']/pos_df2['路线对应站点_counts']\n",
      "C:\\Users\\10157\\AppData\\Local\\Temp\\ipykernel_17332\\877882732.py:23: SettingWithCopyWarning: \n",
      "A value is trying to be set on a copy of a slice from a DataFrame.\n",
      "Try using .loc[row_indexer,col_indexer] = value instead\n",
      "\n",
      "See the caveats in the documentation: https://pandas.pydata.org/pandas-docs/stable/user_guide/indexing.html#returning-a-view-versus-a-copy\n",
      "  pos_df2['匹配'] = (pos_df2['路线匹配度']>=match)\n",
      "C:\\Users\\10157\\AppData\\Local\\Temp\\ipykernel_17332\\877882732.py:24: SettingWithCopyWarning: \n",
      "A value is trying to be set on a copy of a slice from a DataFrame.\n",
      "Try using .loc[row_indexer,col_indexer] = value instead\n",
      "\n",
      "See the caveats in the documentation: https://pandas.pydata.org/pandas-docs/stable/user_guide/indexing.html#returning-a-view-versus-a-copy\n",
      "  pos_df2['匹配车次'] = 0\n",
      "C:\\Users\\10157\\AppData\\Local\\Temp\\ipykernel_17332\\877882732.py:25: SettingWithCopyWarning: \n",
      "A value is trying to be set on a copy of a slice from a DataFrame.\n",
      "Try using .loc[row_indexer,col_indexer] = value instead\n",
      "\n",
      "See the caveats in the documentation: https://pandas.pydata.org/pandas-docs/stable/user_guide/indexing.html#returning-a-view-versus-a-copy\n",
      "  pos_df2['匹配车次'] = pos_df2['所属路线'].map(lambda x: get_valid_checi(x, this_checi_linked))\n",
      "C:\\Users\\10157\\AppData\\Local\\Temp\\ipykernel_17332\\3368415302.py:11: FutureWarning: The frame.append method is deprecated and will be removed from pandas in a future version. Use pandas.concat instead.\n",
      "  this_zhandian_linked = this_zhandian_linked.append(shike[shike['车次id']==checi_])\n",
      "C:\\Users\\10157\\AppData\\Local\\Temp\\ipykernel_17332\\3368415302.py:11: FutureWarning: The frame.append method is deprecated and will be removed from pandas in a future version. Use pandas.concat instead.\n",
      "  this_zhandian_linked = this_zhandian_linked.append(shike[shike['车次id']==checi_])\n",
      "C:\\Users\\10157\\AppData\\Local\\Temp\\ipykernel_17332\\3368415302.py:11: FutureWarning: The frame.append method is deprecated and will be removed from pandas in a future version. Use pandas.concat instead.\n",
      "  this_zhandian_linked = this_zhandian_linked.append(shike[shike['车次id']==checi_])\n",
      "C:\\Users\\10157\\AppData\\Local\\Temp\\ipykernel_17332\\3368415302.py:11: FutureWarning: The frame.append method is deprecated and will be removed from pandas in a future version. Use pandas.concat instead.\n",
      "  this_zhandian_linked = this_zhandian_linked.append(shike[shike['车次id']==checi_])\n",
      "C:\\Users\\10157\\AppData\\Local\\Temp\\ipykernel_17332\\3368415302.py:11: FutureWarning: The frame.append method is deprecated and will be removed from pandas in a future version. Use pandas.concat instead.\n",
      "  this_zhandian_linked = this_zhandian_linked.append(shike[shike['车次id']==checi_])\n",
      "C:\\Users\\10157\\AppData\\Local\\Temp\\ipykernel_17332\\3368415302.py:11: FutureWarning: The frame.append method is deprecated and will be removed from pandas in a future version. Use pandas.concat instead.\n",
      "  this_zhandian_linked = this_zhandian_linked.append(shike[shike['车次id']==checi_])\n",
      "C:\\Users\\10157\\AppData\\Local\\Temp\\ipykernel_17332\\3368415302.py:11: FutureWarning: The frame.append method is deprecated and will be removed from pandas in a future version. Use pandas.concat instead.\n",
      "  this_zhandian_linked = this_zhandian_linked.append(shike[shike['车次id']==checi_])\n",
      "C:\\Users\\10157\\AppData\\Local\\Temp\\ipykernel_17332\\3368415302.py:11: FutureWarning: The frame.append method is deprecated and will be removed from pandas in a future version. Use pandas.concat instead.\n",
      "  this_zhandian_linked = this_zhandian_linked.append(shike[shike['车次id']==checi_])\n",
      "C:\\Users\\10157\\AppData\\Local\\Temp\\ipykernel_17332\\3368415302.py:11: FutureWarning: The frame.append method is deprecated and will be removed from pandas in a future version. Use pandas.concat instead.\n",
      "  this_zhandian_linked = this_zhandian_linked.append(shike[shike['车次id']==checi_])\n",
      "C:\\Users\\10157\\AppData\\Local\\Temp\\ipykernel_17332\\3368415302.py:11: FutureWarning: The frame.append method is deprecated and will be removed from pandas in a future version. Use pandas.concat instead.\n",
      "  this_zhandian_linked = this_zhandian_linked.append(shike[shike['车次id']==checi_])\n",
      "C:\\Users\\10157\\AppData\\Local\\Temp\\ipykernel_17332\\877882732.py:10: SettingWithCopyWarning: \n",
      "A value is trying to be set on a copy of a slice from a DataFrame.\n",
      "Try using .loc[row_indexer,col_indexer] = value instead\n",
      "\n",
      "See the caveats in the documentation: https://pandas.pydata.org/pandas-docs/stable/user_guide/indexing.html#returning-a-view-versus-a-copy\n",
      "  pos_df2['所属路线_counts'] = 0\n",
      "C:\\Users\\10157\\AppData\\Local\\Temp\\ipykernel_17332\\877882732.py:11: SettingWithCopyWarning: \n",
      "A value is trying to be set on a copy of a slice from a DataFrame.\n",
      "Try using .loc[row_indexer,col_indexer] = value instead\n",
      "\n",
      "See the caveats in the documentation: https://pandas.pydata.org/pandas-docs/stable/user_guide/indexing.html#returning-a-view-versus-a-copy\n",
      "  pos_df2['路线对应站点_counts'] = 0\n",
      "C:\\Users\\10157\\AppData\\Local\\Temp\\ipykernel_17332\\877882732.py:21: SettingWithCopyWarning: \n",
      "A value is trying to be set on a copy of a slice from a DataFrame.\n",
      "Try using .loc[row_indexer,col_indexer] = value instead\n",
      "\n",
      "See the caveats in the documentation: https://pandas.pydata.org/pandas-docs/stable/user_guide/indexing.html#returning-a-view-versus-a-copy\n",
      "  pos_df2['路线匹配度'] = pos_df2['所属路线_counts']/pos_df2['路线对应站点_counts']\n",
      "C:\\Users\\10157\\AppData\\Local\\Temp\\ipykernel_17332\\877882732.py:23: SettingWithCopyWarning: \n",
      "A value is trying to be set on a copy of a slice from a DataFrame.\n",
      "Try using .loc[row_indexer,col_indexer] = value instead\n",
      "\n",
      "See the caveats in the documentation: https://pandas.pydata.org/pandas-docs/stable/user_guide/indexing.html#returning-a-view-versus-a-copy\n",
      "  pos_df2['匹配'] = (pos_df2['路线匹配度']>=match)\n",
      "C:\\Users\\10157\\AppData\\Local\\Temp\\ipykernel_17332\\877882732.py:24: SettingWithCopyWarning: \n",
      "A value is trying to be set on a copy of a slice from a DataFrame.\n",
      "Try using .loc[row_indexer,col_indexer] = value instead\n",
      "\n",
      "See the caveats in the documentation: https://pandas.pydata.org/pandas-docs/stable/user_guide/indexing.html#returning-a-view-versus-a-copy\n",
      "  pos_df2['匹配车次'] = 0\n",
      "C:\\Users\\10157\\AppData\\Local\\Temp\\ipykernel_17332\\877882732.py:25: SettingWithCopyWarning: \n",
      "A value is trying to be set on a copy of a slice from a DataFrame.\n",
      "Try using .loc[row_indexer,col_indexer] = value instead\n",
      "\n",
      "See the caveats in the documentation: https://pandas.pydata.org/pandas-docs/stable/user_guide/indexing.html#returning-a-view-versus-a-copy\n",
      "  pos_df2['匹配车次'] = pos_df2['所属路线'].map(lambda x: get_valid_checi(x, this_checi_linked))\n",
      "C:\\Users\\10157\\AppData\\Local\\Temp\\ipykernel_17332\\3368415302.py:11: FutureWarning: The frame.append method is deprecated and will be removed from pandas in a future version. Use pandas.concat instead.\n",
      "  this_zhandian_linked = this_zhandian_linked.append(shike[shike['车次id']==checi_])\n",
      "C:\\Users\\10157\\AppData\\Local\\Temp\\ipykernel_17332\\3368415302.py:11: FutureWarning: The frame.append method is deprecated and will be removed from pandas in a future version. Use pandas.concat instead.\n",
      "  this_zhandian_linked = this_zhandian_linked.append(shike[shike['车次id']==checi_])\n",
      "C:\\Users\\10157\\AppData\\Local\\Temp\\ipykernel_17332\\3368415302.py:11: FutureWarning: The frame.append method is deprecated and will be removed from pandas in a future version. Use pandas.concat instead.\n",
      "  this_zhandian_linked = this_zhandian_linked.append(shike[shike['车次id']==checi_])\n",
      "C:\\Users\\10157\\AppData\\Local\\Temp\\ipykernel_17332\\3368415302.py:11: FutureWarning: The frame.append method is deprecated and will be removed from pandas in a future version. Use pandas.concat instead.\n",
      "  this_zhandian_linked = this_zhandian_linked.append(shike[shike['车次id']==checi_])\n",
      "C:\\Users\\10157\\AppData\\Local\\Temp\\ipykernel_17332\\3368415302.py:11: FutureWarning: The frame.append method is deprecated and will be removed from pandas in a future version. Use pandas.concat instead.\n",
      "  this_zhandian_linked = this_zhandian_linked.append(shike[shike['车次id']==checi_])\n",
      "C:\\Users\\10157\\AppData\\Local\\Temp\\ipykernel_17332\\3368415302.py:11: FutureWarning: The frame.append method is deprecated and will be removed from pandas in a future version. Use pandas.concat instead.\n",
      "  this_zhandian_linked = this_zhandian_linked.append(shike[shike['车次id']==checi_])\n",
      "C:\\Users\\10157\\AppData\\Local\\Temp\\ipykernel_17332\\3368415302.py:11: FutureWarning: The frame.append method is deprecated and will be removed from pandas in a future version. Use pandas.concat instead.\n",
      "  this_zhandian_linked = this_zhandian_linked.append(shike[shike['车次id']==checi_])\n",
      "C:\\Users\\10157\\AppData\\Local\\Temp\\ipykernel_17332\\3368415302.py:11: FutureWarning: The frame.append method is deprecated and will be removed from pandas in a future version. Use pandas.concat instead.\n",
      "  this_zhandian_linked = this_zhandian_linked.append(shike[shike['车次id']==checi_])\n",
      "C:\\Users\\10157\\AppData\\Local\\Temp\\ipykernel_17332\\3368415302.py:11: FutureWarning: The frame.append method is deprecated and will be removed from pandas in a future version. Use pandas.concat instead.\n",
      "  this_zhandian_linked = this_zhandian_linked.append(shike[shike['车次id']==checi_])\n",
      "C:\\Users\\10157\\AppData\\Local\\Temp\\ipykernel_17332\\3368415302.py:11: FutureWarning: The frame.append method is deprecated and will be removed from pandas in a future version. Use pandas.concat instead.\n",
      "  this_zhandian_linked = this_zhandian_linked.append(shike[shike['车次id']==checi_])\n"
     ]
    },
    {
     "name": "stderr",
     "output_type": "stream",
     "text": [
      "C:\\Users\\10157\\AppData\\Local\\Temp\\ipykernel_17332\\3368415302.py:11: FutureWarning: The frame.append method is deprecated and will be removed from pandas in a future version. Use pandas.concat instead.\n",
      "  this_zhandian_linked = this_zhandian_linked.append(shike[shike['车次id']==checi_])\n",
      "C:\\Users\\10157\\AppData\\Local\\Temp\\ipykernel_17332\\3368415302.py:11: FutureWarning: The frame.append method is deprecated and will be removed from pandas in a future version. Use pandas.concat instead.\n",
      "  this_zhandian_linked = this_zhandian_linked.append(shike[shike['车次id']==checi_])\n",
      "C:\\Users\\10157\\AppData\\Local\\Temp\\ipykernel_17332\\3368415302.py:11: FutureWarning: The frame.append method is deprecated and will be removed from pandas in a future version. Use pandas.concat instead.\n",
      "  this_zhandian_linked = this_zhandian_linked.append(shike[shike['车次id']==checi_])\n",
      "C:\\Users\\10157\\AppData\\Local\\Temp\\ipykernel_17332\\3368415302.py:11: FutureWarning: The frame.append method is deprecated and will be removed from pandas in a future version. Use pandas.concat instead.\n",
      "  this_zhandian_linked = this_zhandian_linked.append(shike[shike['车次id']==checi_])\n",
      "C:\\Users\\10157\\AppData\\Local\\Temp\\ipykernel_17332\\3368415302.py:11: FutureWarning: The frame.append method is deprecated and will be removed from pandas in a future version. Use pandas.concat instead.\n",
      "  this_zhandian_linked = this_zhandian_linked.append(shike[shike['车次id']==checi_])\n",
      "C:\\Users\\10157\\AppData\\Local\\Temp\\ipykernel_17332\\3368415302.py:11: FutureWarning: The frame.append method is deprecated and will be removed from pandas in a future version. Use pandas.concat instead.\n",
      "  this_zhandian_linked = this_zhandian_linked.append(shike[shike['车次id']==checi_])\n",
      "C:\\Users\\10157\\AppData\\Local\\Temp\\ipykernel_17332\\3368415302.py:11: FutureWarning: The frame.append method is deprecated and will be removed from pandas in a future version. Use pandas.concat instead.\n",
      "  this_zhandian_linked = this_zhandian_linked.append(shike[shike['车次id']==checi_])\n",
      "C:\\Users\\10157\\AppData\\Local\\Temp\\ipykernel_17332\\3368415302.py:11: FutureWarning: The frame.append method is deprecated and will be removed from pandas in a future version. Use pandas.concat instead.\n",
      "  this_zhandian_linked = this_zhandian_linked.append(shike[shike['车次id']==checi_])\n",
      "C:\\Users\\10157\\AppData\\Local\\Temp\\ipykernel_17332\\3368415302.py:11: FutureWarning: The frame.append method is deprecated and will be removed from pandas in a future version. Use pandas.concat instead.\n",
      "  this_zhandian_linked = this_zhandian_linked.append(shike[shike['车次id']==checi_])\n",
      "C:\\Users\\10157\\AppData\\Local\\Temp\\ipykernel_17332\\3368415302.py:11: FutureWarning: The frame.append method is deprecated and will be removed from pandas in a future version. Use pandas.concat instead.\n",
      "  this_zhandian_linked = this_zhandian_linked.append(shike[shike['车次id']==checi_])\n",
      "C:\\Users\\10157\\AppData\\Local\\Temp\\ipykernel_17332\\3368415302.py:11: FutureWarning: The frame.append method is deprecated and will be removed from pandas in a future version. Use pandas.concat instead.\n",
      "  this_zhandian_linked = this_zhandian_linked.append(shike[shike['车次id']==checi_])\n",
      "C:\\Users\\10157\\AppData\\Local\\Temp\\ipykernel_17332\\3368415302.py:11: FutureWarning: The frame.append method is deprecated and will be removed from pandas in a future version. Use pandas.concat instead.\n",
      "  this_zhandian_linked = this_zhandian_linked.append(shike[shike['车次id']==checi_])\n",
      "C:\\Users\\10157\\AppData\\Local\\Temp\\ipykernel_17332\\3368415302.py:11: FutureWarning: The frame.append method is deprecated and will be removed from pandas in a future version. Use pandas.concat instead.\n",
      "  this_zhandian_linked = this_zhandian_linked.append(shike[shike['车次id']==checi_])\n",
      "C:\\Users\\10157\\AppData\\Local\\Temp\\ipykernel_17332\\3368415302.py:11: FutureWarning: The frame.append method is deprecated and will be removed from pandas in a future version. Use pandas.concat instead.\n",
      "  this_zhandian_linked = this_zhandian_linked.append(shike[shike['车次id']==checi_])\n",
      "C:\\Users\\10157\\AppData\\Local\\Temp\\ipykernel_17332\\3368415302.py:11: FutureWarning: The frame.append method is deprecated and will be removed from pandas in a future version. Use pandas.concat instead.\n",
      "  this_zhandian_linked = this_zhandian_linked.append(shike[shike['车次id']==checi_])\n",
      "C:\\Users\\10157\\AppData\\Local\\Temp\\ipykernel_17332\\3368415302.py:11: FutureWarning: The frame.append method is deprecated and will be removed from pandas in a future version. Use pandas.concat instead.\n",
      "  this_zhandian_linked = this_zhandian_linked.append(shike[shike['车次id']==checi_])\n",
      "C:\\Users\\10157\\AppData\\Local\\Temp\\ipykernel_17332\\3368415302.py:11: FutureWarning: The frame.append method is deprecated and will be removed from pandas in a future version. Use pandas.concat instead.\n",
      "  this_zhandian_linked = this_zhandian_linked.append(shike[shike['车次id']==checi_])\n",
      "C:\\Users\\10157\\AppData\\Local\\Temp\\ipykernel_17332\\3368415302.py:11: FutureWarning: The frame.append method is deprecated and will be removed from pandas in a future version. Use pandas.concat instead.\n",
      "  this_zhandian_linked = this_zhandian_linked.append(shike[shike['车次id']==checi_])\n",
      "C:\\Users\\10157\\AppData\\Local\\Temp\\ipykernel_17332\\877882732.py:10: SettingWithCopyWarning: \n",
      "A value is trying to be set on a copy of a slice from a DataFrame.\n",
      "Try using .loc[row_indexer,col_indexer] = value instead\n",
      "\n",
      "See the caveats in the documentation: https://pandas.pydata.org/pandas-docs/stable/user_guide/indexing.html#returning-a-view-versus-a-copy\n",
      "  pos_df2['所属路线_counts'] = 0\n",
      "C:\\Users\\10157\\AppData\\Local\\Temp\\ipykernel_17332\\877882732.py:11: SettingWithCopyWarning: \n",
      "A value is trying to be set on a copy of a slice from a DataFrame.\n",
      "Try using .loc[row_indexer,col_indexer] = value instead\n",
      "\n",
      "See the caveats in the documentation: https://pandas.pydata.org/pandas-docs/stable/user_guide/indexing.html#returning-a-view-versus-a-copy\n",
      "  pos_df2['路线对应站点_counts'] = 0\n",
      "C:\\Users\\10157\\AppData\\Local\\Temp\\ipykernel_17332\\877882732.py:21: SettingWithCopyWarning: \n",
      "A value is trying to be set on a copy of a slice from a DataFrame.\n",
      "Try using .loc[row_indexer,col_indexer] = value instead\n",
      "\n",
      "See the caveats in the documentation: https://pandas.pydata.org/pandas-docs/stable/user_guide/indexing.html#returning-a-view-versus-a-copy\n",
      "  pos_df2['路线匹配度'] = pos_df2['所属路线_counts']/pos_df2['路线对应站点_counts']\n",
      "C:\\Users\\10157\\AppData\\Local\\Temp\\ipykernel_17332\\877882732.py:23: SettingWithCopyWarning: \n",
      "A value is trying to be set on a copy of a slice from a DataFrame.\n",
      "Try using .loc[row_indexer,col_indexer] = value instead\n",
      "\n",
      "See the caveats in the documentation: https://pandas.pydata.org/pandas-docs/stable/user_guide/indexing.html#returning-a-view-versus-a-copy\n",
      "  pos_df2['匹配'] = (pos_df2['路线匹配度']>=match)\n",
      "C:\\Users\\10157\\AppData\\Local\\Temp\\ipykernel_17332\\877882732.py:24: SettingWithCopyWarning: \n",
      "A value is trying to be set on a copy of a slice from a DataFrame.\n",
      "Try using .loc[row_indexer,col_indexer] = value instead\n",
      "\n",
      "See the caveats in the documentation: https://pandas.pydata.org/pandas-docs/stable/user_guide/indexing.html#returning-a-view-versus-a-copy\n",
      "  pos_df2['匹配车次'] = 0\n",
      "C:\\Users\\10157\\AppData\\Local\\Temp\\ipykernel_17332\\877882732.py:25: SettingWithCopyWarning: \n",
      "A value is trying to be set on a copy of a slice from a DataFrame.\n",
      "Try using .loc[row_indexer,col_indexer] = value instead\n",
      "\n",
      "See the caveats in the documentation: https://pandas.pydata.org/pandas-docs/stable/user_guide/indexing.html#returning-a-view-versus-a-copy\n",
      "  pos_df2['匹配车次'] = pos_df2['所属路线'].map(lambda x: get_valid_checi(x, this_checi_linked))\n"
     ]
    },
    {
     "ename": "KeyboardInterrupt",
     "evalue": "",
     "output_type": "error",
     "traceback": [
      "\u001b[1;31m---------------------------------------------------------------------------\u001b[0m",
      "\u001b[1;31mKeyboardInterrupt\u001b[0m                         Traceback (most recent call last)",
      "Input \u001b[1;32mIn [232]\u001b[0m, in \u001b[0;36m<cell line: 5>\u001b[1;34m()\u001b[0m\n\u001b[0;32m      3\u001b[0m final_df \u001b[38;5;241m=\u001b[39m pd\u001b[38;5;241m.\u001b[39mDataFrame(columns\u001b[38;5;241m=\u001b[39m[\u001b[38;5;124m'\u001b[39m\u001b[38;5;124m车牌\u001b[39m\u001b[38;5;124m'\u001b[39m, \u001b[38;5;124m'\u001b[39m\u001b[38;5;124m日期\u001b[39m\u001b[38;5;124m'\u001b[39m, \u001b[38;5;124m'\u001b[39m\u001b[38;5;124m匹配车次\u001b[39m\u001b[38;5;124m'\u001b[39m])\n\u001b[0;32m      5\u001b[0m \u001b[38;5;28;01mfor\u001b[39;00m each_gps \u001b[38;5;129;01min\u001b[39;00m all_gps:\n\u001b[1;32m----> 6\u001b[0m     plate, dates, res_df, checi_all\u001b[38;5;241m=\u001b[39m \u001b[43mrun\u001b[49m\u001b[43m(\u001b[49m\u001b[38;5;28;43mstr\u001b[39;49m\u001b[43m(\u001b[49m\u001b[43meach_gps\u001b[49m\u001b[43m)\u001b[49m\u001b[43m)\u001b[49m\n\u001b[0;32m      7\u001b[0m     \u001b[38;5;28;01mfor\u001b[39;00m j \u001b[38;5;129;01min\u001b[39;00m \u001b[38;5;28mrange\u001b[39m(\u001b[38;5;28mlen\u001b[39m(dates)):\n\u001b[0;32m      8\u001b[0m         current_date \u001b[38;5;241m=\u001b[39m dates[j]\n",
      "Input \u001b[1;32mIn [226]\u001b[0m, in \u001b[0;36mrun\u001b[1;34m(this_sn)\u001b[0m\n\u001b[0;32m     28\u001b[0m pos_df2 \u001b[38;5;241m=\u001b[39m tract_route(this_checi_linked)\n\u001b[0;32m     29\u001b[0m route_result \u001b[38;5;241m=\u001b[39m route_res(pos_df2)\n\u001b[1;32m---> 30\u001b[0m checi_all \u001b[38;5;241m=\u001b[39m \u001b[43mget_routes_time_check\u001b[49m\u001b[43m(\u001b[49m\u001b[43mroute_result\u001b[49m\u001b[43m,\u001b[49m\u001b[43m \u001b[49m\u001b[43mthis_data\u001b[49m\u001b[43m,\u001b[49m\u001b[43m \u001b[49m\u001b[43mshike\u001b[49m\u001b[43m)\u001b[49m\n\u001b[0;32m     33\u001b[0m \u001b[38;5;28;01mreturn\u001b[39;00m this_bus_plate, this_signal_dates, route_result, checi_all\n",
      "Input \u001b[1;32mIn [217]\u001b[0m, in \u001b[0;36mget_routes_time_check\u001b[1;34m(date_route_df, gps_data, shike_df)\u001b[0m\n\u001b[0;32m      6\u001b[0m \u001b[38;5;28;01mif\u001b[39;00m \u001b[38;5;28mlen\u001b[39m(routes):\n\u001b[0;32m      7\u001b[0m     \u001b[38;5;28;01mfor\u001b[39;00m each_route \u001b[38;5;129;01min\u001b[39;00m routes:\n\u001b[1;32m----> 8\u001b[0m         checi_valid \u001b[38;5;241m=\u001b[39m \u001b[43mroute_time_check\u001b[49m\u001b[43m(\u001b[49m\u001b[43meach_route\u001b[49m\u001b[43m,\u001b[49m\u001b[43m \u001b[49m\u001b[43mshike_df\u001b[49m\u001b[43m,\u001b[49m\u001b[43m \u001b[49m\u001b[43mgps_data\u001b[49m\u001b[43m[\u001b[49m\u001b[43mgps_data\u001b[49m\u001b[43m[\u001b[49m\u001b[38;5;124;43m'\u001b[39;49m\u001b[38;5;124;43m接收日期\u001b[39;49m\u001b[38;5;124;43m'\u001b[39;49m\u001b[43m]\u001b[49m\u001b[38;5;241;43m==\u001b[39;49m\u001b[43mdate\u001b[49m\u001b[43m]\u001b[49m\u001b[43m)\u001b[49m\n\u001b[0;32m      9\u001b[0m         \u001b[38;5;28;01mif\u001b[39;00m \u001b[38;5;28mlen\u001b[39m(checi_valid) \u001b[38;5;241m==\u001b[39m \u001b[38;5;241m0\u001b[39m:\n\u001b[0;32m     10\u001b[0m             checi_valid\u001b[38;5;241m=\u001b[39m[\u001b[38;5;241m-\u001b[39m\u001b[38;5;241m1\u001b[39m]\n",
      "Input \u001b[1;32mIn [210]\u001b[0m, in \u001b[0;36mroute_time_check\u001b[1;34m(route, shike_df, gps_data)\u001b[0m\n\u001b[0;32m     30\u001b[0m time_supposed_end \u001b[38;5;241m=\u001b[39m datetime\u001b[38;5;241m.\u001b[39mstrptime(time_supposed_end, time_format)\n\u001b[0;32m     32\u001b[0m \u001b[38;5;66;03m#离起点距离\u001b[39;00m\n\u001b[1;32m---> 33\u001b[0m dist_to_start \u001b[38;5;241m=\u001b[39m distance(row1[\u001b[38;5;124m'\u001b[39m\u001b[38;5;124m经度\u001b[39m\u001b[38;5;124m'\u001b[39m], row1[\u001b[38;5;124m'\u001b[39m\u001b[38;5;124m纬度\u001b[39m\u001b[38;5;124m'\u001b[39m], \u001b[43mshike_tomatch_start_df\u001b[49m\u001b[38;5;241;43m.\u001b[39;49m\u001b[43miloc\u001b[49m\u001b[43m[\u001b[49m\u001b[43mi\u001b[49m\u001b[43m]\u001b[49m[\u001b[38;5;124m'\u001b[39m\u001b[38;5;124m经度\u001b[39m\u001b[38;5;124m'\u001b[39m], shike_tomatch_start_df\u001b[38;5;241m.\u001b[39miloc[i][\u001b[38;5;124m'\u001b[39m\u001b[38;5;124m纬度\u001b[39m\u001b[38;5;124m'\u001b[39m])\n\u001b[0;32m     34\u001b[0m \u001b[38;5;66;03m#离终点距离\u001b[39;00m\n\u001b[0;32m     35\u001b[0m dist_to_end \u001b[38;5;241m=\u001b[39m distance(row1[\u001b[38;5;124m'\u001b[39m\u001b[38;5;124m经度\u001b[39m\u001b[38;5;124m'\u001b[39m], row1[\u001b[38;5;124m'\u001b[39m\u001b[38;5;124m纬度\u001b[39m\u001b[38;5;124m'\u001b[39m], shike_tomatch_end_df\u001b[38;5;241m.\u001b[39miloc[i][\u001b[38;5;124m'\u001b[39m\u001b[38;5;124m经度\u001b[39m\u001b[38;5;124m'\u001b[39m], shike_tomatch_end_df\u001b[38;5;241m.\u001b[39miloc[i][\u001b[38;5;124m'\u001b[39m\u001b[38;5;124m纬度\u001b[39m\u001b[38;5;124m'\u001b[39m])\n",
      "File \u001b[1;32m~\\anaconda3\\envs\\SI618\\lib\\site-packages\\pandas\\core\\indexing.py:967\u001b[0m, in \u001b[0;36m_LocationIndexer.__getitem__\u001b[1;34m(self, key)\u001b[0m\n\u001b[0;32m    964\u001b[0m axis \u001b[38;5;241m=\u001b[39m \u001b[38;5;28mself\u001b[39m\u001b[38;5;241m.\u001b[39maxis \u001b[38;5;129;01mor\u001b[39;00m \u001b[38;5;241m0\u001b[39m\n\u001b[0;32m    966\u001b[0m maybe_callable \u001b[38;5;241m=\u001b[39m com\u001b[38;5;241m.\u001b[39mapply_if_callable(key, \u001b[38;5;28mself\u001b[39m\u001b[38;5;241m.\u001b[39mobj)\n\u001b[1;32m--> 967\u001b[0m \u001b[38;5;28;01mreturn\u001b[39;00m \u001b[38;5;28;43mself\u001b[39;49m\u001b[38;5;241;43m.\u001b[39;49m\u001b[43m_getitem_axis\u001b[49m\u001b[43m(\u001b[49m\u001b[43mmaybe_callable\u001b[49m\u001b[43m,\u001b[49m\u001b[43m \u001b[49m\u001b[43maxis\u001b[49m\u001b[38;5;241;43m=\u001b[39;49m\u001b[43maxis\u001b[49m\u001b[43m)\u001b[49m\n",
      "File \u001b[1;32m~\\anaconda3\\envs\\SI618\\lib\\site-packages\\pandas\\core\\indexing.py:1522\u001b[0m, in \u001b[0;36m_iLocIndexer._getitem_axis\u001b[1;34m(self, key, axis)\u001b[0m\n\u001b[0;32m   1519\u001b[0m \u001b[38;5;66;03m# validate the location\u001b[39;00m\n\u001b[0;32m   1520\u001b[0m \u001b[38;5;28mself\u001b[39m\u001b[38;5;241m.\u001b[39m_validate_integer(key, axis)\n\u001b[1;32m-> 1522\u001b[0m \u001b[38;5;28;01mreturn\u001b[39;00m \u001b[38;5;28;43mself\u001b[39;49m\u001b[38;5;241;43m.\u001b[39;49m\u001b[43mobj\u001b[49m\u001b[38;5;241;43m.\u001b[39;49m\u001b[43m_ixs\u001b[49m\u001b[43m(\u001b[49m\u001b[43mkey\u001b[49m\u001b[43m,\u001b[49m\u001b[43m \u001b[49m\u001b[43maxis\u001b[49m\u001b[38;5;241;43m=\u001b[39;49m\u001b[43maxis\u001b[49m\u001b[43m)\u001b[49m\n",
      "File \u001b[1;32m~\\anaconda3\\envs\\SI618\\lib\\site-packages\\pandas\\core\\frame.py:3424\u001b[0m, in \u001b[0;36mDataFrame._ixs\u001b[1;34m(self, i, axis)\u001b[0m\n\u001b[0;32m   3422\u001b[0m \u001b[38;5;66;03m# irow\u001b[39;00m\n\u001b[0;32m   3423\u001b[0m \u001b[38;5;28;01mif\u001b[39;00m axis \u001b[38;5;241m==\u001b[39m \u001b[38;5;241m0\u001b[39m:\n\u001b[1;32m-> 3424\u001b[0m     new_values \u001b[38;5;241m=\u001b[39m \u001b[38;5;28;43mself\u001b[39;49m\u001b[38;5;241;43m.\u001b[39;49m\u001b[43m_mgr\u001b[49m\u001b[38;5;241;43m.\u001b[39;49m\u001b[43mfast_xs\u001b[49m\u001b[43m(\u001b[49m\u001b[43mi\u001b[49m\u001b[43m)\u001b[49m\n\u001b[0;32m   3426\u001b[0m     \u001b[38;5;66;03m# if we are a copy, mark as such\u001b[39;00m\n\u001b[0;32m   3427\u001b[0m     copy \u001b[38;5;241m=\u001b[39m \u001b[38;5;28misinstance\u001b[39m(new_values, np\u001b[38;5;241m.\u001b[39mndarray) \u001b[38;5;129;01mand\u001b[39;00m new_values\u001b[38;5;241m.\u001b[39mbase \u001b[38;5;129;01mis\u001b[39;00m \u001b[38;5;28;01mNone\u001b[39;00m\n",
      "File \u001b[1;32m~\\anaconda3\\envs\\SI618\\lib\\site-packages\\pandas\\core\\internals\\managers.py:998\u001b[0m, in \u001b[0;36mBlockManager.fast_xs\u001b[1;34m(self, loc)\u001b[0m\n\u001b[0;32m    995\u001b[0m \u001b[38;5;28;01mif\u001b[39;00m \u001b[38;5;28mlen\u001b[39m(\u001b[38;5;28mself\u001b[39m\u001b[38;5;241m.\u001b[39mblocks) \u001b[38;5;241m==\u001b[39m \u001b[38;5;241m1\u001b[39m:\n\u001b[0;32m    996\u001b[0m     \u001b[38;5;28;01mreturn\u001b[39;00m \u001b[38;5;28mself\u001b[39m\u001b[38;5;241m.\u001b[39mblocks[\u001b[38;5;241m0\u001b[39m]\u001b[38;5;241m.\u001b[39miget((\u001b[38;5;28mslice\u001b[39m(\u001b[38;5;28;01mNone\u001b[39;00m), loc))\n\u001b[1;32m--> 998\u001b[0m dtype \u001b[38;5;241m=\u001b[39m \u001b[43minterleaved_dtype\u001b[49m\u001b[43m(\u001b[49m\u001b[43m[\u001b[49m\u001b[43mblk\u001b[49m\u001b[38;5;241;43m.\u001b[39;49m\u001b[43mdtype\u001b[49m\u001b[43m \u001b[49m\u001b[38;5;28;43;01mfor\u001b[39;49;00m\u001b[43m \u001b[49m\u001b[43mblk\u001b[49m\u001b[43m \u001b[49m\u001b[38;5;129;43;01min\u001b[39;49;00m\u001b[43m \u001b[49m\u001b[38;5;28;43mself\u001b[39;49m\u001b[38;5;241;43m.\u001b[39;49m\u001b[43mblocks\u001b[49m\u001b[43m]\u001b[49m\u001b[43m)\u001b[49m\n\u001b[0;32m   1000\u001b[0m n \u001b[38;5;241m=\u001b[39m \u001b[38;5;28mlen\u001b[39m(\u001b[38;5;28mself\u001b[39m)\n\u001b[0;32m   1001\u001b[0m \u001b[38;5;28;01mif\u001b[39;00m \u001b[38;5;28misinstance\u001b[39m(dtype, ExtensionDtype):\n",
      "File \u001b[1;32m~\\anaconda3\\envs\\SI618\\lib\\site-packages\\pandas\\core\\internals\\base.py:226\u001b[0m, in \u001b[0;36minterleaved_dtype\u001b[1;34m(dtypes)\u001b[0m\n\u001b[0;32m    223\u001b[0m \u001b[38;5;28;01mif\u001b[39;00m \u001b[38;5;129;01mnot\u001b[39;00m \u001b[38;5;28mlen\u001b[39m(dtypes):\n\u001b[0;32m    224\u001b[0m     \u001b[38;5;28;01mreturn\u001b[39;00m \u001b[38;5;28;01mNone\u001b[39;00m\n\u001b[1;32m--> 226\u001b[0m \u001b[38;5;28;01mreturn\u001b[39;00m \u001b[43mfind_common_type\u001b[49m\u001b[43m(\u001b[49m\u001b[43mdtypes\u001b[49m\u001b[43m)\u001b[49m\n",
      "File \u001b[1;32m~\\anaconda3\\envs\\SI618\\lib\\site-packages\\pandas\\core\\dtypes\\cast.py:1841\u001b[0m, in \u001b[0;36mfind_common_type\u001b[1;34m(types)\u001b[0m\n\u001b[0;32m   1838\u001b[0m         \u001b[38;5;28;01mif\u001b[39;00m is_integer_dtype(t) \u001b[38;5;129;01mor\u001b[39;00m is_float_dtype(t) \u001b[38;5;129;01mor\u001b[39;00m is_complex_dtype(t):\n\u001b[0;32m   1839\u001b[0m             \u001b[38;5;28;01mreturn\u001b[39;00m np\u001b[38;5;241m.\u001b[39mdtype(\u001b[38;5;124m\"\u001b[39m\u001b[38;5;124mobject\u001b[39m\u001b[38;5;124m\"\u001b[39m)\n\u001b[1;32m-> 1841\u001b[0m \u001b[38;5;28;01mreturn\u001b[39;00m \u001b[43mnp\u001b[49m\u001b[38;5;241;43m.\u001b[39;49m\u001b[43mfind_common_type\u001b[49m\u001b[43m(\u001b[49m\u001b[43mtypes\u001b[49m\u001b[43m,\u001b[49m\u001b[43m \u001b[49m\u001b[43m[\u001b[49m\u001b[43m]\u001b[49m\u001b[43m)\u001b[49m\n",
      "File \u001b[1;32m~\\anaconda3\\envs\\SI618\\lib\\site-packages\\numpy\\core\\numerictypes.py:654\u001b[0m, in \u001b[0;36mfind_common_type\u001b[1;34m(array_types, scalar_types)\u001b[0m\n\u001b[0;32m    651\u001b[0m array_types \u001b[38;5;241m=\u001b[39m [dtype(x) \u001b[38;5;28;01mfor\u001b[39;00m x \u001b[38;5;129;01min\u001b[39;00m array_types]\n\u001b[0;32m    652\u001b[0m scalar_types \u001b[38;5;241m=\u001b[39m [dtype(x) \u001b[38;5;28;01mfor\u001b[39;00m x \u001b[38;5;129;01min\u001b[39;00m scalar_types]\n\u001b[1;32m--> 654\u001b[0m maxa \u001b[38;5;241m=\u001b[39m \u001b[43m_can_coerce_all\u001b[49m\u001b[43m(\u001b[49m\u001b[43marray_types\u001b[49m\u001b[43m)\u001b[49m\n\u001b[0;32m    655\u001b[0m maxsc \u001b[38;5;241m=\u001b[39m _can_coerce_all(scalar_types)\n\u001b[0;32m    657\u001b[0m \u001b[38;5;28;01mif\u001b[39;00m maxa \u001b[38;5;129;01mis\u001b[39;00m \u001b[38;5;28;01mNone\u001b[39;00m:\n",
      "File \u001b[1;32m~\\anaconda3\\envs\\SI618\\lib\\site-packages\\numpy\\core\\numerictypes.py:584\u001b[0m, in \u001b[0;36m_can_coerce_all\u001b[1;34m(dtypelist, start)\u001b[0m\n\u001b[0;32m    582\u001b[0m \u001b[38;5;28;01mwhile\u001b[39;00m thisind \u001b[38;5;241m<\u001b[39m __len_test_types:\n\u001b[0;32m    583\u001b[0m     newdtype \u001b[38;5;241m=\u001b[39m dtype(__test_types[thisind])\n\u001b[1;32m--> 584\u001b[0m     numcoerce \u001b[38;5;241m=\u001b[39m \u001b[38;5;28mlen\u001b[39m([x \u001b[38;5;28;01mfor\u001b[39;00m x \u001b[38;5;129;01min\u001b[39;00m dtypelist \u001b[38;5;28;01mif\u001b[39;00m newdtype \u001b[38;5;241m>\u001b[39m\u001b[38;5;241m=\u001b[39m x])\n\u001b[0;32m    585\u001b[0m     \u001b[38;5;28;01mif\u001b[39;00m numcoerce \u001b[38;5;241m==\u001b[39m N:\n\u001b[0;32m    586\u001b[0m         \u001b[38;5;28;01mreturn\u001b[39;00m newdtype\n",
      "File \u001b[1;32m~\\anaconda3\\envs\\SI618\\lib\\site-packages\\numpy\\core\\numerictypes.py:584\u001b[0m, in \u001b[0;36m<listcomp>\u001b[1;34m(.0)\u001b[0m\n\u001b[0;32m    582\u001b[0m \u001b[38;5;28;01mwhile\u001b[39;00m thisind \u001b[38;5;241m<\u001b[39m __len_test_types:\n\u001b[0;32m    583\u001b[0m     newdtype \u001b[38;5;241m=\u001b[39m dtype(__test_types[thisind])\n\u001b[1;32m--> 584\u001b[0m     numcoerce \u001b[38;5;241m=\u001b[39m \u001b[38;5;28mlen\u001b[39m([x \u001b[38;5;28;01mfor\u001b[39;00m x \u001b[38;5;129;01min\u001b[39;00m dtypelist \u001b[38;5;28;01mif\u001b[39;00m newdtype \u001b[38;5;241m>\u001b[39m\u001b[38;5;241m=\u001b[39m x])\n\u001b[0;32m    585\u001b[0m     \u001b[38;5;28;01mif\u001b[39;00m numcoerce \u001b[38;5;241m==\u001b[39m N:\n\u001b[0;32m    586\u001b[0m         \u001b[38;5;28;01mreturn\u001b[39;00m newdtype\n",
      "\u001b[1;31mKeyboardInterrupt\u001b[0m: "
     ]
    }
   ],
   "source": [
    "all_gps = gps_info_up_cleaned['gps串号'].unique()\n",
    "#all_gps = [868773050940116]\n",
    "final_df = pd.DataFrame(columns=['车牌', '日期', '匹配车次'])\n",
    "\n",
    "for each_gps in all_gps:\n",
    "    plate, dates, res_df, checi_all= run(str(each_gps))\n",
    "    for j in range(len(dates)):\n",
    "        current_date = dates[j]\n",
    "        current_checi = checi_all[j]\n",
    "        final_df.loc[len(final_df.index)] = [plate,current_date, current_checi]"
   ]
  },
  {
   "cell_type": "code",
   "execution_count": 229,
   "id": "e5cbe33a",
   "metadata": {},
   "outputs": [
    {
     "data": {
      "text/html": [
       "<div>\n",
       "<style scoped>\n",
       "    .dataframe tbody tr th:only-of-type {\n",
       "        vertical-align: middle;\n",
       "    }\n",
       "\n",
       "    .dataframe tbody tr th {\n",
       "        vertical-align: top;\n",
       "    }\n",
       "\n",
       "    .dataframe thead th {\n",
       "        text-align: right;\n",
       "    }\n",
       "</style>\n",
       "<table border=\"1\" class=\"dataframe\">\n",
       "  <thead>\n",
       "    <tr style=\"text-align: right;\">\n",
       "      <th></th>\n",
       "      <th>车牌</th>\n",
       "      <th>日期</th>\n",
       "      <th>匹配车次</th>\n",
       "    </tr>\n",
       "  </thead>\n",
       "  <tbody>\n",
       "    <tr>\n",
       "      <th>0</th>\n",
       "      <td>苏AE1928</td>\n",
       "      <td>2022-04-01</td>\n",
       "      <td>[-1]</td>\n",
       "    </tr>\n",
       "    <tr>\n",
       "      <th>1</th>\n",
       "      <td>苏AE1928</td>\n",
       "      <td>2022-04-02</td>\n",
       "      <td>[-1]</td>\n",
       "    </tr>\n",
       "    <tr>\n",
       "      <th>2</th>\n",
       "      <td>苏AE1928</td>\n",
       "      <td>2022-04-06</td>\n",
       "      <td>[173]</td>\n",
       "    </tr>\n",
       "    <tr>\n",
       "      <th>3</th>\n",
       "      <td>苏AE1928</td>\n",
       "      <td>2022-04-07</td>\n",
       "      <td>[12, 13, 14, 15, 16, 17, 18, 19, 20, 21, 22, 2...</td>\n",
       "    </tr>\n",
       "    <tr>\n",
       "      <th>4</th>\n",
       "      <td>苏AE1928</td>\n",
       "      <td>2022-04-08</td>\n",
       "      <td>[-1]</td>\n",
       "    </tr>\n",
       "    <tr>\n",
       "      <th>5</th>\n",
       "      <td>苏AE1928</td>\n",
       "      <td>2022-04-09</td>\n",
       "      <td>[173]</td>\n",
       "    </tr>\n",
       "    <tr>\n",
       "      <th>6</th>\n",
       "      <td>苏AE1928</td>\n",
       "      <td>2022-04-10</td>\n",
       "      <td>[-1]</td>\n",
       "    </tr>\n",
       "    <tr>\n",
       "      <th>7</th>\n",
       "      <td>苏AE1928</td>\n",
       "      <td>2022-04-11</td>\n",
       "      <td>[442, 443, 444, 445, 446, 447, 448, 449, 450, ...</td>\n",
       "    </tr>\n",
       "    <tr>\n",
       "      <th>8</th>\n",
       "      <td>苏AE1928</td>\n",
       "      <td>2022-04-12</td>\n",
       "      <td>[-1]</td>\n",
       "    </tr>\n",
       "    <tr>\n",
       "      <th>9</th>\n",
       "      <td>苏AE1928</td>\n",
       "      <td>2022-04-13</td>\n",
       "      <td>[12, 13, 14, 15, 16, 17, 18, 19, 20, 21, 22, 2...</td>\n",
       "    </tr>\n",
       "    <tr>\n",
       "      <th>10</th>\n",
       "      <td>苏AE1928</td>\n",
       "      <td>2022-04-14</td>\n",
       "      <td>[-1]</td>\n",
       "    </tr>\n",
       "  </tbody>\n",
       "</table>\n",
       "</div>"
      ],
      "text/plain": [
       "         车牌          日期                                               匹配车次\n",
       "0   苏AE1928  2022-04-01                                               [-1]\n",
       "1   苏AE1928  2022-04-02                                               [-1]\n",
       "2   苏AE1928  2022-04-06                                              [173]\n",
       "3   苏AE1928  2022-04-07  [12, 13, 14, 15, 16, 17, 18, 19, 20, 21, 22, 2...\n",
       "4   苏AE1928  2022-04-08                                               [-1]\n",
       "5   苏AE1928  2022-04-09                                              [173]\n",
       "6   苏AE1928  2022-04-10                                               [-1]\n",
       "7   苏AE1928  2022-04-11  [442, 443, 444, 445, 446, 447, 448, 449, 450, ...\n",
       "8   苏AE1928  2022-04-12                                               [-1]\n",
       "9   苏AE1928  2022-04-13  [12, 13, 14, 15, 16, 17, 18, 19, 20, 21, 22, 2...\n",
       "10  苏AE1928  2022-04-14                                               [-1]"
      ]
     },
     "execution_count": 229,
     "metadata": {},
     "output_type": "execute_result"
    }
   ],
   "source": [
    "final_df"
   ]
  },
  {
   "cell_type": "code",
   "execution_count": 207,
   "id": "30ef36af",
   "metadata": {},
   "outputs": [
    {
     "name": "stderr",
     "output_type": "stream",
     "text": [
      "C:\\Users\\10157\\AppData\\Local\\Temp\\ipykernel_17332\\299033165.py:11: FutureWarning: The frame.append method is deprecated and will be removed from pandas in a future version. Use pandas.concat instead.\n",
      "  this_zhandian_linked = this_zhandian_linked.append(shike[shike['车次id']==checi_])\n",
      "C:\\Users\\10157\\AppData\\Local\\Temp\\ipykernel_17332\\299033165.py:11: FutureWarning: The frame.append method is deprecated and will be removed from pandas in a future version. Use pandas.concat instead.\n",
      "  this_zhandian_linked = this_zhandian_linked.append(shike[shike['车次id']==checi_])\n",
      "C:\\Users\\10157\\AppData\\Local\\Temp\\ipykernel_17332\\299033165.py:11: FutureWarning: The frame.append method is deprecated and will be removed from pandas in a future version. Use pandas.concat instead.\n",
      "  this_zhandian_linked = this_zhandian_linked.append(shike[shike['车次id']==checi_])\n",
      "C:\\Users\\10157\\AppData\\Local\\Temp\\ipykernel_17332\\299033165.py:11: FutureWarning: The frame.append method is deprecated and will be removed from pandas in a future version. Use pandas.concat instead.\n",
      "  this_zhandian_linked = this_zhandian_linked.append(shike[shike['车次id']==checi_])\n",
      "C:\\Users\\10157\\AppData\\Local\\Temp\\ipykernel_17332\\299033165.py:11: FutureWarning: The frame.append method is deprecated and will be removed from pandas in a future version. Use pandas.concat instead.\n",
      "  this_zhandian_linked = this_zhandian_linked.append(shike[shike['车次id']==checi_])\n",
      "C:\\Users\\10157\\AppData\\Local\\Temp\\ipykernel_17332\\299033165.py:11: FutureWarning: The frame.append method is deprecated and will be removed from pandas in a future version. Use pandas.concat instead.\n",
      "  this_zhandian_linked = this_zhandian_linked.append(shike[shike['车次id']==checi_])\n",
      "C:\\Users\\10157\\AppData\\Local\\Temp\\ipykernel_17332\\299033165.py:11: FutureWarning: The frame.append method is deprecated and will be removed from pandas in a future version. Use pandas.concat instead.\n",
      "  this_zhandian_linked = this_zhandian_linked.append(shike[shike['车次id']==checi_])\n",
      "C:\\Users\\10157\\AppData\\Local\\Temp\\ipykernel_17332\\877882732.py:10: SettingWithCopyWarning: \n",
      "A value is trying to be set on a copy of a slice from a DataFrame.\n",
      "Try using .loc[row_indexer,col_indexer] = value instead\n",
      "\n",
      "See the caveats in the documentation: https://pandas.pydata.org/pandas-docs/stable/user_guide/indexing.html#returning-a-view-versus-a-copy\n",
      "  pos_df2['所属路线_counts'] = 0\n",
      "C:\\Users\\10157\\AppData\\Local\\Temp\\ipykernel_17332\\877882732.py:11: SettingWithCopyWarning: \n",
      "A value is trying to be set on a copy of a slice from a DataFrame.\n",
      "Try using .loc[row_indexer,col_indexer] = value instead\n",
      "\n",
      "See the caveats in the documentation: https://pandas.pydata.org/pandas-docs/stable/user_guide/indexing.html#returning-a-view-versus-a-copy\n",
      "  pos_df2['路线对应站点_counts'] = 0\n",
      "C:\\Users\\10157\\AppData\\Local\\Temp\\ipykernel_17332\\877882732.py:21: SettingWithCopyWarning: \n",
      "A value is trying to be set on a copy of a slice from a DataFrame.\n",
      "Try using .loc[row_indexer,col_indexer] = value instead\n",
      "\n",
      "See the caveats in the documentation: https://pandas.pydata.org/pandas-docs/stable/user_guide/indexing.html#returning-a-view-versus-a-copy\n",
      "  pos_df2['路线匹配度'] = pos_df2['所属路线_counts']/pos_df2['路线对应站点_counts']\n",
      "C:\\Users\\10157\\AppData\\Local\\Temp\\ipykernel_17332\\877882732.py:23: SettingWithCopyWarning: \n",
      "A value is trying to be set on a copy of a slice from a DataFrame.\n",
      "Try using .loc[row_indexer,col_indexer] = value instead\n",
      "\n",
      "See the caveats in the documentation: https://pandas.pydata.org/pandas-docs/stable/user_guide/indexing.html#returning-a-view-versus-a-copy\n",
      "  pos_df2['匹配'] = (pos_df2['路线匹配度']>=match)\n",
      "C:\\Users\\10157\\AppData\\Local\\Temp\\ipykernel_17332\\877882732.py:24: SettingWithCopyWarning: \n",
      "A value is trying to be set on a copy of a slice from a DataFrame.\n",
      "Try using .loc[row_indexer,col_indexer] = value instead\n",
      "\n",
      "See the caveats in the documentation: https://pandas.pydata.org/pandas-docs/stable/user_guide/indexing.html#returning-a-view-versus-a-copy\n",
      "  pos_df2['匹配车次'] = 0\n",
      "C:\\Users\\10157\\AppData\\Local\\Temp\\ipykernel_17332\\877882732.py:25: SettingWithCopyWarning: \n",
      "A value is trying to be set on a copy of a slice from a DataFrame.\n",
      "Try using .loc[row_indexer,col_indexer] = value instead\n",
      "\n",
      "See the caveats in the documentation: https://pandas.pydata.org/pandas-docs/stable/user_guide/indexing.html#returning-a-view-versus-a-copy\n",
      "  pos_df2['匹配车次'] = pos_df2['所属路线'].map(lambda x: get_valid_checi(x, this_checi_linked))\n"
     ]
    }
   ],
   "source": [
    "plate, dates, res_df, checi_all= run('868773050937062')"
   ]
  },
  {
   "cell_type": "code",
   "execution_count": 231,
   "id": "89f3003e",
   "metadata": {},
   "outputs": [],
   "source": [
    "final_df.to_excel('C:/intern/data/docs_updated/final_result.xlsx',index=False)\n"
   ]
  },
  {
   "cell_type": "code",
   "execution_count": 105,
   "id": "9619a82d",
   "metadata": {},
   "outputs": [],
   "source": [
    "def route_res(res_df):\n",
    "    matchroute_eachday_df = pd.DataFrame(columns=['日期', '路线'])\n",
    "    route_result = res_df.groupby(['日期','所属路线']).first()\n",
    "    route_result = route_result.reset_index()\n",
    "    route_dates = route_result['日期'].unique()\n",
    "    for date in route_dates:\n",
    "        res_data = route_result[route_result['日期']==date]\n",
    "        luxian_match = res_data[res_data['匹配']]['所属路线'].values\n",
    "        matchroute_eachday_df.loc[len(matchroute_eachday_df.index)] = [date, luxian_match]\n",
    "    \n",
    "    return matchroute_eachday_df\n",
    "            "
   ]
  },
  {
   "cell_type": "code",
   "execution_count": 180,
   "id": "46839033",
   "metadata": {},
   "outputs": [
    {
     "data": {
      "text/plain": [
       "array([6, 6, 6, 6, 6, 6, 6, 6, 6, 6, 6, 6, 6, 6, 6, 6, 6, 6, 6, 6, 4, 4,\n",
       "       4, 4, 4], dtype=int64)"
      ]
     },
     "execution_count": 180,
     "metadata": {},
     "output_type": "execute_result"
    }
   ],
   "source": [
    "df = shike[shike['路线']=='Y16']\n",
    "df.groupby('车次id')['站序'].max().values"
   ]
  },
  {
   "cell_type": "code",
   "execution_count": 199,
   "id": "195c945f",
   "metadata": {},
   "outputs": [
    {
     "data": {
      "text/plain": [
       "25"
      ]
     },
     "execution_count": 199,
     "metadata": {},
     "output_type": "execute_result"
    }
   ],
   "source": [
    "shike_data = shike[shike['路线']=='Y16']\n",
    "shike_tomatch = shike_data.groupby(['车次id','站序']).first().reset_index()\n",
    "start_num = 1\n",
    "end_num = shike_tomatch['站序'].max()\n",
    "checi = shike_tomatch.groupby('车次id')['站序'].max().index\n",
    "end_num_list = shike_tomatch.groupby('车次id')['站序'].max().values\n",
    "shike_tomatch_start = shike_tomatch[shike_tomatch['站序']==start_num]\n",
    "shike_tomatch_end = pd.DataFrame()\n",
    "\n",
    "for checi_, zhanxu_ in zip(checi, end_num_list):\n",
    "    found = shike_tomatch[(shike_tomatch['车次id']==checi_) & (shike_tomatch['站序']==zhanxu_)]\n",
    "    shike_tomatch_end = pd.concat([shike_tomatch_end, found], sort=False)\n",
    "\n",
    "len(shike_tomatch_end)"
   ]
  },
  {
   "cell_type": "code",
   "execution_count": 210,
   "id": "e5db2d36",
   "metadata": {},
   "outputs": [],
   "source": [
    "def route_time_check(route, shike_df, gps_data):\n",
    "    shike_data = shike_df[shike_df['路线']==route]\n",
    "    shike_tomatch = shike_data.groupby(['车次id','站序']).first().reset_index()\n",
    "    start_num = 1\n",
    "    shike_tomatch_start_df = shike_tomatch[shike_tomatch['站序']==start_num]\n",
    "    checi = shike_tomatch.groupby('车次id')['站序'].max().index\n",
    "    end_num_list = shike_tomatch.groupby('车次id')['站序'].max().values\n",
    "    \n",
    "    shike_tomatch_end_df = pd.DataFrame()\n",
    "    for checi_, zhanxu_ in zip(checi, end_num_list):\n",
    "        found = shike_tomatch[(shike_tomatch['车次id']==checi_) & (shike_tomatch['站序']==zhanxu_)]\n",
    "        shike_tomatch_end_df = pd.concat([shike_tomatch_end_df, found], sort=False)\n",
    "    \n",
    "    checi_num = len(checi)\n",
    "    checi_time_valid =[]\n",
    "    \n",
    "    for i in range(checi_num):\n",
    "        pass_start = 0\n",
    "        pass_end = 0\n",
    "        \n",
    "        for index1, row1 in gps_data.iterrows():\n",
    "\n",
    "            date_ = row1['接收日期']\n",
    "            dt1 = row1['接收时间']\n",
    "            time_format = \"%Y-%m-%d %H:%M:%S\"\n",
    "\n",
    "            time_supposed_start = date_+' '+shike_tomatch_start_df.iloc[i]['时间']\n",
    "            time_supposed_end = date_+' '+shike_tomatch_end_df.iloc[i]['时间']\n",
    "            time_supposed_start = datetime.strptime(time_supposed_start, time_format)\n",
    "            time_supposed_end = datetime.strptime(time_supposed_end, time_format)\n",
    "                    \n",
    "            #离起点距离\n",
    "            dist_to_start = distance(row1['经度'], row1['纬度'], shike_tomatch_start_df.iloc[i]['经度'], shike_tomatch_start_df.iloc[i]['纬度'])\n",
    "            #离终点距离\n",
    "            dist_to_end = distance(row1['经度'], row1['纬度'], shike_tomatch_end_df.iloc[i]['经度'], shike_tomatch_end_df.iloc[i]['纬度'])\n",
    "                    \n",
    "            time_diff = (time_supposed_start - dt1).total_seconds() / 60\n",
    "            #abs_diff = abs(time_diff)\n",
    "                    \n",
    "            #到达预计首站出发时间, GPS可能有30s延迟\n",
    "            if time_diff<=-0.5:\n",
    "                #经过始发站\n",
    "                if dist_to_start<=0.2:\n",
    "                    pass_start = 1\n",
    "                            \n",
    "            #到达预计终点站到达时间, GPS可能有30s延迟\n",
    "            if time_diff>=-0.5:\n",
    "                #经过终点站\n",
    "                if dist_to_end<=0.2:\n",
    "                    pass_end = 1\n",
    "                \n",
    "        if pass_start & pass_end:\n",
    "            checi_time_valid.append(shike_tomatch_start_df.iloc[i]['车次id'])\n",
    "    \n",
    "    return checi_time_valid\n",
    "    "
   ]
  },
  {
   "cell_type": "code",
   "execution_count": 217,
   "id": "d7841e6f",
   "metadata": {},
   "outputs": [],
   "source": [
    "def get_routes_time_check(date_route_df, gps_data, shike_df):\n",
    "    checi_all = []\n",
    "    for id_, row_ in date_route_df.iterrows():\n",
    "        date = row_['日期']\n",
    "        routes = row_['路线']\n",
    "        if len(routes):\n",
    "            for each_route in routes:\n",
    "                checi_valid = route_time_check(each_route, shike_df, gps_data[gps_data['接收日期']==date])\n",
    "                if len(checi_valid) == 0:\n",
    "                    checi_valid=[-1]\n",
    "                checi_all.append(checi_valid)\n",
    "                \n",
    "    return checi_all"
   ]
  },
  {
   "cell_type": "code",
   "execution_count": 82,
   "id": "df38c683",
   "metadata": {},
   "outputs": [
    {
     "data": {
      "text/html": [
       "<div>\n",
       "<style scoped>\n",
       "    .dataframe tbody tr th:only-of-type {\n",
       "        vertical-align: middle;\n",
       "    }\n",
       "\n",
       "    .dataframe tbody tr th {\n",
       "        vertical-align: top;\n",
       "    }\n",
       "\n",
       "    .dataframe thead th {\n",
       "        text-align: right;\n",
       "    }\n",
       "</style>\n",
       "<table border=\"1\" class=\"dataframe\">\n",
       "  <thead>\n",
       "    <tr style=\"text-align: right;\">\n",
       "      <th></th>\n",
       "      <th>日期</th>\n",
       "      <th>具体时间</th>\n",
       "      <th>停留经度</th>\n",
       "      <th>停留纬度</th>\n",
       "      <th>最近站点</th>\n",
       "      <th>距离</th>\n",
       "      <th>所属路线</th>\n",
       "      <th>所属路线_counts</th>\n",
       "      <th>路线对应站点_counts</th>\n",
       "      <th>路线匹配度</th>\n",
       "      <th>匹配</th>\n",
       "      <th>匹配车次</th>\n",
       "    </tr>\n",
       "  </thead>\n",
       "  <tbody>\n",
       "    <tr>\n",
       "      <th>80</th>\n",
       "      <td>2022-04-02</td>\n",
       "      <td>2022-04-02 07:45:20</td>\n",
       "      <td>118.704786</td>\n",
       "      <td>32.163459</td>\n",
       "      <td>星火路</td>\n",
       "      <td>0.081430</td>\n",
       "      <td>Y16</td>\n",
       "      <td>2</td>\n",
       "      <td>6</td>\n",
       "      <td>0.333333</td>\n",
       "      <td>True</td>\n",
       "      <td>[166, 182]</td>\n",
       "    </tr>\n",
       "    <tr>\n",
       "      <th>81</th>\n",
       "      <td>2022-04-02</td>\n",
       "      <td>2022-04-02 17:04:19</td>\n",
       "      <td>118.616912</td>\n",
       "      <td>32.022925</td>\n",
       "      <td>青云大厦</td>\n",
       "      <td>0.218183</td>\n",
       "      <td>unknown</td>\n",
       "      <td>2</td>\n",
       "      <td>100</td>\n",
       "      <td>0.020000</td>\n",
       "      <td>False</td>\n",
       "      <td>[]</td>\n",
       "    </tr>\n",
       "    <tr>\n",
       "      <th>82</th>\n",
       "      <td>2022-04-02</td>\n",
       "      <td>2022-04-02 17:09:05</td>\n",
       "      <td>118.611894</td>\n",
       "      <td>32.026093</td>\n",
       "      <td>光电科技园</td>\n",
       "      <td>0.327470</td>\n",
       "      <td>Y5</td>\n",
       "      <td>1</td>\n",
       "      <td>9</td>\n",
       "      <td>0.111111</td>\n",
       "      <td>False</td>\n",
       "      <td>[]</td>\n",
       "    </tr>\n",
       "    <tr>\n",
       "      <th>83</th>\n",
       "      <td>2022-04-02</td>\n",
       "      <td>2022-04-02 17:09:05</td>\n",
       "      <td>118.611894</td>\n",
       "      <td>32.026093</td>\n",
       "      <td>光电科技园</td>\n",
       "      <td>0.327470</td>\n",
       "      <td>Y6</td>\n",
       "      <td>1</td>\n",
       "      <td>8</td>\n",
       "      <td>0.125000</td>\n",
       "      <td>False</td>\n",
       "      <td>[]</td>\n",
       "    </tr>\n",
       "    <tr>\n",
       "      <th>84</th>\n",
       "      <td>2022-04-02</td>\n",
       "      <td>2022-04-02 17:09:05</td>\n",
       "      <td>118.611894</td>\n",
       "      <td>32.026093</td>\n",
       "      <td>光电科技园</td>\n",
       "      <td>0.327470</td>\n",
       "      <td>Y4</td>\n",
       "      <td>1</td>\n",
       "      <td>6</td>\n",
       "      <td>0.166667</td>\n",
       "      <td>False</td>\n",
       "      <td>[]</td>\n",
       "    </tr>\n",
       "    <tr>\n",
       "      <th>85</th>\n",
       "      <td>2022-04-02</td>\n",
       "      <td>2022-04-02 17:09:05</td>\n",
       "      <td>118.611894</td>\n",
       "      <td>32.026093</td>\n",
       "      <td>光电科技园</td>\n",
       "      <td>0.327470</td>\n",
       "      <td>Y9</td>\n",
       "      <td>1</td>\n",
       "      <td>9</td>\n",
       "      <td>0.111111</td>\n",
       "      <td>False</td>\n",
       "      <td>[126, 127, 131, 132]</td>\n",
       "    </tr>\n",
       "    <tr>\n",
       "      <th>86</th>\n",
       "      <td>2022-04-02</td>\n",
       "      <td>2022-04-02 17:09:05</td>\n",
       "      <td>118.611894</td>\n",
       "      <td>32.026093</td>\n",
       "      <td>光电科技园</td>\n",
       "      <td>0.327470</td>\n",
       "      <td>Y8</td>\n",
       "      <td>1</td>\n",
       "      <td>3</td>\n",
       "      <td>0.333333</td>\n",
       "      <td>True</td>\n",
       "      <td>[122]</td>\n",
       "    </tr>\n",
       "    <tr>\n",
       "      <th>87</th>\n",
       "      <td>2022-04-02</td>\n",
       "      <td>2022-04-02 17:09:05</td>\n",
       "      <td>118.611894</td>\n",
       "      <td>32.026093</td>\n",
       "      <td>光电科技园</td>\n",
       "      <td>0.327470</td>\n",
       "      <td>Y16</td>\n",
       "      <td>2</td>\n",
       "      <td>6</td>\n",
       "      <td>0.333333</td>\n",
       "      <td>True</td>\n",
       "      <td>[166, 182]</td>\n",
       "    </tr>\n",
       "    <tr>\n",
       "      <th>88</th>\n",
       "      <td>2022-04-02</td>\n",
       "      <td>2022-04-02 17:09:05</td>\n",
       "      <td>118.611894</td>\n",
       "      <td>32.026093</td>\n",
       "      <td>光电科技园</td>\n",
       "      <td>0.327470</td>\n",
       "      <td>Y10</td>\n",
       "      <td>1</td>\n",
       "      <td>3</td>\n",
       "      <td>0.333333</td>\n",
       "      <td>True</td>\n",
       "      <td>[]</td>\n",
       "    </tr>\n",
       "    <tr>\n",
       "      <th>89</th>\n",
       "      <td>2022-04-02</td>\n",
       "      <td>2022-04-02 17:09:05</td>\n",
       "      <td>118.611894</td>\n",
       "      <td>32.026093</td>\n",
       "      <td>光电科技园</td>\n",
       "      <td>0.327470</td>\n",
       "      <td>Y13</td>\n",
       "      <td>2</td>\n",
       "      <td>8</td>\n",
       "      <td>0.250000</td>\n",
       "      <td>False</td>\n",
       "      <td>[]</td>\n",
       "    </tr>\n",
       "    <tr>\n",
       "      <th>98</th>\n",
       "      <td>2022-04-02</td>\n",
       "      <td>2022-04-02 17:17:24</td>\n",
       "      <td>118.612693</td>\n",
       "      <td>32.029257</td>\n",
       "      <td>行知路雨合路</td>\n",
       "      <td>0.067732</td>\n",
       "      <td>unknown</td>\n",
       "      <td>2</td>\n",
       "      <td>100</td>\n",
       "      <td>0.020000</td>\n",
       "      <td>False</td>\n",
       "      <td>[]</td>\n",
       "    </tr>\n",
       "    <tr>\n",
       "      <th>99</th>\n",
       "      <td>2022-04-02</td>\n",
       "      <td>2022-04-02 19:27:24</td>\n",
       "      <td>118.713973</td>\n",
       "      <td>32.169223</td>\n",
       "      <td>税务局</td>\n",
       "      <td>0.347173</td>\n",
       "      <td>Y13</td>\n",
       "      <td>2</td>\n",
       "      <td>8</td>\n",
       "      <td>0.250000</td>\n",
       "      <td>False</td>\n",
       "      <td>[]</td>\n",
       "    </tr>\n",
       "  </tbody>\n",
       "</table>\n",
       "</div>"
      ],
      "text/plain": [
       "            日期                具体时间        停留经度       停留纬度    最近站点        距离  \\\n",
       "80  2022-04-02 2022-04-02 07:45:20  118.704786  32.163459     星火路  0.081430   \n",
       "81  2022-04-02 2022-04-02 17:04:19  118.616912  32.022925    青云大厦  0.218183   \n",
       "82  2022-04-02 2022-04-02 17:09:05  118.611894  32.026093   光电科技园  0.327470   \n",
       "83  2022-04-02 2022-04-02 17:09:05  118.611894  32.026093   光电科技园  0.327470   \n",
       "84  2022-04-02 2022-04-02 17:09:05  118.611894  32.026093   光电科技园  0.327470   \n",
       "85  2022-04-02 2022-04-02 17:09:05  118.611894  32.026093   光电科技园  0.327470   \n",
       "86  2022-04-02 2022-04-02 17:09:05  118.611894  32.026093   光电科技园  0.327470   \n",
       "87  2022-04-02 2022-04-02 17:09:05  118.611894  32.026093   光电科技园  0.327470   \n",
       "88  2022-04-02 2022-04-02 17:09:05  118.611894  32.026093   光电科技园  0.327470   \n",
       "89  2022-04-02 2022-04-02 17:09:05  118.611894  32.026093   光电科技园  0.327470   \n",
       "98  2022-04-02 2022-04-02 17:17:24  118.612693  32.029257  行知路雨合路  0.067732   \n",
       "99  2022-04-02 2022-04-02 19:27:24  118.713973  32.169223     税务局  0.347173   \n",
       "\n",
       "       所属路线  所属路线_counts  路线对应站点_counts     路线匹配度     匹配                  匹配车次  \n",
       "80      Y16            2              6  0.333333   True            [166, 182]  \n",
       "81  unknown            2            100  0.020000  False                    []  \n",
       "82       Y5            1              9  0.111111  False                    []  \n",
       "83       Y6            1              8  0.125000  False                    []  \n",
       "84       Y4            1              6  0.166667  False                    []  \n",
       "85       Y9            1              9  0.111111  False  [126, 127, 131, 132]  \n",
       "86       Y8            1              3  0.333333   True                 [122]  \n",
       "87      Y16            2              6  0.333333   True            [166, 182]  \n",
       "88      Y10            1              3  0.333333   True                    []  \n",
       "89      Y13            2              8  0.250000  False                    []  \n",
       "98  unknown            2            100  0.020000  False                    []  \n",
       "99      Y13            2              8  0.250000  False                    []  "
      ]
     },
     "execution_count": 82,
     "metadata": {},
     "output_type": "execute_result"
    }
   ],
   "source": [
    "res_df[res_df['日期']=='2022-04-02']"
   ]
  },
  {
   "cell_type": "code",
   "execution_count": null,
   "id": "c66b0479",
   "metadata": {},
   "outputs": [],
   "source": [
    "shike[shike['路线']=='Y6']['车次id'].unique()"
   ]
  },
  {
   "cell_type": "code",
   "execution_count": null,
   "id": "bb397f67",
   "metadata": {},
   "outputs": [],
   "source": [
    "duiying[duiying['车次id']==68]['车牌号'].values[0]"
   ]
  },
  {
   "cell_type": "code",
   "execution_count": null,
   "id": "224c804f",
   "metadata": {
    "scrolled": true
   },
   "outputs": [],
   "source": [
    "shike[shike['车次id']==260]['路线'].values[0]"
   ]
  },
  {
   "cell_type": "code",
   "execution_count": null,
   "id": "4fffe3b2",
   "metadata": {},
   "outputs": [],
   "source": [
    "this_bus_plate"
   ]
  },
  {
   "cell_type": "code",
   "execution_count": null,
   "id": "3c46367d",
   "metadata": {},
   "outputs": [],
   "source": [
    "duiying[duiying['车次id']==86]['车牌号'].values[0]"
   ]
  },
  {
   "cell_type": "code",
   "execution_count": null,
   "id": "155f3186",
   "metadata": {},
   "outputs": [],
   "source": []
  },
  {
   "cell_type": "code",
   "execution_count": null,
   "id": "98658856",
   "metadata": {},
   "outputs": [],
   "source": []
  },
  {
   "cell_type": "code",
   "execution_count": null,
   "id": "043d3093",
   "metadata": {},
   "outputs": [],
   "source": [
    "get_valid_checi('Y19', [260,300])"
   ]
  },
  {
   "cell_type": "code",
   "execution_count": 216,
   "id": "d1e607db",
   "metadata": {},
   "outputs": [
    {
     "data": {
      "text/plain": [
       "[1, 2, [3]]"
      ]
     },
     "execution_count": 216,
     "metadata": {},
     "output_type": "execute_result"
    }
   ],
   "source": [
    "a = [1,2]\n",
    "b = [3]\n",
    "a.append(b)\n",
    "a"
   ]
  },
  {
   "cell_type": "code",
   "execution_count": null,
   "id": "ae85b824",
   "metadata": {},
   "outputs": [],
   "source": []
  }
 ],
 "metadata": {
  "kernelspec": {
   "display_name": "Python 3 (ipykernel)",
   "language": "python",
   "name": "python3"
  },
  "language_info": {
   "codemirror_mode": {
    "name": "ipython",
    "version": 3
   },
   "file_extension": ".py",
   "mimetype": "text/x-python",
   "name": "python",
   "nbconvert_exporter": "python",
   "pygments_lexer": "ipython3",
   "version": "3.9.7"
  }
 },
 "nbformat": 4,
 "nbformat_minor": 5
}
