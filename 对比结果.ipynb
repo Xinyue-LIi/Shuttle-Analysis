{
 "cells": [
  {
   "cell_type": "code",
   "execution_count": 1,
   "id": "a9dbef32",
   "metadata": {},
   "outputs": [],
   "source": [
    "import pandas as pd\n",
    "from datetime import datetime, timedelta\n",
    "from geopy.distance import geodesic\n",
    "\n",
    "from warnings import simplefilter\n",
    "# ignore all future warnings\n",
    "simplefilter(action='ignore', category=FutureWarning)"
   ]
  },
  {
   "cell_type": "code",
   "execution_count": 12,
   "id": "58f3010c",
   "metadata": {},
   "outputs": [],
   "source": [
    "shike = pd.read_excel('C:/intern/data/docs_20220525/时刻表/shike.xlsx')"
   ]
  },
  {
   "cell_type": "code",
   "execution_count": 69,
   "id": "36fd4e0c",
   "metadata": {},
   "outputs": [],
   "source": [
    "def append_data(files):\n",
    "    appended_data = pd.DataFrame(columns=['日期','站点','距离','车次'])\n",
    "    for f in files:\n",
    "        each_data = pd.read_excel(f)\n",
    "        appended_data = appended_data.append(each_data)\n",
    "    return appended_data"
   ]
  },
  {
   "cell_type": "code",
   "execution_count": 70,
   "id": "bebe81f3",
   "metadata": {},
   "outputs": [],
   "source": [
    "def check_different_zhandian(before_df, after_df, riqi, checi):\n",
    "    before_zhandian_set = set(before_df[(before_df['日期']==riqi) & (before_df['车次']==checi)]['站点'].values)\n",
    "    after_zhandian_set = set(after_df[(after_df['日期']==riqi) & (after_df['车次']==checi)]['站点'].values)\n",
    "    diff_chandian = after_zhandian_set.difference(before_zhandian_set)\n",
    "    \n",
    "    return diff_chandian"
   ]
  },
  {
   "cell_type": "code",
   "execution_count": 78,
   "id": "6e96a148",
   "metadata": {},
   "outputs": [],
   "source": [
    "def checi_duiying_luxian(checi):\n",
    "    return shike[shike['车次id']==checi]['路线'].values[0]"
   ]
  },
  {
   "cell_type": "code",
   "execution_count": 85,
   "id": "01904f5b",
   "metadata": {},
   "outputs": [],
   "source": [
    "def check_zhandian_included_checi(zhandians, checi):\n",
    "    zhandian_list = list(zhandians)\n",
    "    res = []\n",
    "    for zhandian_ in zhandian_list:\n",
    "        val = shike[(shike['站点']==zhandian_)&(shike['车次id']==checi)]\n",
    "        if len(val)>0:\n",
    "            res.append(zhandian_)\n",
    "            \n",
    "    return res"
   ]
  },
  {
   "cell_type": "code",
   "execution_count": 91,
   "id": "da9f55aa",
   "metadata": {},
   "outputs": [],
   "source": [
    "def check_xinzeng_valid(xinzeng):\n",
    "    if len(xinzeng)>0:\n",
    "        return True\n",
    "    else:\n",
    "        return False"
   ]
  },
  {
   "cell_type": "code",
   "execution_count": 126,
   "id": "da7093b9",
   "metadata": {},
   "outputs": [],
   "source": [
    "def check_zhandian_distance(df, zhandians, riqi, checi):\n",
    "    dist_list = []\n",
    "    for zhandian_ in zhandians:\n",
    "        dist_ = df[(df['日期']==riqi) & (df['车次']==checi) & (df['站点']==zhandian_)]['距离'].values[0]\n",
    "        dist_list.append(dist_)\n",
    "    return dist_list"
   ]
  },
  {
   "cell_type": "code",
   "execution_count": 133,
   "id": "3ddc5f43",
   "metadata": {},
   "outputs": [],
   "source": [
    "file = ['C:/intern/data/docs_20220525/插值前后经停靠站点数对比0-90.xlsx',\n",
    "        'C:/intern/data/docs_20220525/插值前后经停靠站点数对比90-149.xlsx',\n",
    "        'C:/intern/data/docs_20220525/插值前后经停靠站点数对比150-221.xlsx',\n",
    "        'C:/intern/data/docs_20220525/插值前后经停靠站点数对比244-299.xlsx',\n",
    "        'C:/intern/data/docs_20220525/插值前后经停靠站点数对比300-399.xlsx',\n",
    "        'C:/intern/data/docs_20220525/插值前后经停靠站点数对比400-499.xlsx',\n",
    "        'C:/intern/data/docs_20220525/插值前后经停靠站点数对比500-558.xlsx']\n",
    "\n",
    "stop_before_file = ['C:/intern/data/docs_20220525/插值前停靠站点0-90.xlsx', \n",
    "                    'C:/intern/data/docs_20220525/插值前停靠站点90-149.xlsx', \n",
    "                    'C:/intern/data/docs_20220525/插值前停靠站点150-221.xlsx',\n",
    "                    'C:/intern/data/docs_20220525/插值前停靠站点244-299.xlsx', \n",
    "                    'C:/intern/data/docs_20220525/插值前停靠站点300-399.xlsx',\n",
    "                    'C:/intern/data/docs_20220525/插值前停靠站点400-499.xlsx',\n",
    "                    'C:/intern/data/docs_20220525/插值前停靠站点500-558.xlsx']\n",
    "\n",
    "stop_after_file = ['C:/intern/data/docs_20220525/插值后停靠站点0-90.xlsx',\n",
    "                   'C:/intern/data/docs_20220525/插值后停靠站点90-149.xlsx',\n",
    "                   'C:/intern/data/docs_20220525/插值后停靠站点150-221.xlsx',\n",
    "                   'C:/intern/data/docs_20220525/插值后停靠站点244-299.xlsx',\n",
    "                   'C:/intern/data/docs_20220525/插值后停靠站点300-399.xlsx',\n",
    "                   'C:/intern/data/docs_20220525/插值后停靠站点400-499.xlsx',\n",
    "                   'C:/intern/data/docs_20220525/插值后停靠站点500-558.xlsx']\n",
    "\n",
    "pass_before_file = ['C:/intern/data/docs_20220525/插值前经过站点0-90.xlsx',\n",
    "                    'C:/intern/data/docs_20220525/插值前经过站点90-149.xlsx',\n",
    "                    'C:/intern/data/docs_20220525/插值前经过站点150-221.xlsx',\n",
    "                    'C:/intern/data/docs_20220525/插值前经过站点244-299.xlsx',\n",
    "                    'C:/intern/data/docs_20220525/插值前经过站点300-399.xlsx',\n",
    "                    'C:/intern/data/docs_20220525/插值前经过站点400-499.xlsx',\n",
    "                    'C:/intern/data/docs_20220525/插值前经过站点500-558.xlsx']\n",
    "\n",
    "pass_after_file = ['C:/intern/data/docs_20220525/插值后经过站点0-90.xlsx',\n",
    "                   'C:/intern/data/docs_20220525/插值后经过站点90-149.xlsx',\n",
    "                   'C:/intern/data/docs_20220525/插值后经过站点150-221.xlsx',\n",
    "                   'C:/intern/data/docs_20220525/插值后经过站点244-299.xlsx',\n",
    "                   'C:/intern/data/docs_20220525/插值后经过站点300-399.xlsx',\n",
    "                   'C:/intern/data/docs_20220525/插值后经过站点400-499.xlsx',\n",
    "                   'C:/intern/data/docs_20220525/插值后经过站点500-558.xlsx']"
   ]
  },
  {
   "cell_type": "code",
   "execution_count": 134,
   "id": "07f0bc77",
   "metadata": {},
   "outputs": [],
   "source": [
    "stop_before_df = append_data(stop_before_file)\n",
    "stop_after_df = append_data(stop_after_file)\n",
    "pass_before_df = append_data(pass_before_file)\n",
    "pass_after_df = append_data(pass_after_file)"
   ]
  },
  {
   "cell_type": "code",
   "execution_count": 135,
   "id": "bcd72d7a",
   "metadata": {},
   "outputs": [],
   "source": [
    "data = pd.DataFrame(columns=['车次','日期','before_停靠站点数','after_停靠站点数','before_经过站点数','after_经过站点数'])\n",
    "for f in file:\n",
    "    each_data = pd.read_excel(f)\n",
    "    data = data.append(each_data)\n",
    "data['停靠差别'] = data['after_停靠站点数'] - data['before_停靠站点数']\n",
    "data['经过差别'] = data['after_经过站点数'] - data['before_经过站点数']"
   ]
  },
  {
   "cell_type": "code",
   "execution_count": 162,
   "id": "060ca932",
   "metadata": {
    "scrolled": true
   },
   "outputs": [],
   "source": [
    "def effect_info(standard_num):\n",
    "    stopdiff_checi = data[data['停靠差别']>standard_num]['车次'].values\n",
    "    stopdiff_riqi = data[data['停靠差别']>standard_num]['日期'].values\n",
    "    stop_df = pd.DataFrame({'车次':stopdiff_checi, '日期':stopdiff_riqi})\n",
    "\n",
    "    passdiff_checi = data[data['经过差别']>standard_num]['车次'].values\n",
    "    passdiff_riqi = data[data['经过差别']>standard_num]['日期'].values\n",
    "    pass_df = pd.DataFrame({'车次':passdiff_checi, '日期':passdiff_riqi})\n",
    "    stop_df['新增识别站点'] = stop_df.apply(lambda row: check_different_zhandian(stop_before_df,stop_after_df, row['日期'], row['车次']), axis=1)\n",
    "    pass_df['新增识别站点'] = pass_df.apply(lambda row: check_different_zhandian(pass_before_df,pass_after_df, row['日期'], row['车次']), axis=1)\n",
    "    stop_df['路线'] = stop_df['车次'].apply(checi_duiying_luxian)\n",
    "    pass_df['路线'] = pass_df['车次'].apply(checi_duiying_luxian)\n",
    "    stop_df['属于该车次的新增识别'] = stop_df.apply(lambda row: check_zhandian_included_checi(row['新增识别站点'], row['车次']), axis=1)\n",
    "    pass_df['属于该车次的新增识别'] = pass_df.apply(lambda row: check_zhandian_included_checi(row['新增识别站点'], row['车次']), axis=1)\n",
    "    stop_df['新增包含有效站点'] = stop_df['属于该车次的新增识别'].apply(check_xinzeng_valid)\n",
    "    pass_df['新增包含有效站点'] = pass_df['属于该车次的新增识别'].apply(check_xinzeng_valid)\n",
    "    stop_df['新增识别站点_距离km'] = stop_df.apply(lambda row: check_zhandian_distance(stop_after_df, row['新增识别站点'], row['日期'], row['车次']), axis=1)\n",
    "    pass_df['新增识别站点_距离km'] = pass_df.apply(lambda row: check_zhandian_distance(pass_after_df, row['新增识别站点'], row['日期'], row['车次']), axis=1)\n",
    "    stop_df = stop_df[['车次','路线','日期', '新增识别站点', '新增识别站点_距离km', '属于该车次的新增识别', '新增包含有效站点']]\n",
    "    pass_df = pass_df[['车次','路线','日期', '新增识别站点', '新增识别站点_距离km', '属于该车次的新增识别', '新增包含有效站点']]\n",
    "    stop_valid = stop_df[stop_df['新增包含有效站点']]\n",
    "    pass_valid =pass_df[pass_df['新增包含有效站点']]\n",
    "    \n",
    "    return stop_df, stop_valid, pass_df, pass_valid"
   ]
  },
  {
   "cell_type": "code",
   "execution_count": 164,
   "id": "749b4af0",
   "metadata": {},
   "outputs": [],
   "source": [
    "stop_df, stop_valid, pass_df, pass_valid = effect_info(3)"
   ]
  },
  {
   "cell_type": "code",
   "execution_count": 165,
   "id": "ce02e6c1",
   "metadata": {},
   "outputs": [],
   "source": [
    "stop_df.to_excel('C:/intern/data/docs_20220525/新增停靠信息_3.xlsx',index=False)\n",
    "pass_df.to_excel('C:/intern/data/docs_20220525/新增经过信息_3.xlsx',index=False)\n",
    "stop_valid.to_excel('C:/intern/data/docs_20220525/有效新增停靠信息_3.xlsx',index=False)\n",
    "pass_valid.to_excel('C:/intern/data/docs_20220525/有效新增经过信息_3.xlsx',index=False)"
   ]
  },
  {
   "cell_type": "code",
   "execution_count": 175,
   "id": "bc4cfc4b",
   "metadata": {},
   "outputs": [
    {
     "data": {
      "text/plain": [
       "Y3     1\n",
       "Y20    1\n",
       "Name: 路线, dtype: int64"
      ]
     },
     "execution_count": 175,
     "metadata": {},
     "output_type": "execute_result"
    }
   ],
   "source": [
    "#新增有效经过站点识别  路线信息\n",
    "pass_valid['路线'].value_counts()"
   ]
  },
  {
   "cell_type": "code",
   "execution_count": 61,
   "id": "9b4f2d2b",
   "metadata": {},
   "outputs": [],
   "source": []
  },
  {
   "cell_type": "code",
   "execution_count": 18,
   "id": "5a5a1ac6",
   "metadata": {},
   "outputs": [],
   "source": []
  },
  {
   "cell_type": "code",
   "execution_count": 64,
   "id": "15c919f8",
   "metadata": {},
   "outputs": [],
   "source": []
  },
  {
   "cell_type": "code",
   "execution_count": 66,
   "id": "56b43fad",
   "metadata": {},
   "outputs": [],
   "source": [
    "stop_luxian_df = pd.DataFrame(columns=['路线','车次'])\n",
    "pass_luxian_df = pd.DataFrame(columns=['路线','车次'])\n",
    "for each in stopdiff_checi:\n",
    "    luxian = checi_duiying_luxian(each, shike)\n",
    "    stop_luxian_df.loc[len(stop_luxian_df.index)] = [luxian, each]\n",
    "    \n",
    "for each in passdiff_checi:\n",
    "    luxian = checi_duiying_luxian(each, shike)\n",
    "    pass_luxian_df.loc[len(pass_luxian_df.index)] = [luxian, each]"
   ]
  },
  {
   "cell_type": "code",
   "execution_count": 68,
   "id": "62cc3f95",
   "metadata": {},
   "outputs": [
    {
     "data": {
      "text/html": [
       "<div>\n",
       "<style scoped>\n",
       "    .dataframe tbody tr th:only-of-type {\n",
       "        vertical-align: middle;\n",
       "    }\n",
       "\n",
       "    .dataframe tbody tr th {\n",
       "        vertical-align: top;\n",
       "    }\n",
       "\n",
       "    .dataframe thead th {\n",
       "        text-align: right;\n",
       "    }\n",
       "</style>\n",
       "<table border=\"1\" class=\"dataframe\">\n",
       "  <thead>\n",
       "    <tr style=\"text-align: right;\">\n",
       "      <th></th>\n",
       "      <th>路线</th>\n",
       "      <th>车次</th>\n",
       "    </tr>\n",
       "  </thead>\n",
       "  <tbody>\n",
       "    <tr>\n",
       "      <th>0</th>\n",
       "      <td>Y8</td>\n",
       "      <td>123</td>\n",
       "    </tr>\n",
       "    <tr>\n",
       "      <th>1</th>\n",
       "      <td>Y10</td>\n",
       "      <td>133</td>\n",
       "    </tr>\n",
       "    <tr>\n",
       "      <th>2</th>\n",
       "      <td>Y10</td>\n",
       "      <td>133</td>\n",
       "    </tr>\n",
       "    <tr>\n",
       "      <th>3</th>\n",
       "      <td>Y10</td>\n",
       "      <td>133</td>\n",
       "    </tr>\n",
       "    <tr>\n",
       "      <th>4</th>\n",
       "      <td>Y11</td>\n",
       "      <td>135</td>\n",
       "    </tr>\n",
       "    <tr>\n",
       "      <th>5</th>\n",
       "      <td>Y11</td>\n",
       "      <td>144</td>\n",
       "    </tr>\n",
       "    <tr>\n",
       "      <th>6</th>\n",
       "      <td>Y11</td>\n",
       "      <td>144</td>\n",
       "    </tr>\n",
       "    <tr>\n",
       "      <th>7</th>\n",
       "      <td>Y11</td>\n",
       "      <td>144</td>\n",
       "    </tr>\n",
       "    <tr>\n",
       "      <th>8</th>\n",
       "      <td>Y11</td>\n",
       "      <td>145</td>\n",
       "    </tr>\n",
       "    <tr>\n",
       "      <th>9</th>\n",
       "      <td>Y11</td>\n",
       "      <td>145</td>\n",
       "    </tr>\n",
       "    <tr>\n",
       "      <th>10</th>\n",
       "      <td>Y11</td>\n",
       "      <td>145</td>\n",
       "    </tr>\n",
       "    <tr>\n",
       "      <th>11</th>\n",
       "      <td>Y11</td>\n",
       "      <td>145</td>\n",
       "    </tr>\n",
       "  </tbody>\n",
       "</table>\n",
       "</div>"
      ],
      "text/plain": [
       "     路线   车次\n",
       "0    Y8  123\n",
       "1   Y10  133\n",
       "2   Y10  133\n",
       "3   Y10  133\n",
       "4   Y11  135\n",
       "5   Y11  144\n",
       "6   Y11  144\n",
       "7   Y11  144\n",
       "8   Y11  145\n",
       "9   Y11  145\n",
       "10  Y11  145\n",
       "11  Y11  145"
      ]
     },
     "execution_count": 68,
     "metadata": {},
     "output_type": "execute_result"
    }
   ],
   "source": [
    "stop_luxian_df"
   ]
  },
  {
   "cell_type": "code",
   "execution_count": null,
   "id": "6126fc66",
   "metadata": {},
   "outputs": [],
   "source": []
  }
 ],
 "metadata": {
  "kernelspec": {
   "display_name": "Python 3 (ipykernel)",
   "language": "python",
   "name": "python3"
  },
  "language_info": {
   "codemirror_mode": {
    "name": "ipython",
    "version": 3
   },
   "file_extension": ".py",
   "mimetype": "text/x-python",
   "name": "python",
   "nbconvert_exporter": "python",
   "pygments_lexer": "ipython3",
   "version": "3.9.7"
  }
 },
 "nbformat": 4,
 "nbformat_minor": 5
}
